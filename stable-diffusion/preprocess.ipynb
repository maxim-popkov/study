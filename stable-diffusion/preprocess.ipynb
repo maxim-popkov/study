{
 "cells": [
  {
   "cell_type": "code",
   "execution_count": 27,
   "metadata": {},
   "outputs": [],
   "source": [
    "import glob\n",
    "import shutil\n",
    "from pathlib import Path"
   ]
  },
  {
   "cell_type": "code",
   "execution_count": null,
   "metadata": {},
   "outputs": [],
   "source": [
    "#\n",
    "#\n",
    "#D:\\Downloads\\Техника безопасности"
   ]
  },
  {
   "cell_type": "code",
   "execution_count": 28,
   "metadata": {},
   "outputs": [],
   "source": [
    "src_dir = Path(r\"D:\\Downloads\\Двухсторонние маркированные почтовые карточки СССР 1952-1991 [2016, JPG, ~1103x1546±]\\Сканы ДМПК\\1965\")\n",
    "stage_dir = Path(r\"D:\\develop\\study\\stable-diffusion\\data\\raw\")\n",
    "tgt_dir = Path(r\"D:\\develop\\study\\stable-diffusion\\data\\tgt\")"
   ]
  },
  {
   "cell_type": "code",
   "execution_count": 29,
   "metadata": {},
   "outputs": [],
   "source": [
    "stage_dir.mkdir(parents=True, exist_ok=True)\n",
    "tgt_dir.mkdir(parents=True, exist_ok=True)"
   ]
  },
  {
   "cell_type": "code",
   "execution_count": 31,
   "metadata": {},
   "outputs": [],
   "source": [
    "all_src_images = src_dir.glob(\"*.jpg\")\n",
    "src_images_with_pic = []\n",
    "for src_img_path in all_src_images:\n",
    "    #удалить обратную сторону\n",
    "    if \"об\" in src_img_path.name:\n",
    "        continue\n",
    "    src_images_with_pic.append(src_img_path)"
   ]
  },
  {
   "cell_type": "code",
   "execution_count": 36,
   "metadata": {},
   "outputs": [],
   "source": [
    "# copy to stage dir\n",
    "for old_img_path in src_images_with_pic:\n",
    "    new_img_path = stage_dir / Path(old_img_path.name)\n",
    "    shutil.copy2(old_img_path, new_img_path)"
   ]
  },
  {
   "cell_type": "code",
   "execution_count": 56,
   "metadata": {},
   "outputs": [],
   "source": [
    "# rename img in stage dir\n",
    "all_stage_images = stage_dir.glob(\"*.jpg\")\n",
    "key_name = 'soviet_sd'\n",
    "for ix, img_path in enumerate(all_stage_images):\n",
    "    new_path = stage_dir / Path(f'{key_name} ({ix}).jpg')\n",
    "    img_path.rename(new_path)"
   ]
  },
  {
   "cell_type": "code",
   "execution_count": 58,
   "metadata": {},
   "outputs": [],
   "source": [
    "# rename img in tgt dir\n",
    "all_tgt_images = tgt_dir.glob(\"*.jpg\")\n",
    "key_name = 'sovietsd'\n",
    "for ix, img_path in enumerate(all_tgt_images):\n",
    "    new_path = tgt_dir / Path(f'{key_name} ({ix}).jpg')\n",
    "    img_path.rename(new_path)"
   ]
  },
  {
   "cell_type": "code",
   "execution_count": 62,
   "metadata": {},
   "outputs": [],
   "source": [
    "# rename img in captioned dir\n",
    "captions_dir = Path(r\"D:\\develop\\study\\stable-diffusion\\data\\captioned\")\n",
    "all_tgt_images = captions_dir.glob(\"*.png\")\n",
    "key_name = 'sovietsd'\n",
    "for ix, img_path in enumerate(all_tgt_images):\n",
    "    txt_path = captions_dir / Path(f'{img_path.stem}.txt')\n",
    "    \n",
    "    new_img_path = captions_dir / Path(f'{key_name} ({ix}).jpg')\n",
    "    new_txt_path = captions_dir / Path(f'{key_name} ({ix}).txt')\n",
    "\n",
    "    img_path.rename(new_img_path)\n",
    "    txt_path.rename(new_txt_path)"
   ]
  },
  {
   "cell_type": "code",
   "execution_count": null,
   "metadata": {},
   "outputs": [],
   "source": []
  },
  {
   "cell_type": "code",
   "execution_count": null,
   "metadata": {},
   "outputs": [],
   "source": []
  },
  {
   "cell_type": "code",
   "execution_count": null,
   "metadata": {},
   "outputs": [],
   "source": []
  }
 ],
 "metadata": {
  "kernelspec": {
   "display_name": "cvision",
   "language": "python",
   "name": "python3"
  },
  "language_info": {
   "codemirror_mode": {
    "name": "ipython",
    "version": 3
   },
   "file_extension": ".py",
   "mimetype": "text/x-python",
   "name": "python",
   "nbconvert_exporter": "python",
   "pygments_lexer": "ipython3",
   "version": "3.10.6"
  },
  "orig_nbformat": 4,
  "vscode": {
   "interpreter": {
    "hash": "5a890cbc48c77496e0bdec9a9d5c7daa1f36a327ffa3278aacff8f135e4931c1"
   }
  }
 },
 "nbformat": 4,
 "nbformat_minor": 2
}
