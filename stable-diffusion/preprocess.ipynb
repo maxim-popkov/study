{
 "cells": [
  {
   "attachments": {},
   "cell_type": "markdown",
   "metadata": {},
   "source": [
    "Imports"
   ]
  },
  {
   "cell_type": "code",
   "execution_count": 1,
   "metadata": {},
   "outputs": [],
   "source": [
    "import glob\n",
    "import shutil\n",
    "from pathlib import Path\n",
    "\n",
    "from PIL import Image"
   ]
  },
  {
   "attachments": {},
   "cell_type": "markdown",
   "metadata": {},
   "source": [
    "Soviet Marks Preprocess"
   ]
  },
  {
   "cell_type": "code",
   "execution_count": 2,
   "metadata": {},
   "outputs": [],
   "source": [
    "src_dir = Path(r\"D:\\Downloads\\Двухсторонние маркированные почтовые карточки СССР 1952-1991 [2016, JPG, ~1103x1546±]\\Сканы ДМПК\\1965\")\n",
    "stage_dir = Path(r\"D:\\develop\\study\\stable-diffusion\\data\\raw\")\n",
    "tgt_dir = Path(r\"D:\\develop\\study\\stable-diffusion\\data\\tgt\")"
   ]
  },
  {
   "cell_type": "code",
   "execution_count": 29,
   "metadata": {},
   "outputs": [],
   "source": [
    "stage_dir.mkdir(parents=True, exist_ok=True)\n",
    "tgt_dir.mkdir(parents=True, exist_ok=True)"
   ]
  },
  {
   "cell_type": "code",
   "execution_count": 31,
   "metadata": {},
   "outputs": [],
   "source": [
    "all_src_images = src_dir.glob(\"*.jpg\")\n",
    "src_images_with_pic = []\n",
    "for src_img_path in all_src_images:\n",
    "    #удалить обратную сторону\n",
    "    if \"об\" in src_img_path.name:\n",
    "        continue\n",
    "    src_images_with_pic.append(src_img_path)"
   ]
  },
  {
   "cell_type": "code",
   "execution_count": 36,
   "metadata": {},
   "outputs": [],
   "source": [
    "# copy to stage dir\n",
    "for old_img_path in src_images_with_pic:\n",
    "    new_img_path = stage_dir / Path(old_img_path.name)\n",
    "    shutil.copy2(old_img_path, new_img_path)"
   ]
  },
  {
   "cell_type": "code",
   "execution_count": 56,
   "metadata": {},
   "outputs": [],
   "source": [
    "# rename img in stage dir\n",
    "all_stage_images = stage_dir.glob(\"*.jpg\")\n",
    "key_name = 'soviet_sd'\n",
    "for ix, img_path in enumerate(all_stage_images):\n",
    "    new_path = stage_dir / Path(f'{key_name} ({ix}).jpg')\n",
    "    img_path.rename(new_path)"
   ]
  },
  {
   "cell_type": "code",
   "execution_count": 58,
   "metadata": {},
   "outputs": [],
   "source": [
    "# rename img in tgt dir\n",
    "all_tgt_images = tgt_dir.glob(\"*.jpg\")\n",
    "key_name = 'sovietsd'\n",
    "for ix, img_path in enumerate(all_tgt_images):\n",
    "    new_path = tgt_dir / Path(f'{key_name} ({ix}).jpg')\n",
    "    img_path.rename(new_path)"
   ]
  },
  {
   "cell_type": "code",
   "execution_count": 3,
   "metadata": {},
   "outputs": [],
   "source": [
    "# rename img in captioned dir\n",
    "captions_dir = Path(r\"D:\\develop\\study\\stable-diffusion\\data\\captioned\")\n",
    "all_tgt_images = captions_dir.glob(\"*.jpg\")\n",
    "key_name = 'sovietussrsd'\n",
    "for ix, img_path in enumerate(all_tgt_images):\n",
    "    txt_path = captions_dir / Path(f'{img_path.stem}.txt')\n",
    "    \n",
    "    new_img_path = captions_dir / Path(f'{key_name} ({ix}).jpg')\n",
    "    new_txt_path = captions_dir / Path(f'{key_name} ({ix}).txt')\n",
    "\n",
    "    img_path.rename(new_img_path)\n",
    "    txt_path.rename(new_txt_path)"
   ]
  },
  {
   "attachments": {},
   "cell_type": "markdown",
   "metadata": {},
   "source": [
    "Logo preprocess"
   ]
  },
  {
   "cell_type": "code",
   "execution_count": 44,
   "metadata": {},
   "outputs": [],
   "source": [
    "src_dirs = [\n",
    "    Path(r\"D:\\develop\\study\\stable-diffusion\\data\\raw\\logo-stocks\\path_1\"),\n",
    "    Path(r\"D:\\develop\\study\\stable-diffusion\\data\\raw\\logo-stocks\\path_2\")\n",
    "] "
   ]
  },
  {
   "cell_type": "code",
   "execution_count": 45,
   "metadata": {},
   "outputs": [],
   "source": [
    "stage_dir = Path(r\"D:\\develop\\study\\stable-diffusion\\data\\stage\\logo-stocks\")\n",
    "stage_dir.mkdir(parents=True, exist_ok=True)"
   ]
  },
  {
   "cell_type": "code",
   "execution_count": 46,
   "metadata": {},
   "outputs": [],
   "source": [
    "tgt_dir = Path(r\"D:\\develop\\study\\stable-diffusion\\data\\tgt\\logo-stocks\")\n",
    "tgt_dir.mkdir(parents=True, exist_ok=True)"
   ]
  },
  {
   "cell_type": "code",
   "execution_count": 47,
   "metadata": {},
   "outputs": [],
   "source": [
    "src_img_paths = []\n",
    "for src_dir in src_dirs:\n",
    "    img_paths = list(src_dir.glob(\"*.png\"))\n",
    "    src_img_paths.extend(img_paths)"
   ]
  },
  {
   "cell_type": "code",
   "execution_count": 48,
   "metadata": {},
   "outputs": [
    {
     "name": "stdout",
     "output_type": "stream",
     "text": [
      "D:\\develop\\study\\stable-diffusion\\data\\stage\\logo-stocks\\kanstockdiff (000).png\n",
      "D:\\develop\\study\\stable-diffusion\\data\\stage\\logo-stocks\\kanstockdiff (001).png\n",
      "D:\\develop\\study\\stable-diffusion\\data\\stage\\logo-stocks\\kanstockdiff (002).png\n",
      "D:\\develop\\study\\stable-diffusion\\data\\stage\\logo-stocks\\kanstockdiff (003).png\n",
      "D:\\develop\\study\\stable-diffusion\\data\\stage\\logo-stocks\\kanstockdiff (004).png\n",
      "D:\\develop\\study\\stable-diffusion\\data\\stage\\logo-stocks\\kanstockdiff (005).png\n",
      "D:\\develop\\study\\stable-diffusion\\data\\stage\\logo-stocks\\kanstockdiff (006).png\n",
      "D:\\develop\\study\\stable-diffusion\\data\\stage\\logo-stocks\\kanstockdiff (007).png\n",
      "D:\\develop\\study\\stable-diffusion\\data\\stage\\logo-stocks\\kanstockdiff (008).png\n",
      "D:\\develop\\study\\stable-diffusion\\data\\stage\\logo-stocks\\kanstockdiff (009).png\n",
      "D:\\develop\\study\\stable-diffusion\\data\\stage\\logo-stocks\\kanstockdiff (010).png\n",
      "D:\\develop\\study\\stable-diffusion\\data\\stage\\logo-stocks\\kanstockdiff (011).png\n",
      "D:\\develop\\study\\stable-diffusion\\data\\stage\\logo-stocks\\kanstockdiff (012).png\n",
      "D:\\develop\\study\\stable-diffusion\\data\\stage\\logo-stocks\\kanstockdiff (013).png\n",
      "D:\\develop\\study\\stable-diffusion\\data\\stage\\logo-stocks\\kanstockdiff (014).png\n",
      "D:\\develop\\study\\stable-diffusion\\data\\stage\\logo-stocks\\kanstockdiff (015).png\n",
      "D:\\develop\\study\\stable-diffusion\\data\\stage\\logo-stocks\\kanstockdiff (016).png\n",
      "D:\\develop\\study\\stable-diffusion\\data\\stage\\logo-stocks\\kanstockdiff (017).png\n",
      "D:\\develop\\study\\stable-diffusion\\data\\stage\\logo-stocks\\kanstockdiff (018).png\n",
      "D:\\develop\\study\\stable-diffusion\\data\\stage\\logo-stocks\\kanstockdiff (019).png\n",
      "D:\\develop\\study\\stable-diffusion\\data\\stage\\logo-stocks\\kanstockdiff (020).png\n",
      "D:\\develop\\study\\stable-diffusion\\data\\stage\\logo-stocks\\kanstockdiff (021).png\n",
      "D:\\develop\\study\\stable-diffusion\\data\\stage\\logo-stocks\\kanstockdiff (022).png\n",
      "D:\\develop\\study\\stable-diffusion\\data\\stage\\logo-stocks\\kanstockdiff (023).png\n",
      "D:\\develop\\study\\stable-diffusion\\data\\stage\\logo-stocks\\kanstockdiff (024).png\n",
      "D:\\develop\\study\\stable-diffusion\\data\\stage\\logo-stocks\\kanstockdiff (025).png\n",
      "D:\\develop\\study\\stable-diffusion\\data\\stage\\logo-stocks\\kanstockdiff (026).png\n",
      "D:\\develop\\study\\stable-diffusion\\data\\stage\\logo-stocks\\kanstockdiff (027).png\n",
      "D:\\develop\\study\\stable-diffusion\\data\\stage\\logo-stocks\\kanstockdiff (028).png\n",
      "D:\\develop\\study\\stable-diffusion\\data\\stage\\logo-stocks\\kanstockdiff (029).png\n",
      "D:\\develop\\study\\stable-diffusion\\data\\stage\\logo-stocks\\kanstockdiff (030).png\n",
      "D:\\develop\\study\\stable-diffusion\\data\\stage\\logo-stocks\\kanstockdiff (031).png\n",
      "D:\\develop\\study\\stable-diffusion\\data\\stage\\logo-stocks\\kanstockdiff (032).png\n",
      "D:\\develop\\study\\stable-diffusion\\data\\stage\\logo-stocks\\kanstockdiff (033).png\n",
      "D:\\develop\\study\\stable-diffusion\\data\\stage\\logo-stocks\\kanstockdiff (034).png\n",
      "D:\\develop\\study\\stable-diffusion\\data\\stage\\logo-stocks\\kanstockdiff (035).png\n",
      "D:\\develop\\study\\stable-diffusion\\data\\stage\\logo-stocks\\kanstockdiff (036).png\n",
      "D:\\develop\\study\\stable-diffusion\\data\\stage\\logo-stocks\\kanstockdiff (037).png\n",
      "D:\\develop\\study\\stable-diffusion\\data\\stage\\logo-stocks\\kanstockdiff (038).png\n",
      "D:\\develop\\study\\stable-diffusion\\data\\stage\\logo-stocks\\kanstockdiff (039).png\n",
      "D:\\develop\\study\\stable-diffusion\\data\\stage\\logo-stocks\\kanstockdiff (040).png\n",
      "D:\\develop\\study\\stable-diffusion\\data\\stage\\logo-stocks\\kanstockdiff (041).png\n",
      "D:\\develop\\study\\stable-diffusion\\data\\stage\\logo-stocks\\kanstockdiff (042).png\n",
      "D:\\develop\\study\\stable-diffusion\\data\\stage\\logo-stocks\\kanstockdiff (043).png\n",
      "D:\\develop\\study\\stable-diffusion\\data\\stage\\logo-stocks\\kanstockdiff (044).png\n",
      "D:\\develop\\study\\stable-diffusion\\data\\stage\\logo-stocks\\kanstockdiff (045).png\n",
      "D:\\develop\\study\\stable-diffusion\\data\\stage\\logo-stocks\\kanstockdiff (046).png\n",
      "D:\\develop\\study\\stable-diffusion\\data\\stage\\logo-stocks\\kanstockdiff (047).png\n",
      "D:\\develop\\study\\stable-diffusion\\data\\stage\\logo-stocks\\kanstockdiff (048).png\n",
      "D:\\develop\\study\\stable-diffusion\\data\\stage\\logo-stocks\\kanstockdiff (049).png\n",
      "D:\\develop\\study\\stable-diffusion\\data\\stage\\logo-stocks\\kanstockdiff (050).png\n",
      "D:\\develop\\study\\stable-diffusion\\data\\stage\\logo-stocks\\kanstockdiff (051).png\n",
      "D:\\develop\\study\\stable-diffusion\\data\\stage\\logo-stocks\\kanstockdiff (052).png\n",
      "D:\\develop\\study\\stable-diffusion\\data\\stage\\logo-stocks\\kanstockdiff (053).png\n",
      "D:\\develop\\study\\stable-diffusion\\data\\stage\\logo-stocks\\kanstockdiff (054).png\n",
      "D:\\develop\\study\\stable-diffusion\\data\\stage\\logo-stocks\\kanstockdiff (055).png\n",
      "D:\\develop\\study\\stable-diffusion\\data\\stage\\logo-stocks\\kanstockdiff (056).png\n",
      "D:\\develop\\study\\stable-diffusion\\data\\stage\\logo-stocks\\kanstockdiff (057).png\n",
      "D:\\develop\\study\\stable-diffusion\\data\\stage\\logo-stocks\\kanstockdiff (058).png\n",
      "D:\\develop\\study\\stable-diffusion\\data\\stage\\logo-stocks\\kanstockdiff (059).png\n",
      "D:\\develop\\study\\stable-diffusion\\data\\stage\\logo-stocks\\kanstockdiff (060).png\n",
      "D:\\develop\\study\\stable-diffusion\\data\\stage\\logo-stocks\\kanstockdiff (061).png\n",
      "D:\\develop\\study\\stable-diffusion\\data\\stage\\logo-stocks\\kanstockdiff (062).png\n",
      "D:\\develop\\study\\stable-diffusion\\data\\stage\\logo-stocks\\kanstockdiff (063).png\n",
      "D:\\develop\\study\\stable-diffusion\\data\\stage\\logo-stocks\\kanstockdiff (064).png\n",
      "D:\\develop\\study\\stable-diffusion\\data\\stage\\logo-stocks\\kanstockdiff (065).png\n",
      "D:\\develop\\study\\stable-diffusion\\data\\stage\\logo-stocks\\kanstockdiff (066).png\n",
      "D:\\develop\\study\\stable-diffusion\\data\\stage\\logo-stocks\\kanstockdiff (067).png\n",
      "D:\\develop\\study\\stable-diffusion\\data\\stage\\logo-stocks\\kanstockdiff (068).png\n",
      "D:\\develop\\study\\stable-diffusion\\data\\stage\\logo-stocks\\kanstockdiff (069).png\n",
      "D:\\develop\\study\\stable-diffusion\\data\\stage\\logo-stocks\\kanstockdiff (070).png\n",
      "D:\\develop\\study\\stable-diffusion\\data\\stage\\logo-stocks\\kanstockdiff (071).png\n",
      "D:\\develop\\study\\stable-diffusion\\data\\stage\\logo-stocks\\kanstockdiff (072).png\n",
      "D:\\develop\\study\\stable-diffusion\\data\\stage\\logo-stocks\\kanstockdiff (073).png\n",
      "D:\\develop\\study\\stable-diffusion\\data\\stage\\logo-stocks\\kanstockdiff (074).png\n",
      "D:\\develop\\study\\stable-diffusion\\data\\stage\\logo-stocks\\kanstockdiff (075).png\n",
      "D:\\develop\\study\\stable-diffusion\\data\\stage\\logo-stocks\\kanstockdiff (076).png\n",
      "D:\\develop\\study\\stable-diffusion\\data\\stage\\logo-stocks\\kanstockdiff (077).png\n",
      "D:\\develop\\study\\stable-diffusion\\data\\stage\\logo-stocks\\kanstockdiff (078).png\n",
      "D:\\develop\\study\\stable-diffusion\\data\\stage\\logo-stocks\\kanstockdiff (079).png\n",
      "D:\\develop\\study\\stable-diffusion\\data\\stage\\logo-stocks\\kanstockdiff (080).png\n",
      "D:\\develop\\study\\stable-diffusion\\data\\stage\\logo-stocks\\kanstockdiff (081).png\n",
      "D:\\develop\\study\\stable-diffusion\\data\\stage\\logo-stocks\\kanstockdiff (082).png\n",
      "D:\\develop\\study\\stable-diffusion\\data\\stage\\logo-stocks\\kanstockdiff (083).png\n",
      "D:\\develop\\study\\stable-diffusion\\data\\stage\\logo-stocks\\kanstockdiff (084).png\n",
      "D:\\develop\\study\\stable-diffusion\\data\\stage\\logo-stocks\\kanstockdiff (085).png\n",
      "D:\\develop\\study\\stable-diffusion\\data\\stage\\logo-stocks\\kanstockdiff (086).png\n",
      "D:\\develop\\study\\stable-diffusion\\data\\stage\\logo-stocks\\kanstockdiff (087).png\n",
      "D:\\develop\\study\\stable-diffusion\\data\\stage\\logo-stocks\\kanstockdiff (088).png\n",
      "D:\\develop\\study\\stable-diffusion\\data\\stage\\logo-stocks\\kanstockdiff (089).png\n",
      "D:\\develop\\study\\stable-diffusion\\data\\stage\\logo-stocks\\kanstockdiff (090).png\n",
      "D:\\develop\\study\\stable-diffusion\\data\\stage\\logo-stocks\\kanstockdiff (091).png\n",
      "D:\\develop\\study\\stable-diffusion\\data\\stage\\logo-stocks\\kanstockdiff (092).png\n",
      "D:\\develop\\study\\stable-diffusion\\data\\stage\\logo-stocks\\kanstockdiff (093).png\n",
      "D:\\develop\\study\\stable-diffusion\\data\\stage\\logo-stocks\\kanstockdiff (094).png\n",
      "D:\\develop\\study\\stable-diffusion\\data\\stage\\logo-stocks\\kanstockdiff (095).png\n",
      "D:\\develop\\study\\stable-diffusion\\data\\stage\\logo-stocks\\kanstockdiff (096).png\n",
      "D:\\develop\\study\\stable-diffusion\\data\\stage\\logo-stocks\\kanstockdiff (097).png\n",
      "D:\\develop\\study\\stable-diffusion\\data\\stage\\logo-stocks\\kanstockdiff (098).png\n",
      "D:\\develop\\study\\stable-diffusion\\data\\stage\\logo-stocks\\kanstockdiff (099).png\n",
      "D:\\develop\\study\\stable-diffusion\\data\\stage\\logo-stocks\\kanstockdiff (100).png\n",
      "D:\\develop\\study\\stable-diffusion\\data\\stage\\logo-stocks\\kanstockdiff (101).png\n",
      "D:\\develop\\study\\stable-diffusion\\data\\stage\\logo-stocks\\kanstockdiff (102).png\n",
      "D:\\develop\\study\\stable-diffusion\\data\\stage\\logo-stocks\\kanstockdiff (103).png\n",
      "D:\\develop\\study\\stable-diffusion\\data\\stage\\logo-stocks\\kanstockdiff (104).png\n",
      "D:\\develop\\study\\stable-diffusion\\data\\stage\\logo-stocks\\kanstockdiff (105).png\n",
      "D:\\develop\\study\\stable-diffusion\\data\\stage\\logo-stocks\\kanstockdiff (106).png\n",
      "D:\\develop\\study\\stable-diffusion\\data\\stage\\logo-stocks\\kanstockdiff (107).png\n",
      "D:\\develop\\study\\stable-diffusion\\data\\stage\\logo-stocks\\kanstockdiff (108).png\n",
      "D:\\develop\\study\\stable-diffusion\\data\\stage\\logo-stocks\\kanstockdiff (109).png\n",
      "D:\\develop\\study\\stable-diffusion\\data\\stage\\logo-stocks\\kanstockdiff (110).png\n",
      "D:\\develop\\study\\stable-diffusion\\data\\stage\\logo-stocks\\kanstockdiff (111).png\n",
      "D:\\develop\\study\\stable-diffusion\\data\\stage\\logo-stocks\\kanstockdiff (112).png\n",
      "D:\\develop\\study\\stable-diffusion\\data\\stage\\logo-stocks\\kanstockdiff (113).png\n",
      "D:\\develop\\study\\stable-diffusion\\data\\stage\\logo-stocks\\kanstockdiff (114).png\n",
      "D:\\develop\\study\\stable-diffusion\\data\\stage\\logo-stocks\\kanstockdiff (115).png\n",
      "D:\\develop\\study\\stable-diffusion\\data\\stage\\logo-stocks\\kanstockdiff (116).png\n",
      "D:\\develop\\study\\stable-diffusion\\data\\stage\\logo-stocks\\kanstockdiff (117).png\n",
      "D:\\develop\\study\\stable-diffusion\\data\\stage\\logo-stocks\\kanstockdiff (118).png\n",
      "D:\\develop\\study\\stable-diffusion\\data\\stage\\logo-stocks\\kanstockdiff (119).png\n",
      "D:\\develop\\study\\stable-diffusion\\data\\stage\\logo-stocks\\kanstockdiff (120).png\n",
      "D:\\develop\\study\\stable-diffusion\\data\\stage\\logo-stocks\\kanstockdiff (121).png\n",
      "D:\\develop\\study\\stable-diffusion\\data\\stage\\logo-stocks\\kanstockdiff (122).png\n",
      "D:\\develop\\study\\stable-diffusion\\data\\stage\\logo-stocks\\kanstockdiff (123).png\n",
      "D:\\develop\\study\\stable-diffusion\\data\\stage\\logo-stocks\\kanstockdiff (124).png\n",
      "D:\\develop\\study\\stable-diffusion\\data\\stage\\logo-stocks\\kanstockdiff (125).png\n",
      "D:\\develop\\study\\stable-diffusion\\data\\stage\\logo-stocks\\kanstockdiff (126).png\n",
      "D:\\develop\\study\\stable-diffusion\\data\\stage\\logo-stocks\\kanstockdiff (127).png\n",
      "D:\\develop\\study\\stable-diffusion\\data\\stage\\logo-stocks\\kanstockdiff (128).png\n",
      "D:\\develop\\study\\stable-diffusion\\data\\stage\\logo-stocks\\kanstockdiff (129).png\n",
      "D:\\develop\\study\\stable-diffusion\\data\\stage\\logo-stocks\\kanstockdiff (130).png\n",
      "D:\\develop\\study\\stable-diffusion\\data\\stage\\logo-stocks\\kanstockdiff (131).png\n",
      "D:\\develop\\study\\stable-diffusion\\data\\stage\\logo-stocks\\kanstockdiff (132).png\n",
      "D:\\develop\\study\\stable-diffusion\\data\\stage\\logo-stocks\\kanstockdiff (133).png\n",
      "D:\\develop\\study\\stable-diffusion\\data\\stage\\logo-stocks\\kanstockdiff (134).png\n",
      "D:\\develop\\study\\stable-diffusion\\data\\stage\\logo-stocks\\kanstockdiff (135).png\n",
      "D:\\develop\\study\\stable-diffusion\\data\\stage\\logo-stocks\\kanstockdiff (136).png\n",
      "D:\\develop\\study\\stable-diffusion\\data\\stage\\logo-stocks\\kanstockdiff (137).png\n",
      "D:\\develop\\study\\stable-diffusion\\data\\stage\\logo-stocks\\kanstockdiff (138).png\n",
      "D:\\develop\\study\\stable-diffusion\\data\\stage\\logo-stocks\\kanstockdiff (139).png\n",
      "D:\\develop\\study\\stable-diffusion\\data\\stage\\logo-stocks\\kanstockdiff (140).png\n",
      "D:\\develop\\study\\stable-diffusion\\data\\stage\\logo-stocks\\kanstockdiff (141).png\n",
      "D:\\develop\\study\\stable-diffusion\\data\\stage\\logo-stocks\\kanstockdiff (142).png\n",
      "D:\\develop\\study\\stable-diffusion\\data\\stage\\logo-stocks\\kanstockdiff (143).png\n",
      "D:\\develop\\study\\stable-diffusion\\data\\stage\\logo-stocks\\kanstockdiff (144).png\n",
      "D:\\develop\\study\\stable-diffusion\\data\\stage\\logo-stocks\\kanstockdiff (145).png\n",
      "D:\\develop\\study\\stable-diffusion\\data\\stage\\logo-stocks\\kanstockdiff (146).png\n",
      "D:\\develop\\study\\stable-diffusion\\data\\stage\\logo-stocks\\kanstockdiff (147).png\n",
      "D:\\develop\\study\\stable-diffusion\\data\\stage\\logo-stocks\\kanstockdiff (148).png\n",
      "D:\\develop\\study\\stable-diffusion\\data\\stage\\logo-stocks\\kanstockdiff (149).png\n",
      "D:\\develop\\study\\stable-diffusion\\data\\stage\\logo-stocks\\kanstockdiff (150).png\n",
      "D:\\develop\\study\\stable-diffusion\\data\\stage\\logo-stocks\\kanstockdiff (151).png\n",
      "D:\\develop\\study\\stable-diffusion\\data\\stage\\logo-stocks\\kanstockdiff (152).png\n",
      "D:\\develop\\study\\stable-diffusion\\data\\stage\\logo-stocks\\kanstockdiff (153).png\n",
      "D:\\develop\\study\\stable-diffusion\\data\\stage\\logo-stocks\\kanstockdiff (154).png\n",
      "D:\\develop\\study\\stable-diffusion\\data\\stage\\logo-stocks\\kanstockdiff (155).png\n",
      "D:\\develop\\study\\stable-diffusion\\data\\stage\\logo-stocks\\kanstockdiff (156).png\n",
      "D:\\develop\\study\\stable-diffusion\\data\\stage\\logo-stocks\\kanstockdiff (157).png\n",
      "D:\\develop\\study\\stable-diffusion\\data\\stage\\logo-stocks\\kanstockdiff (158).png\n",
      "D:\\develop\\study\\stable-diffusion\\data\\stage\\logo-stocks\\kanstockdiff (159).png\n",
      "D:\\develop\\study\\stable-diffusion\\data\\stage\\logo-stocks\\kanstockdiff (160).png\n",
      "D:\\develop\\study\\stable-diffusion\\data\\stage\\logo-stocks\\kanstockdiff (161).png\n",
      "D:\\develop\\study\\stable-diffusion\\data\\stage\\logo-stocks\\kanstockdiff (162).png\n",
      "D:\\develop\\study\\stable-diffusion\\data\\stage\\logo-stocks\\kanstockdiff (163).png\n",
      "D:\\develop\\study\\stable-diffusion\\data\\stage\\logo-stocks\\kanstockdiff (164).png\n",
      "D:\\develop\\study\\stable-diffusion\\data\\stage\\logo-stocks\\kanstockdiff (165).png\n",
      "D:\\develop\\study\\stable-diffusion\\data\\stage\\logo-stocks\\kanstockdiff (166).png\n",
      "D:\\develop\\study\\stable-diffusion\\data\\stage\\logo-stocks\\kanstockdiff (167).png\n",
      "D:\\develop\\study\\stable-diffusion\\data\\stage\\logo-stocks\\kanstockdiff (168).png\n",
      "D:\\develop\\study\\stable-diffusion\\data\\stage\\logo-stocks\\kanstockdiff (169).png\n",
      "D:\\develop\\study\\stable-diffusion\\data\\stage\\logo-stocks\\kanstockdiff (170).png\n",
      "D:\\develop\\study\\stable-diffusion\\data\\stage\\logo-stocks\\kanstockdiff (171).png\n",
      "D:\\develop\\study\\stable-diffusion\\data\\stage\\logo-stocks\\kanstockdiff (172).png\n",
      "D:\\develop\\study\\stable-diffusion\\data\\stage\\logo-stocks\\kanstockdiff (173).png\n",
      "D:\\develop\\study\\stable-diffusion\\data\\stage\\logo-stocks\\kanstockdiff (174).png\n",
      "D:\\develop\\study\\stable-diffusion\\data\\stage\\logo-stocks\\kanstockdiff (175).png\n",
      "D:\\develop\\study\\stable-diffusion\\data\\stage\\logo-stocks\\kanstockdiff (176).png\n",
      "D:\\develop\\study\\stable-diffusion\\data\\stage\\logo-stocks\\kanstockdiff (177).png\n",
      "D:\\develop\\study\\stable-diffusion\\data\\stage\\logo-stocks\\kanstockdiff (178).png\n",
      "D:\\develop\\study\\stable-diffusion\\data\\stage\\logo-stocks\\kanstockdiff (179).png\n",
      "D:\\develop\\study\\stable-diffusion\\data\\stage\\logo-stocks\\kanstockdiff (180).png\n",
      "D:\\develop\\study\\stable-diffusion\\data\\stage\\logo-stocks\\kanstockdiff (181).png\n",
      "D:\\develop\\study\\stable-diffusion\\data\\stage\\logo-stocks\\kanstockdiff (182).png\n",
      "D:\\develop\\study\\stable-diffusion\\data\\stage\\logo-stocks\\kanstockdiff (183).png\n",
      "D:\\develop\\study\\stable-diffusion\\data\\stage\\logo-stocks\\kanstockdiff (184).png\n",
      "D:\\develop\\study\\stable-diffusion\\data\\stage\\logo-stocks\\kanstockdiff (185).png\n",
      "D:\\develop\\study\\stable-diffusion\\data\\stage\\logo-stocks\\kanstockdiff (186).png\n",
      "D:\\develop\\study\\stable-diffusion\\data\\stage\\logo-stocks\\kanstockdiff (187).png\n",
      "D:\\develop\\study\\stable-diffusion\\data\\stage\\logo-stocks\\kanstockdiff (188).png\n",
      "D:\\develop\\study\\stable-diffusion\\data\\stage\\logo-stocks\\kanstockdiff (189).png\n",
      "D:\\develop\\study\\stable-diffusion\\data\\stage\\logo-stocks\\kanstockdiff (190).png\n",
      "D:\\develop\\study\\stable-diffusion\\data\\stage\\logo-stocks\\kanstockdiff (191).png\n",
      "D:\\develop\\study\\stable-diffusion\\data\\stage\\logo-stocks\\kanstockdiff (192).png\n",
      "D:\\develop\\study\\stable-diffusion\\data\\stage\\logo-stocks\\kanstockdiff (193).png\n",
      "D:\\develop\\study\\stable-diffusion\\data\\stage\\logo-stocks\\kanstockdiff (194).png\n",
      "D:\\develop\\study\\stable-diffusion\\data\\stage\\logo-stocks\\kanstockdiff (195).png\n",
      "D:\\develop\\study\\stable-diffusion\\data\\stage\\logo-stocks\\kanstockdiff (196).png\n",
      "D:\\develop\\study\\stable-diffusion\\data\\stage\\logo-stocks\\kanstockdiff (197).png\n",
      "D:\\develop\\study\\stable-diffusion\\data\\stage\\logo-stocks\\kanstockdiff (198).png\n",
      "D:\\develop\\study\\stable-diffusion\\data\\stage\\logo-stocks\\kanstockdiff (199).png\n",
      "D:\\develop\\study\\stable-diffusion\\data\\stage\\logo-stocks\\kanstockdiff (200).png\n"
     ]
    }
   ],
   "source": [
    "MAX_DIM_SIZE = 512 \n",
    "\n",
    "key = \"kanstockdiff\"\n",
    "for ix, img_path in enumerate(src_img_paths):\n",
    "    im = Image.open(img_path)\n",
    "    height, width = im.height, im.width    \n",
    "    new_width  = MAX_DIM_SIZE * width / height\n",
    "    new_height = MAX_DIM_SIZE * height / width \n",
    "\n",
    "    if any([MAX_DIM_SIZE - new_width, MAX_DIM_SIZE - new_height]):\n",
    "        max_size = (MAX_DIM_SIZE*2, MAX_DIM_SIZE*2)\n",
    "    else:\n",
    "        max_size = (MAX_DIM_SIZE, MAX_DIM_SIZE)\n",
    "    \n",
    "    im.thumbnail(max_size, Image.Resampling.LANCZOS)\n",
    "    new_img_path = stage_dir / Path(f\"{key} ({ix:03d}).png\")\n",
    "    im.save(new_img_path)\n",
    "    print(new_img_path)"
   ]
  },
  {
   "cell_type": "code",
   "execution_count": 49,
   "metadata": {},
   "outputs": [],
   "source": [
    "# rename img in captioned dir\n",
    "captions_dir = Path(r\"D:\\develop\\study\\stable-diffusion\\data\\tgt\\logo-stocks\")\n",
    "all_tgt_images = captions_dir.glob(\"*.png\")\n",
    "key_name = 'kanstockdiff'\n",
    "for ix, img_path in enumerate(all_tgt_images):\n",
    "    txt_path = captions_dir / Path(f'{img_path.stem}.txt')\n",
    "    \n",
    "    new_img_path = captions_dir / Path(f'{key_name} ({ix}).png')\n",
    "    new_txt_path = captions_dir / Path(f'{key_name} ({ix}).txt')\n",
    "\n",
    "    img_path.rename(new_img_path)\n",
    "    txt_path.rename(new_txt_path)"
   ]
  },
  {
   "cell_type": "code",
   "execution_count": 37,
   "metadata": {},
   "outputs": [
    {
     "data": {
      "text/plain": [
       "(512.0, 512.0)"
      ]
     },
     "execution_count": 37,
     "metadata": {},
     "output_type": "execute_result"
    }
   ],
   "source": [
    "height, width = 1024, 1024\n",
    "# height, width = im.height, im.width\n",
    "\n",
    "new_tgt_height = 512\n",
    "new_width  = new_tgt_height * width / height\n",
    "\n",
    "new_tgt_width  = 512\n",
    "new_height = new_tgt_width * height / width \n",
    "new_width, new_height"
   ]
  },
  {
   "attachments": {},
   "cell_type": "markdown",
   "metadata": {},
   "source": [
    "Sardana Diffusion"
   ]
  },
  {
   "cell_type": "code",
   "execution_count": null,
   "metadata": {},
   "outputs": [],
   "source": [
    "# rename img in captioned dir\n",
    "captions_dir = Path(r\"D:\\develop\\sd\\sardana\\sardana-stage\")\n",
    "all_tgt_images = captions_dir.glob(\"*.png\")\n",
    "key_name = 'sardanasd'\n",
    "for ix, img_path in enumerate(all_tgt_images):\n",
    "    txt_path = captions_dir / Path(f'{img_path.stem}.txt')\n",
    "    \n",
    "    new_img_path = captions_dir / Path(f'{key_name} ({ix}).png')\n",
    "    new_txt_path = captions_dir / Path(f'{key_name} ({ix}).txt')\n",
    "\n",
    "    img_path.rename(new_img_path)\n",
    "    txt_path.rename(new_txt_path)"
   ]
  },
  {
   "cell_type": "code",
   "execution_count": null,
   "metadata": {},
   "outputs": [],
   "source": []
  },
  {
   "cell_type": "code",
   "execution_count": 38,
   "metadata": {},
   "outputs": [],
   "source": [
    "# delta_width = 0\n",
    "# delta_height = 0\n",
    "\n",
    "# if new_width < new_tgt_width:\n",
    "#     delta_width = new_tgt_width - new_width\n",
    "\n",
    "# if new_height < new_tgt_height:\n",
    "#     delta_height = new_tgt_height - new_height\n",
    "\n"
   ]
  },
  {
   "cell_type": "code",
   "execution_count": 39,
   "metadata": {},
   "outputs": [
    {
     "data": {
      "text/plain": [
       "False"
      ]
     },
     "execution_count": 39,
     "metadata": {},
     "output_type": "execute_result"
    }
   ],
   "source": []
  },
  {
   "cell_type": "code",
   "execution_count": null,
   "metadata": {},
   "outputs": [],
   "source": [
    "ice frozen, on soft neon blue background\n",
    "Grass texture texture, on soft neon blue background\n",
    "moss\n",
    "\n",
    "by florianne becker\n",
    "\n",
    " japanese fairytale red maple tree, vivid tones, wide angle, by miyazaki, nausicaa ghibli, breath of the wild\n",
    "\n",
    " tree, d & d fantasy art, digital painting, magical forest\n",
    "\n",
    " Typeface Letter A made of lichen and mosses\n",
    "\n",
    "\n",
    " metal titan, on soft neon blue background\n",
    "\n",
    "Ultra realistic illustration, Medieval barracks in ruins, battle remains, very young medieval soldiers thin and hungry, dirty armors, highly detailed, digital painting, artstation, concept art, smooth, sharp focus, illustration, art by artgerm and greg rutkowski and alphonse mucha"
   ]
  }
 ],
 "metadata": {
  "kernelspec": {
   "display_name": "cvision",
   "language": "python",
   "name": "python3"
  },
  "language_info": {
   "codemirror_mode": {
    "name": "ipython",
    "version": 3
   },
   "file_extension": ".py",
   "mimetype": "text/x-python",
   "name": "python",
   "nbconvert_exporter": "python",
   "pygments_lexer": "ipython3",
   "version": "3.10.6"
  },
  "orig_nbformat": 4,
  "vscode": {
   "interpreter": {
    "hash": "5a890cbc48c77496e0bdec9a9d5c7daa1f36a327ffa3278aacff8f135e4931c1"
   }
  }
 },
 "nbformat": 4,
 "nbformat_minor": 2
}
