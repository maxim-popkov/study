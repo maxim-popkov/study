{
 "cells": [
  {
   "cell_type": "code",
   "execution_count": 128,
   "metadata": {},
   "outputs": [],
   "source": [
    "import subprocess\n",
    "from pathlib import Path\n",
    "\n",
    "\n",
    "def clear_folder(folder_path):\n",
    "    for item in folder_path.iterdir():\n",
    "        if item.is_file():\n",
    "            item.unlink()\n",
    "\n",
    "\n",
    "video_path = Path(\"./data/ebsynth-maks-2/video_2023-03-25_18-43-23.mp4\")\n",
    "output_folder = Path(\"./data/ebsynth-maks-2/video-sq/\")\n",
    "\n",
    "if not output_folder.exists():\n",
    "    output_folder.mkdir(parents=True, exist_ok=True)\n",
    "\n",
    "# Очистка папки перед каждым запуском\n",
    "clear_folder(output_folder)"
   ]
  },
  {
   "cell_type": "code",
   "execution_count": 129,
   "metadata": {},
   "outputs": [],
   "source": [
    "import subprocess\n",
    "from pathlib import Path\n",
    "\n",
    "fps = 25\n",
    "scale = 512\n",
    "# Добавление фильтров масштабирования, заполнения темным и установки FPS\n",
    "command = f'ffmpeg -i \"{video_path.as_posix()}\" -vf \"fps={fps},scale={scale}:{scale}:force_original_aspect_ratio=increase,crop={scale}:{scale}\" \"{(output_folder / \"%04d.png\").as_posix()}\"'\n",
    "\n",
    "# Добавление фильтров масштабирования, заполнения темным и установки FPS\n",
    "# command = f'ffmpeg -i \"{video_path.as_posix()}\" -vf \"fps={fps},scale={max_size}:{max_size}:force_original_aspect_ratio=decrease,pad={max_size}:{max_size}:(ow-iw)/2:(oh-ih)/2:black\" \"{(output_folder / \"%04d.png\").as_posix()}\"'\n",
    "\n",
    "try:\n",
    "    result = subprocess.run(command, shell=True, check=True, stdout=subprocess.PIPE, stderr=subprocess.PIPE)\n",
    "except subprocess.CalledProcessError as e:\n",
    "    print(f\"Error: {e.returncode}\")\n",
    "    print(\"FFmpeg output:\")\n",
    "    print(e.stderr.decode())\n"
   ]
  },
  {
   "attachments": {},
   "cell_type": "markdown",
   "metadata": {},
   "source": [
    "Сбор в сетку"
   ]
  },
  {
   "cell_type": "code",
   "execution_count": 133,
   "metadata": {},
   "outputs": [],
   "source": [
    "from pathlib import Path\n",
    "from PIL import Image\n",
    "import math\n",
    "\n",
    "\n",
    "def create_grid(input_folder, output_image_path, num_rows, num_columns):\n",
    "    image_paths = sorted([p for p in input_folder.glob(\"*.png\")])\n",
    "    total_images = num_rows * num_columns\n",
    "    step = math.ceil(len(image_paths) / total_images)\n",
    "    selected_image_paths = image_paths[::step][:total_images]\n",
    "    images = [Image.open(p) for p in selected_image_paths]\n",
    "    width, height = images[0].size\n",
    "    grid_width = num_columns * width\n",
    "    grid_height = num_rows * height\n",
    "    grid_image = Image.new(\"RGB\", (grid_width, grid_height))\n",
    "\n",
    "    for i, image in enumerate(images):\n",
    "        x = (i % num_columns) * width\n",
    "        y = (i // num_columns) * height\n",
    "        grid_image.paste(image, (x, y))\n",
    "\n",
    "    grid_image.save(output_image_path)\n",
    "\n",
    "    return grid_image, selected_image_paths\n",
    "\n",
    "def extract_images(grid_image_path, output_folder, num_rows, num_columns, image_filenames):\n",
    "    grid_image = Image.open(grid_image_path)\n",
    "    img_width, img_height = grid_image.size[0] // num_columns, grid_image.size[1] // num_rows\n",
    "\n",
    "    for i, image_filename in enumerate(image_filenames):\n",
    "        x = (i % num_columns) * img_width\n",
    "        y = (i // num_columns) * img_height\n",
    "        cropped_image = grid_image.crop((x, y, x + img_width, y + img_height))\n",
    "        image_path = Path(image_filename)\n",
    "        extracted_image_filename = f\"extracted_image_{image_path.stem}.png\"\n",
    "        print(x, y, x + img_width, y + img_height, image_path.stem)\n",
    "        cropped_image.save(output_folder / extracted_image_filename)\n",
    "\n",
    "\n",
    "\n",
    "input_folder = Path(\"./data/ebsynth-maks-2/keyframes/\")\n",
    "output_image_path = Path(\"./data/ebsynth-maks-2/video-grid/image_grid.png\")\n",
    "\n",
    "num_rows = 4\n",
    "num_columns = 4\n",
    "\n",
    "output_image_path.parent.mkdir(parents=True, exist_ok=True)\n",
    "\n",
    "if output_image_path.exists():\n",
    "    output_image_path.unlink()\n",
    "\n",
    "grid_image, selected_image_paths = create_grid(input_folder, output_image_path, num_rows, num_columns)"
   ]
  },
  {
   "cell_type": "code",
   "execution_count": 134,
   "metadata": {},
   "outputs": [
    {
     "data": {
      "text/plain": [
       "[WindowsPath('data/ebsynth-maks-2/keyframes/0001.png'),\n",
       " WindowsPath('data/ebsynth-maks-2/keyframes/0036.png'),\n",
       " WindowsPath('data/ebsynth-maks-2/keyframes/0054.png'),\n",
       " WindowsPath('data/ebsynth-maks-2/keyframes/0063.png'),\n",
       " WindowsPath('data/ebsynth-maks-2/keyframes/0072.png'),\n",
       " WindowsPath('data/ebsynth-maks-2/keyframes/0102.png'),\n",
       " WindowsPath('data/ebsynth-maks-2/keyframes/0129.png'),\n",
       " WindowsPath('data/ebsynth-maks-2/keyframes/0141.png'),\n",
       " WindowsPath('data/ebsynth-maks-2/keyframes/0148.png'),\n",
       " WindowsPath('data/ebsynth-maks-2/keyframes/0168.png'),\n",
       " WindowsPath('data/ebsynth-maks-2/keyframes/0196.png'),\n",
       " WindowsPath('data/ebsynth-maks-2/keyframes/0214.png'),\n",
       " WindowsPath('data/ebsynth-maks-2/keyframes/0238.png'),\n",
       " WindowsPath('data/ebsynth-maks-2/keyframes/0246.png'),\n",
       " WindowsPath('data/ebsynth-maks-2/keyframes/0268.png'),\n",
       " WindowsPath('data/ebsynth-maks-2/keyframes/0322.png')]"
      ]
     },
     "execution_count": 134,
     "metadata": {},
     "output_type": "execute_result"
    }
   ],
   "source": [
    "selected_image_paths"
   ]
  },
  {
   "cell_type": "code",
   "execution_count": 2,
   "metadata": {},
   "outputs": [],
   "source": [
    "# grid_image"
   ]
  },
  {
   "cell_type": "code",
   "execution_count": 96,
   "metadata": {},
   "outputs": [
    {
     "data": {
      "text/plain": [
       "(3,\n",
       " 4,\n",
       " [WindowsPath('data/ebsynth-maks-2/keyframes/0001.png'),\n",
       "  WindowsPath('data/ebsynth-maks-2/keyframes/0054.png'),\n",
       "  WindowsPath('data/ebsynth-maks-2/keyframes/0072.png'),\n",
       "  WindowsPath('data/ebsynth-maks-2/keyframes/0102.png'),\n",
       "  WindowsPath('data/ebsynth-maks-2/keyframes/0129.png'),\n",
       "  WindowsPath('data/ebsynth-maks-2/keyframes/0141.png'),\n",
       "  WindowsPath('data/ebsynth-maks-2/keyframes/0148.png'),\n",
       "  WindowsPath('data/ebsynth-maks-2/keyframes/0168.png'),\n",
       "  WindowsPath('data/ebsynth-maks-2/keyframes/0196.png'),\n",
       "  WindowsPath('data/ebsynth-maks-2/keyframes/0238.png'),\n",
       "  WindowsPath('data/ebsynth-maks-2/keyframes/0268.png'),\n",
       "  WindowsPath('data/ebsynth-maks-2/keyframes/0322.png')])"
      ]
     },
     "execution_count": 96,
     "metadata": {},
     "output_type": "execute_result"
    }
   ],
   "source": [
    "num_rows, num_columns, selected_image_paths"
   ]
  },
  {
   "attachments": {},
   "cell_type": "markdown",
   "metadata": {},
   "source": [
    "Извлевение сетки"
   ]
  },
  {
   "cell_type": "code",
   "execution_count": 171,
   "metadata": {},
   "outputs": [
    {
     "name": "stdout",
     "output_type": "stream",
     "text": [
      "0 0 896 896 0001\n",
      "896 0 1792 896 0036\n",
      "1792 0 2688 896 0054\n",
      "2688 0 3584 896 0063\n",
      "0 896 896 1792 0072\n",
      "896 896 1792 1792 0102\n",
      "1792 896 2688 1792 0129\n",
      "2688 896 3584 1792 0141\n",
      "0 1792 896 2688 0148\n",
      "896 1792 1792 2688 0168\n",
      "1792 1792 2688 2688 0196\n",
      "2688 1792 3584 2688 0214\n",
      "0 2688 896 3584 0238\n",
      "896 2688 1792 3584 0246\n",
      "1792 2688 2688 3584 0268\n",
      "2688 2688 3584 3584 0322\n"
     ]
    }
   ],
   "source": [
    "grid_image_path = Path(\"./data/ebsynth-maks-2/video-grid/image_grid-sd-10-up.png\")\n",
    "output_folder = Path(\"./data/ebsynth-maks-2/sd-keyframes-up/\")\n",
    "output_folder.mkdir(parents=True, exist_ok=True)\n",
    "extract_images(grid_image_path, output_folder, num_rows, num_columns, selected_image_paths)\n"
   ]
  },
  {
   "cell_type": "code",
   "execution_count": 93,
   "metadata": {},
   "outputs": [
    {
     "data": {
      "text/plain": [
       "913.3333333333334"
      ]
     },
     "execution_count": 93,
     "metadata": {},
     "output_type": "execute_result"
    }
   ],
   "source": [
    "2740 / 3"
   ]
  },
  {
   "cell_type": "code",
   "execution_count": 91,
   "metadata": {},
   "outputs": [
    {
     "data": {
      "text/plain": [
       "731"
      ]
     },
     "execution_count": 91,
     "metadata": {},
     "output_type": "execute_result"
    }
   ],
   "source": [
    "1096 - 365"
   ]
  },
  {
   "attachments": {},
   "cell_type": "markdown",
   "metadata": {},
   "source": [
    "Aspec Ratio Calculator"
   ]
  },
  {
   "cell_type": "code",
   "execution_count": 109,
   "metadata": {},
   "outputs": [
    {
     "name": "stdout",
     "output_type": "stream",
     "text": [
      "Original dimensions: 2048x2730\n",
      "New dimensions: 1926x2568\n"
     ]
    }
   ],
   "source": [
    "def resize_dimensions(width, height, max_width, max_height):\n",
    "    aspect_ratio = float(width) / float(height)\n",
    "\n",
    "    if width > max_width:\n",
    "        width = max_width\n",
    "        height = int(width / aspect_ratio)\n",
    "\n",
    "    if height > max_height:\n",
    "        height = max_height\n",
    "        width = int(height * aspect_ratio)\n",
    "\n",
    "    return width, height\n",
    "\n",
    "original_width = 2048\n",
    "original_height = 2730\n",
    "max_width = 2568\n",
    "max_height = 2568\n",
    "\n",
    "new_width, new_height = resize_dimensions(original_width, original_height, max_width, max_height)\n",
    "\n",
    "print(f\"Original dimensions: {original_width}x{original_height}\")\n",
    "print(f\"New dimensions: {new_width}x{new_height}\")\n"
   ]
  },
  {
   "cell_type": "code",
   "execution_count": 137,
   "metadata": {},
   "outputs": [
    {
     "data": {
      "text/plain": [
       "(750000, 810000)"
      ]
     },
     "execution_count": 137,
     "metadata": {},
     "output_type": "execute_result"
    }
   ],
   "source": [
    "1000*750, 900*900"
   ]
  },
  {
   "attachments": {},
   "cell_type": "markdown",
   "metadata": {},
   "source": [
    "Resize"
   ]
  },
  {
   "cell_type": "code",
   "execution_count": 140,
   "metadata": {},
   "outputs": [],
   "source": [
    "from PIL import Image\n",
    "from pathlib import Path\n",
    "\n",
    "def resize_images(input_folder, output_folder, target_size):\n",
    "    output_folder = Path(output_folder)\n",
    "    output_folder.mkdir(parents=True, exist_ok=True)\n",
    "    \n",
    "    for file_path in Path(input_folder).glob(\"*\"):\n",
    "        output_path = output_folder / file_path.name\n",
    "        with Image.open(file_path) as image:\n",
    "            image = image.resize(target_size)\n",
    "            image.save(output_path)\n"
   ]
  },
  {
   "cell_type": "code",
   "execution_count": 172,
   "metadata": {},
   "outputs": [],
   "source": [
    "input_folder = Path(\"./data/ebsynth-maks-2/sd-keyframes-up/\")\n",
    "output_folder = Path(\"./data/ebsynth-maks-2/sd-keys-fit/\")\n",
    "target_size = (512, 512)\n",
    "\n",
    "output_folder.mkdir(parents=True, exist_ok=True)\n",
    "clear_folder(output_folder)\n",
    "resize_images(input_folder, output_folder, target_size)"
   ]
  },
  {
   "cell_type": "code",
   "execution_count": null,
   "metadata": {},
   "outputs": [],
   "source": []
  },
  {
   "attachments": {},
   "cell_type": "markdown",
   "metadata": {},
   "source": [
    "Сбор Фреймов"
   ]
  },
  {
   "cell_type": "code",
   "execution_count": 160,
   "metadata": {},
   "outputs": [],
   "source": [
    "from pathlib import Path\n",
    "import shutil\n",
    "\n",
    "input_folders = sorted(Path('./data/ebsynth-maks-2/').glob('out*'))\n",
    "output_folder = Path(\"./data/ebsynth-maks-2/eb-frames\")\n",
    "\n",
    "# Создаем выходную папку, если её нет\n",
    "if not output_folder.exists():\n",
    "    output_folder.mkdir()\n",
    "\n",
    "# Очищаем папку output_folder перед использованием\n",
    "def clear_folder(folder):\n",
    "    for item in folder.glob(\"*\"):\n",
    "        if item.is_file():\n",
    "            item.unlink()\n",
    "\n",
    "clear_folder(output_folder)\n",
    "\n",
    "# Настройки пересечения\n",
    "overlap_ratio = 0.65\n",
    "\n",
    "def copy_with_overlap(first_folder, second_folder, overlap_ratio):\n",
    "    first_folder_files = sorted([file for file in first_folder.glob(\"*.png\")])\n",
    "    second_folder_files = sorted([file for file in second_folder.glob(\"*.png\")])\n",
    "\n",
    "    intersection = set(file.name for file in first_folder_files).intersection(set(file.name for file in second_folder_files))\n",
    "\n",
    "    num_overlap_frames = int(len(intersection) * overlap_ratio)\n",
    "\n",
    "    first_folder_overlap = sorted(list(intersection))[:num_overlap_frames]\n",
    "    second_folder_overlap = sorted(list(intersection))[num_overlap_frames:]\n",
    "\n",
    "    return first_folder_overlap, second_folder_overlap\n",
    "\n",
    "for idx, input_folder in enumerate(input_folders[:-1]):\n",
    "    next_input_folder = input_folders[idx + 1]\n",
    "\n",
    "    first_overlap, second_overlap = copy_with_overlap(input_folder, next_input_folder, overlap_ratio)\n",
    "\n",
    "    for file_name in first_overlap:\n",
    "        src_path = input_folder / file_name\n",
    "        dst_path = output_folder / file_name\n",
    "        shutil.copy(str(src_path), str(dst_path))\n",
    "\n",
    "    for file_name in second_overlap:\n",
    "        src_path = next_input_folder / file_name\n",
    "        dst_path = output_folder / file_name\n",
    "        shutil.copy(str(src_path), str(dst_path))\n",
    "\n",
    "# Копируем оставшиеся файлы из последней папки\n",
    "for file_path in input_folders[-1].glob(\"*\"):\n",
    "    output_path = output_folder / file_path.name\n",
    "    shutil.copy(str(file_path), str(output_path))\n"
   ]
  },
  {
   "cell_type": "code",
   "execution_count": 153,
   "metadata": {},
   "outputs": [
    {
     "data": {
      "text/plain": [
       "WindowsPath('data/ebsynth-maks-2/eb-frames')"
      ]
     },
     "execution_count": 153,
     "metadata": {},
     "output_type": "execute_result"
    }
   ],
   "source": [
    "output_folder"
   ]
  },
  {
   "cell_type": "code",
   "execution_count": null,
   "metadata": {},
   "outputs": [],
   "source": []
  },
  {
   "cell_type": "code",
   "execution_count": 161,
   "metadata": {},
   "outputs": [],
   "source": [
    "import subprocess\n",
    "from pathlib import Path\n",
    "\n",
    "\n",
    "def rename_files_sequentially(output_folder):\n",
    "    file_list = sorted(list(output_folder.glob(\"*.png\")))\n",
    "    for idx, file in enumerate(file_list, start=1):\n",
    "        new_file_name = f\"{idx:04d}.png\"\n",
    "        new_file_path = output_folder / new_file_name\n",
    "        file.rename(new_file_path)\n",
    "\n",
    "\n",
    "output_folder = Path(\"data/ebsynth-maks-2/eb-frames\")\n",
    "output_video_path = Path(\"./data/ebsynth-maks-2/eb-res/eb-albert-2.mp4\")\n",
    "frame_rate = 25\n",
    "command = f'ffmpeg -y -i \"{output_folder.as_posix()}/%04d.png\" -r {frame_rate} -filter:v \"setpts=PTS/1\" \"{output_video_path.as_posix()}\"'\n",
    "\n",
    "rename_files_sequentially(output_folder)\n",
    "\n",
    "try:\n",
    "    subprocess.run(command, shell=True, check=True, stderr=subprocess.PIPE)\n",
    "except subprocess.CalledProcessError as e:\n",
    "    print(f\"Error: {e.returncode}\")\n",
    "    print(\"FFmpeg output:\")\n",
    "    print(e.stderr.decode())\n",
    "    \n"
   ]
  },
  {
   "cell_type": "code",
   "execution_count": 157,
   "metadata": {},
   "outputs": [
    {
     "data": {
      "text/plain": [
       "36"
      ]
     },
     "execution_count": 157,
     "metadata": {},
     "output_type": "execute_result"
    }
   ],
   "source": []
  },
  {
   "cell_type": "code",
   "execution_count": 155,
   "metadata": {},
   "outputs": [
    {
     "name": "stdout",
     "output_type": "stream",
     "text": [
      "Total files: 220\n",
      "data\\ebsynth-maks-2\\eb-frames\\0036.png\n",
      "data\\ebsynth-maks-2\\eb-frames\\0037.png\n",
      "data\\ebsynth-maks-2\\eb-frames\\0038.png\n",
      "data\\ebsynth-maks-2\\eb-frames\\0039.png\n",
      "data\\ebsynth-maks-2\\eb-frames\\0040.png\n",
      "data\\ebsynth-maks-2\\eb-frames\\0041.png\n",
      "data\\ebsynth-maks-2\\eb-frames\\0042.png\n",
      "data\\ebsynth-maks-2\\eb-frames\\0043.png\n",
      "data\\ebsynth-maks-2\\eb-frames\\0044.png\n",
      "data\\ebsynth-maks-2\\eb-frames\\0045.png\n"
     ]
    }
   ],
   "source": [
    "from pathlib import Path\n",
    "\n",
    "output_folder = Path(\"data/ebsynth-maks-2/eb-frames\")\n",
    "files = list(output_folder.glob(\"*.png\"))\n",
    "\n",
    "print(f\"Total files: {len(files)}\")\n",
    "for file in files[:10]:\n",
    "    print(file)\n"
   ]
  },
  {
   "attachments": {},
   "cell_type": "markdown",
   "metadata": {},
   "source": [
    "RENAME FILES in DIR"
   ]
  },
  {
   "cell_type": "code",
   "execution_count": 173,
   "metadata": {},
   "outputs": [
    {
     "name": "stdout",
     "output_type": "stream",
     "text": [
      "В директории ./data/ebsynth-maks-2/sd-keys-fit/ успешно переименовано 16 файлов.\n"
     ]
    }
   ],
   "source": [
    "from pathlib import Path\n",
    "import re\n",
    "\n",
    "\n",
    "def extract_numbers(filename):\n",
    "    return ''.join(re.findall(r'\\d+', filename))\n",
    "\n",
    "def rename_files_in_directory(directory):\n",
    "    file_count = 0\n",
    "    directory_path = Path(directory)\n",
    "\n",
    "    for filepath in directory_path.glob('*.png'):\n",
    "        new_filename = extract_numbers(filepath.name) + '.png'\n",
    "        new_filepath = filepath.with_name(new_filename)\n",
    "        filepath.rename(new_filepath)\n",
    "        file_count += 1\n",
    "\n",
    "    return file_count\n",
    "\n",
    "\n",
    "# Замените 'path_to_your_directory' на путь к вашей директории с файлами\n",
    "directories = [\n",
    "    './data/ebsynth-maks-2/sd-keys-fit/', \n",
    "    # './data/video-keys-fitted/'\n",
    "]\n",
    "\n",
    "for directory in directories:\n",
    "    renamed_files = rename_files_in_directory(directory)\n",
    "    print(f'В директории {directory} успешно переименовано {renamed_files} файлов.')\n"
   ]
  },
  {
   "attachments": {},
   "cell_type": "markdown",
   "metadata": {},
   "source": [
    "Перекодировать Avi после AE"
   ]
  },
  {
   "cell_type": "code",
   "execution_count": 174,
   "metadata": {},
   "outputs": [],
   "source": [
    "import subprocess\n",
    "\n",
    "def convert_avi_to_mp4(input_file, output_file, crf=23, preset='medium'):\n",
    "    command = [\n",
    "        \"ffmpeg\",\n",
    "        \"-i\", input_file,\n",
    "        \"-c:v\", \"libx264\",\n",
    "        \"-crf\", str(crf),\n",
    "        \"-preset\", preset,\n",
    "        \"-c:a\", \"aac\",\n",
    "        \"-b:a\", \"128k\",\n",
    "        output_file\n",
    "    ]\n",
    "    subprocess.run(command, check=True)\n",
    "\n",
    "input_avi = \"./data/ebsynth-maks-2/eb-res/black-1.avi\"\n",
    "output_mp4 = \"./data/ebsynth-maks-2/eb-res/black-1.mp4\"\n",
    "\n",
    "convert_avi_to_mp4(input_avi, output_mp4)\n"
   ]
  },
  {
   "attachments": {},
   "cell_type": "markdown",
   "metadata": {},
   "source": [
    "Сборка в сетку 2на2"
   ]
  },
  {
   "cell_type": "code",
   "execution_count": 2,
   "metadata": {},
   "outputs": [
    {
     "data": {
      "text/plain": [
       "CompletedProcess(args='ffmpeg -i ./data/ebsynth-maks-2/eb-res/orig.mp4 -i ./data/ebsynth-maks-2/eb-res/albert-5.mp4 -i ./data/ebsynth-maks-2/eb-res/lemon-2.mp4 -i ./data/ebsynth-maks-2/eb-res/niga-1.mp4 -filter_complex \"[0:v]scale=256:256[tl];[1:v]scale=256:256[tr];[2:v]scale=256:256[bl];[3:v]scale=256:256[br];[tl][tr]hstack[top];[bl][br]hstack[bottom];[top][bottom]vstack\" -c:v libx264 -preset slow -crf 23 ./data/ebsynth-maks-2/eb-res/2x2.mp4', returncode=0)"
      ]
     },
     "execution_count": 2,
     "metadata": {},
     "output_type": "execute_result"
    }
   ],
   "source": [
    "import subprocess\n",
    "\n",
    "input1 = \"./data/ebsynth-maks-2/eb-res/orig.mp4\"\n",
    "input2 = \"./data/ebsynth-maks-2/eb-res/albert-5.mp4\"\n",
    "input3 = \"./data/ebsynth-maks-2/eb-res/lemon-2.mp4\"\n",
    "input4 = \"./data/ebsynth-maks-2/eb-res/black-1.mp4\"\n",
    "output = \"./data/ebsynth-maks-2/eb-res/2x2.mp4\"\n",
    "\n",
    "command = (\n",
    "    f\"ffmpeg -i {input1} -i {input2} -i {input3} -i {input4} \"\n",
    "    \"-filter_complex \"\n",
    "    \"\\\"[0:v]scale=256:256[tl];\"\n",
    "    \"[1:v]scale=256:256[tr];\"\n",
    "    \"[2:v]scale=256:256[bl];\"\n",
    "    \"[3:v]scale=256:256[br];\"\n",
    "    \"[tl][tr]hstack[top];\"\n",
    "    \"[bl][br]hstack[bottom];\"\n",
    "    \"[top][bottom]vstack\\\" \"\n",
    "    \"-c:v libx264 -preset slow -crf 23 \"\n",
    "    f\"{output}\"\n",
    ")\n",
    "\n",
    "subprocess.run(command, shell=True, check=True)\n"
   ]
  },
  {
   "attachments": {},
   "cell_type": "markdown",
   "metadata": {},
   "source": [
    "Делаем GIF"
   ]
  },
  {
   "cell_type": "code",
   "execution_count": 6,
   "metadata": {},
   "outputs": [
    {
     "data": {
      "text/html": [
       "<img src=\"./static/maks-2x2.gif\"/>"
      ],
      "text/plain": [
       "<IPython.core.display.Image object>"
      ]
     },
     "execution_count": 6,
     "metadata": {},
     "output_type": "execute_result"
    }
   ],
   "source": [
    "import subprocess\n",
    "from IPython.display import Image\n",
    "\n",
    "# Преобразуйте видео в GIF с помощью FFmpeg\n",
    "input_video = \"./data/ebsynth-maks-2/eb-res/2x2.mp4\"\n",
    "output_gif = \"./static/maks-2x2.gif\"\n",
    "\n",
    "gif_width = 256\n",
    "gif_height = 256\n",
    "\n",
    "command = f\"ffmpeg -i {input_video} -vf \\\"fps=10,scale={gif_width}:{gif_height}:flags=lanczos\\\" -c:v gif {output_gif}\"\n",
    "subprocess.run(command, shell=True, check=True)\n",
    "\n",
    "# Отображение GIF в Jupyter Notebook\n",
    "Image(url='./static/maks-2x2.gif')"
   ]
  },
  {
   "attachments": {},
   "cell_type": "markdown",
   "metadata": {},
   "source": [
    "Делаем видео для WhatsApp что бпереслать родственникам =)"
   ]
  },
  {
   "cell_type": "code",
   "execution_count": 4,
   "metadata": {},
   "outputs": [
    {
     "name": "stdout",
     "output_type": "stream",
     "text": [
      "Video conversion successful\n"
     ]
    }
   ],
   "source": [
    "import subprocess\n",
    "\n",
    "input_video = \"./data/ebsynth-maks-2/eb-res/2x2.mp4\"\n",
    "output_video = \"./data/ebsynth-maks-2/eb-res/2x2-wapp.mp4\"\n",
    "\n",
    "# command = f\"ffmpeg -i {input_video} -c:v libxvid -q:v 5 {output_video}\"\n",
    "# command = f\"ffmpeg -i {input_video} -c:v libx264 -preset slow -crf 23 -c:a aac -b:a 128k {output_video}\"\n",
    "# command = f\"ffmpeg -i {input_video} -c:v libx264 -preset slow -crf 23 -c:a aac -b:a 128k {output_video}\"\n",
    "\n",
    "command = f\"ffmpeg -i {input_video} -c:v libx264 -profile:v baseline -level 3.0 -pix_fmt yuv420p -preset slow -crf 23 -c:a aac -b:a 128k -y {output_video}\"\n",
    "result = subprocess.run(command, shell=True, text=True, stderr=subprocess.PIPE)\n",
    "\n",
    "if result.returncode != 0:\n",
    "    print(\"FFmpeg returned an error:\")\n",
    "    print(result.stderr)\n",
    "else:\n",
    "    print(\"Video conversion successful\")\n"
   ]
  },
  {
   "attachments": {},
   "cell_type": "markdown",
   "metadata": {},
   "source": [
    "Черновики"
   ]
  },
  {
   "cell_type": "code",
   "execution_count": null,
   "metadata": {},
   "outputs": [],
   "source": [
    "from pathlib import Path\n",
    "from PIL import Image\n",
    "import math\n",
    "\n",
    "def create_grid(input_folder, num_rows=None):\n",
    "    image_paths = sorted([p for p in input_folder.glob(\"*.png\")])\n",
    "    image_filenames = [p.name for p in image_paths]\n",
    "\n",
    "    images = [Image.open(p) for p in image_paths]\n",
    "    width, height = images[0].size\n",
    "    \n",
    "    if num_rows is None:\n",
    "        grid_size = int(math.ceil(math.sqrt(len(images))))\n",
    "        num_rows = grid_size\n",
    "    else:\n",
    "        grid_size = int(math.ceil(len(images) / num_rows))\n",
    "        \n",
    "    num_columns = grid_size\n",
    "    grid_width = num_columns * width\n",
    "    grid_height = num_rows * height\n",
    "    grid_image = Image.new(\"RGB\", (grid_width, grid_height))\n",
    "\n",
    "    for i, image in enumerate(images):\n",
    "        x = (i % num_columns) * width\n",
    "        y = (i // num_columns) * height\n",
    "        grid_image.paste(image, (x, y))\n",
    "\n",
    "    return grid_image, num_rows, num_columns, image_filenames\n",
    "\n",
    "input_folder = Path(\"./data/video-keys/\")\n",
    "grid_image, num_rows, num_columns, image_filenames = create_grid(input_folder)\n",
    "\n",
    "output_image_path = \"./data/video-grid/image_grid-v1.png\"\n",
    "grid_image.save(output_image_path)\n"
   ]
  },
  {
   "cell_type": "code",
   "execution_count": 12,
   "metadata": {},
   "outputs": [],
   "source": []
  },
  {
   "cell_type": "code",
   "execution_count": null,
   "metadata": {},
   "outputs": [],
   "source": []
  },
  {
   "cell_type": "code",
   "execution_count": null,
   "metadata": {},
   "outputs": [],
   "source": []
  }
 ],
 "metadata": {
  "kernelspec": {
   "display_name": "cvision",
   "language": "python",
   "name": "python3"
  },
  "language_info": {
   "codemirror_mode": {
    "name": "ipython",
    "version": 3
   },
   "file_extension": ".py",
   "mimetype": "text/x-python",
   "name": "python",
   "nbconvert_exporter": "python",
   "pygments_lexer": "ipython3",
   "version": "3.10.6"
  },
  "orig_nbformat": 4
 },
 "nbformat": 4,
 "nbformat_minor": 2
}
