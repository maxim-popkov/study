{
  "nbformat": 4,
  "nbformat_minor": 0,
  "metadata": {
    "colab": {
      "provenance": [],
      "gpuType": "T4",
      "include_colab_link": true
    },
    "kernelspec": {
      "name": "python3",
      "display_name": "Python 3"
    },
    "language_info": {
      "name": "python"
    },
    "accelerator": "GPU",
    "widgets": {
      "application/vnd.jupyter.widget-state+json": {
        "8ddcc12e22164319997bdf5e40bc6196": {
          "model_module": "@jupyter-widgets/controls",
          "model_name": "HBoxModel",
          "model_module_version": "1.5.0",
          "state": {
            "_dom_classes": [],
            "_model_module": "@jupyter-widgets/controls",
            "_model_module_version": "1.5.0",
            "_model_name": "HBoxModel",
            "_view_count": null,
            "_view_module": "@jupyter-widgets/controls",
            "_view_module_version": "1.5.0",
            "_view_name": "HBoxView",
            "box_style": "",
            "children": [
              "IPY_MODEL_13dc8211b8b24c2c8ca95379b4d9d3f9",
              "IPY_MODEL_d998fe9cb1da4241b859963f5bdfc9a9",
              "IPY_MODEL_375d72c71cc24af4ba381964c23e07f9"
            ],
            "layout": "IPY_MODEL_32d9836d7ce54976a4e04c51de6cb23e"
          }
        },
        "13dc8211b8b24c2c8ca95379b4d9d3f9": {
          "model_module": "@jupyter-widgets/controls",
          "model_name": "HTMLModel",
          "model_module_version": "1.5.0",
          "state": {
            "_dom_classes": [],
            "_model_module": "@jupyter-widgets/controls",
            "_model_module_version": "1.5.0",
            "_model_name": "HTMLModel",
            "_view_count": null,
            "_view_module": "@jupyter-widgets/controls",
            "_view_module_version": "1.5.0",
            "_view_name": "HTMLView",
            "description": "",
            "description_tooltip": null,
            "layout": "IPY_MODEL_8d139db01f394578a1485809989eb844",
            "placeholder": "​",
            "style": "IPY_MODEL_006b7689099e41dfaedd4110dcb3e1bd",
            "value": "Loading checkpoint shards: 100%"
          }
        },
        "d998fe9cb1da4241b859963f5bdfc9a9": {
          "model_module": "@jupyter-widgets/controls",
          "model_name": "FloatProgressModel",
          "model_module_version": "1.5.0",
          "state": {
            "_dom_classes": [],
            "_model_module": "@jupyter-widgets/controls",
            "_model_module_version": "1.5.0",
            "_model_name": "FloatProgressModel",
            "_view_count": null,
            "_view_module": "@jupyter-widgets/controls",
            "_view_module_version": "1.5.0",
            "_view_name": "ProgressView",
            "bar_style": "success",
            "description": "",
            "description_tooltip": null,
            "layout": "IPY_MODEL_a1d50ab1c5744ec79235734f46909db0",
            "max": 14,
            "min": 0,
            "orientation": "horizontal",
            "style": "IPY_MODEL_fca2f1175cc349e39794af48b1bdb59e",
            "value": 14
          }
        },
        "375d72c71cc24af4ba381964c23e07f9": {
          "model_module": "@jupyter-widgets/controls",
          "model_name": "HTMLModel",
          "model_module_version": "1.5.0",
          "state": {
            "_dom_classes": [],
            "_model_module": "@jupyter-widgets/controls",
            "_model_module_version": "1.5.0",
            "_model_name": "HTMLModel",
            "_view_count": null,
            "_view_module": "@jupyter-widgets/controls",
            "_view_module_version": "1.5.0",
            "_view_name": "HTMLView",
            "description": "",
            "description_tooltip": null,
            "layout": "IPY_MODEL_dfcbb5d4a2df41c983c3cf87098af8e3",
            "placeholder": "​",
            "style": "IPY_MODEL_346aa6b709c745d0b554ac64a2174262",
            "value": " 14/14 [01:18&lt;00:00,  5.54s/it]"
          }
        },
        "32d9836d7ce54976a4e04c51de6cb23e": {
          "model_module": "@jupyter-widgets/base",
          "model_name": "LayoutModel",
          "model_module_version": "1.2.0",
          "state": {
            "_model_module": "@jupyter-widgets/base",
            "_model_module_version": "1.2.0",
            "_model_name": "LayoutModel",
            "_view_count": null,
            "_view_module": "@jupyter-widgets/base",
            "_view_module_version": "1.2.0",
            "_view_name": "LayoutView",
            "align_content": null,
            "align_items": null,
            "align_self": null,
            "border": null,
            "bottom": null,
            "display": null,
            "flex": null,
            "flex_flow": null,
            "grid_area": null,
            "grid_auto_columns": null,
            "grid_auto_flow": null,
            "grid_auto_rows": null,
            "grid_column": null,
            "grid_gap": null,
            "grid_row": null,
            "grid_template_areas": null,
            "grid_template_columns": null,
            "grid_template_rows": null,
            "height": null,
            "justify_content": null,
            "justify_items": null,
            "left": null,
            "margin": null,
            "max_height": null,
            "max_width": null,
            "min_height": null,
            "min_width": null,
            "object_fit": null,
            "object_position": null,
            "order": null,
            "overflow": null,
            "overflow_x": null,
            "overflow_y": null,
            "padding": null,
            "right": null,
            "top": null,
            "visibility": null,
            "width": null
          }
        },
        "8d139db01f394578a1485809989eb844": {
          "model_module": "@jupyter-widgets/base",
          "model_name": "LayoutModel",
          "model_module_version": "1.2.0",
          "state": {
            "_model_module": "@jupyter-widgets/base",
            "_model_module_version": "1.2.0",
            "_model_name": "LayoutModel",
            "_view_count": null,
            "_view_module": "@jupyter-widgets/base",
            "_view_module_version": "1.2.0",
            "_view_name": "LayoutView",
            "align_content": null,
            "align_items": null,
            "align_self": null,
            "border": null,
            "bottom": null,
            "display": null,
            "flex": null,
            "flex_flow": null,
            "grid_area": null,
            "grid_auto_columns": null,
            "grid_auto_flow": null,
            "grid_auto_rows": null,
            "grid_column": null,
            "grid_gap": null,
            "grid_row": null,
            "grid_template_areas": null,
            "grid_template_columns": null,
            "grid_template_rows": null,
            "height": null,
            "justify_content": null,
            "justify_items": null,
            "left": null,
            "margin": null,
            "max_height": null,
            "max_width": null,
            "min_height": null,
            "min_width": null,
            "object_fit": null,
            "object_position": null,
            "order": null,
            "overflow": null,
            "overflow_x": null,
            "overflow_y": null,
            "padding": null,
            "right": null,
            "top": null,
            "visibility": null,
            "width": null
          }
        },
        "006b7689099e41dfaedd4110dcb3e1bd": {
          "model_module": "@jupyter-widgets/controls",
          "model_name": "DescriptionStyleModel",
          "model_module_version": "1.5.0",
          "state": {
            "_model_module": "@jupyter-widgets/controls",
            "_model_module_version": "1.5.0",
            "_model_name": "DescriptionStyleModel",
            "_view_count": null,
            "_view_module": "@jupyter-widgets/base",
            "_view_module_version": "1.2.0",
            "_view_name": "StyleView",
            "description_width": ""
          }
        },
        "a1d50ab1c5744ec79235734f46909db0": {
          "model_module": "@jupyter-widgets/base",
          "model_name": "LayoutModel",
          "model_module_version": "1.2.0",
          "state": {
            "_model_module": "@jupyter-widgets/base",
            "_model_module_version": "1.2.0",
            "_model_name": "LayoutModel",
            "_view_count": null,
            "_view_module": "@jupyter-widgets/base",
            "_view_module_version": "1.2.0",
            "_view_name": "LayoutView",
            "align_content": null,
            "align_items": null,
            "align_self": null,
            "border": null,
            "bottom": null,
            "display": null,
            "flex": null,
            "flex_flow": null,
            "grid_area": null,
            "grid_auto_columns": null,
            "grid_auto_flow": null,
            "grid_auto_rows": null,
            "grid_column": null,
            "grid_gap": null,
            "grid_row": null,
            "grid_template_areas": null,
            "grid_template_columns": null,
            "grid_template_rows": null,
            "height": null,
            "justify_content": null,
            "justify_items": null,
            "left": null,
            "margin": null,
            "max_height": null,
            "max_width": null,
            "min_height": null,
            "min_width": null,
            "object_fit": null,
            "object_position": null,
            "order": null,
            "overflow": null,
            "overflow_x": null,
            "overflow_y": null,
            "padding": null,
            "right": null,
            "top": null,
            "visibility": null,
            "width": null
          }
        },
        "fca2f1175cc349e39794af48b1bdb59e": {
          "model_module": "@jupyter-widgets/controls",
          "model_name": "ProgressStyleModel",
          "model_module_version": "1.5.0",
          "state": {
            "_model_module": "@jupyter-widgets/controls",
            "_model_module_version": "1.5.0",
            "_model_name": "ProgressStyleModel",
            "_view_count": null,
            "_view_module": "@jupyter-widgets/base",
            "_view_module_version": "1.2.0",
            "_view_name": "StyleView",
            "bar_color": null,
            "description_width": ""
          }
        },
        "dfcbb5d4a2df41c983c3cf87098af8e3": {
          "model_module": "@jupyter-widgets/base",
          "model_name": "LayoutModel",
          "model_module_version": "1.2.0",
          "state": {
            "_model_module": "@jupyter-widgets/base",
            "_model_module_version": "1.2.0",
            "_model_name": "LayoutModel",
            "_view_count": null,
            "_view_module": "@jupyter-widgets/base",
            "_view_module_version": "1.2.0",
            "_view_name": "LayoutView",
            "align_content": null,
            "align_items": null,
            "align_self": null,
            "border": null,
            "bottom": null,
            "display": null,
            "flex": null,
            "flex_flow": null,
            "grid_area": null,
            "grid_auto_columns": null,
            "grid_auto_flow": null,
            "grid_auto_rows": null,
            "grid_column": null,
            "grid_gap": null,
            "grid_row": null,
            "grid_template_areas": null,
            "grid_template_columns": null,
            "grid_template_rows": null,
            "height": null,
            "justify_content": null,
            "justify_items": null,
            "left": null,
            "margin": null,
            "max_height": null,
            "max_width": null,
            "min_height": null,
            "min_width": null,
            "object_fit": null,
            "object_position": null,
            "order": null,
            "overflow": null,
            "overflow_x": null,
            "overflow_y": null,
            "padding": null,
            "right": null,
            "top": null,
            "visibility": null,
            "width": null
          }
        },
        "346aa6b709c745d0b554ac64a2174262": {
          "model_module": "@jupyter-widgets/controls",
          "model_name": "DescriptionStyleModel",
          "model_module_version": "1.5.0",
          "state": {
            "_model_module": "@jupyter-widgets/controls",
            "_model_module_version": "1.5.0",
            "_model_name": "DescriptionStyleModel",
            "_view_count": null,
            "_view_module": "@jupyter-widgets/base",
            "_view_module_version": "1.2.0",
            "_view_name": "StyleView",
            "description_width": ""
          }
        },
        "c052bf3624554762a3baf9832418f68c": {
          "model_module": "@jupyter-widgets/controls",
          "model_name": "HBoxModel",
          "model_module_version": "1.5.0",
          "state": {
            "_dom_classes": [],
            "_model_module": "@jupyter-widgets/controls",
            "_model_module_version": "1.5.0",
            "_model_name": "HBoxModel",
            "_view_count": null,
            "_view_module": "@jupyter-widgets/controls",
            "_view_module_version": "1.5.0",
            "_view_name": "HBoxView",
            "box_style": "",
            "children": [
              "IPY_MODEL_d505609f0fb84b49be007d19b8e31ad1",
              "IPY_MODEL_7731d7b7ceee40c7971e37c56a36dce2",
              "IPY_MODEL_083e288e5b874419b511623350d09118"
            ],
            "layout": "IPY_MODEL_90efc2861fbb44e0a478c4573951bc2b"
          }
        },
        "d505609f0fb84b49be007d19b8e31ad1": {
          "model_module": "@jupyter-widgets/controls",
          "model_name": "HTMLModel",
          "model_module_version": "1.5.0",
          "state": {
            "_dom_classes": [],
            "_model_module": "@jupyter-widgets/controls",
            "_model_module_version": "1.5.0",
            "_model_name": "HTMLModel",
            "_view_count": null,
            "_view_module": "@jupyter-widgets/controls",
            "_view_module_version": "1.5.0",
            "_view_name": "HTMLView",
            "description": "",
            "description_tooltip": null,
            "layout": "IPY_MODEL_0bc2fa77323c4fa684d4b198f01f6697",
            "placeholder": "​",
            "style": "IPY_MODEL_5cd17e2711274cc5b22f1daec3beabaf",
            "value": "Map: 100%"
          }
        },
        "7731d7b7ceee40c7971e37c56a36dce2": {
          "model_module": "@jupyter-widgets/controls",
          "model_name": "FloatProgressModel",
          "model_module_version": "1.5.0",
          "state": {
            "_dom_classes": [],
            "_model_module": "@jupyter-widgets/controls",
            "_model_module_version": "1.5.0",
            "_model_name": "FloatProgressModel",
            "_view_count": null,
            "_view_module": "@jupyter-widgets/controls",
            "_view_module_version": "1.5.0",
            "_view_name": "ProgressView",
            "bar_style": "success",
            "description": "",
            "description_tooltip": null,
            "layout": "IPY_MODEL_5c193b973ebd4803bd6890af86199c46",
            "max": 74,
            "min": 0,
            "orientation": "horizontal",
            "style": "IPY_MODEL_ea4751d4999f48929e9c1ec4d326ea18",
            "value": 74
          }
        },
        "083e288e5b874419b511623350d09118": {
          "model_module": "@jupyter-widgets/controls",
          "model_name": "HTMLModel",
          "model_module_version": "1.5.0",
          "state": {
            "_dom_classes": [],
            "_model_module": "@jupyter-widgets/controls",
            "_model_module_version": "1.5.0",
            "_model_name": "HTMLModel",
            "_view_count": null,
            "_view_module": "@jupyter-widgets/controls",
            "_view_module_version": "1.5.0",
            "_view_name": "HTMLView",
            "description": "",
            "description_tooltip": null,
            "layout": "IPY_MODEL_d11dce743a634f18964cb67ce12531e8",
            "placeholder": "​",
            "style": "IPY_MODEL_4f5f78932aea45fd8390a09b7e38f577",
            "value": " 74/74 [00:00&lt;00:00, 1310.32 examples/s]"
          }
        },
        "90efc2861fbb44e0a478c4573951bc2b": {
          "model_module": "@jupyter-widgets/base",
          "model_name": "LayoutModel",
          "model_module_version": "1.2.0",
          "state": {
            "_model_module": "@jupyter-widgets/base",
            "_model_module_version": "1.2.0",
            "_model_name": "LayoutModel",
            "_view_count": null,
            "_view_module": "@jupyter-widgets/base",
            "_view_module_version": "1.2.0",
            "_view_name": "LayoutView",
            "align_content": null,
            "align_items": null,
            "align_self": null,
            "border": null,
            "bottom": null,
            "display": null,
            "flex": null,
            "flex_flow": null,
            "grid_area": null,
            "grid_auto_columns": null,
            "grid_auto_flow": null,
            "grid_auto_rows": null,
            "grid_column": null,
            "grid_gap": null,
            "grid_row": null,
            "grid_template_areas": null,
            "grid_template_columns": null,
            "grid_template_rows": null,
            "height": null,
            "justify_content": null,
            "justify_items": null,
            "left": null,
            "margin": null,
            "max_height": null,
            "max_width": null,
            "min_height": null,
            "min_width": null,
            "object_fit": null,
            "object_position": null,
            "order": null,
            "overflow": null,
            "overflow_x": null,
            "overflow_y": null,
            "padding": null,
            "right": null,
            "top": null,
            "visibility": null,
            "width": null
          }
        },
        "0bc2fa77323c4fa684d4b198f01f6697": {
          "model_module": "@jupyter-widgets/base",
          "model_name": "LayoutModel",
          "model_module_version": "1.2.0",
          "state": {
            "_model_module": "@jupyter-widgets/base",
            "_model_module_version": "1.2.0",
            "_model_name": "LayoutModel",
            "_view_count": null,
            "_view_module": "@jupyter-widgets/base",
            "_view_module_version": "1.2.0",
            "_view_name": "LayoutView",
            "align_content": null,
            "align_items": null,
            "align_self": null,
            "border": null,
            "bottom": null,
            "display": null,
            "flex": null,
            "flex_flow": null,
            "grid_area": null,
            "grid_auto_columns": null,
            "grid_auto_flow": null,
            "grid_auto_rows": null,
            "grid_column": null,
            "grid_gap": null,
            "grid_row": null,
            "grid_template_areas": null,
            "grid_template_columns": null,
            "grid_template_rows": null,
            "height": null,
            "justify_content": null,
            "justify_items": null,
            "left": null,
            "margin": null,
            "max_height": null,
            "max_width": null,
            "min_height": null,
            "min_width": null,
            "object_fit": null,
            "object_position": null,
            "order": null,
            "overflow": null,
            "overflow_x": null,
            "overflow_y": null,
            "padding": null,
            "right": null,
            "top": null,
            "visibility": null,
            "width": null
          }
        },
        "5cd17e2711274cc5b22f1daec3beabaf": {
          "model_module": "@jupyter-widgets/controls",
          "model_name": "DescriptionStyleModel",
          "model_module_version": "1.5.0",
          "state": {
            "_model_module": "@jupyter-widgets/controls",
            "_model_module_version": "1.5.0",
            "_model_name": "DescriptionStyleModel",
            "_view_count": null,
            "_view_module": "@jupyter-widgets/base",
            "_view_module_version": "1.2.0",
            "_view_name": "StyleView",
            "description_width": ""
          }
        },
        "5c193b973ebd4803bd6890af86199c46": {
          "model_module": "@jupyter-widgets/base",
          "model_name": "LayoutModel",
          "model_module_version": "1.2.0",
          "state": {
            "_model_module": "@jupyter-widgets/base",
            "_model_module_version": "1.2.0",
            "_model_name": "LayoutModel",
            "_view_count": null,
            "_view_module": "@jupyter-widgets/base",
            "_view_module_version": "1.2.0",
            "_view_name": "LayoutView",
            "align_content": null,
            "align_items": null,
            "align_self": null,
            "border": null,
            "bottom": null,
            "display": null,
            "flex": null,
            "flex_flow": null,
            "grid_area": null,
            "grid_auto_columns": null,
            "grid_auto_flow": null,
            "grid_auto_rows": null,
            "grid_column": null,
            "grid_gap": null,
            "grid_row": null,
            "grid_template_areas": null,
            "grid_template_columns": null,
            "grid_template_rows": null,
            "height": null,
            "justify_content": null,
            "justify_items": null,
            "left": null,
            "margin": null,
            "max_height": null,
            "max_width": null,
            "min_height": null,
            "min_width": null,
            "object_fit": null,
            "object_position": null,
            "order": null,
            "overflow": null,
            "overflow_x": null,
            "overflow_y": null,
            "padding": null,
            "right": null,
            "top": null,
            "visibility": null,
            "width": null
          }
        },
        "ea4751d4999f48929e9c1ec4d326ea18": {
          "model_module": "@jupyter-widgets/controls",
          "model_name": "ProgressStyleModel",
          "model_module_version": "1.5.0",
          "state": {
            "_model_module": "@jupyter-widgets/controls",
            "_model_module_version": "1.5.0",
            "_model_name": "ProgressStyleModel",
            "_view_count": null,
            "_view_module": "@jupyter-widgets/base",
            "_view_module_version": "1.2.0",
            "_view_name": "StyleView",
            "bar_color": null,
            "description_width": ""
          }
        },
        "d11dce743a634f18964cb67ce12531e8": {
          "model_module": "@jupyter-widgets/base",
          "model_name": "LayoutModel",
          "model_module_version": "1.2.0",
          "state": {
            "_model_module": "@jupyter-widgets/base",
            "_model_module_version": "1.2.0",
            "_model_name": "LayoutModel",
            "_view_count": null,
            "_view_module": "@jupyter-widgets/base",
            "_view_module_version": "1.2.0",
            "_view_name": "LayoutView",
            "align_content": null,
            "align_items": null,
            "align_self": null,
            "border": null,
            "bottom": null,
            "display": null,
            "flex": null,
            "flex_flow": null,
            "grid_area": null,
            "grid_auto_columns": null,
            "grid_auto_flow": null,
            "grid_auto_rows": null,
            "grid_column": null,
            "grid_gap": null,
            "grid_row": null,
            "grid_template_areas": null,
            "grid_template_columns": null,
            "grid_template_rows": null,
            "height": null,
            "justify_content": null,
            "justify_items": null,
            "left": null,
            "margin": null,
            "max_height": null,
            "max_width": null,
            "min_height": null,
            "min_width": null,
            "object_fit": null,
            "object_position": null,
            "order": null,
            "overflow": null,
            "overflow_x": null,
            "overflow_y": null,
            "padding": null,
            "right": null,
            "top": null,
            "visibility": null,
            "width": null
          }
        },
        "4f5f78932aea45fd8390a09b7e38f577": {
          "model_module": "@jupyter-widgets/controls",
          "model_name": "DescriptionStyleModel",
          "model_module_version": "1.5.0",
          "state": {
            "_model_module": "@jupyter-widgets/controls",
            "_model_module_version": "1.5.0",
            "_model_name": "DescriptionStyleModel",
            "_view_count": null,
            "_view_module": "@jupyter-widgets/base",
            "_view_module_version": "1.2.0",
            "_view_name": "StyleView",
            "description_width": ""
          }
        }
      }
    }
  },
  "cells": [
    {
      "cell_type": "markdown",
      "metadata": {
        "id": "view-in-github",
        "colab_type": "text"
      },
      "source": [
        "<a href=\"https://colab.research.google.com/github/maxim-popkov/study/blob/master/Llama_2_Fine_Tuning_using_QLora.ipynb\" target=\"_parent\"><img src=\"https://colab.research.google.com/assets/colab-badge.svg\" alt=\"Open In Colab\"/></a>"
      ]
    },
    {
      "cell_type": "markdown",
      "source": [
        "## Finetune Llama-2-7b on a Google colab\n",
        "\n",
        "Welcome to this Google Colab notebook that shows how to fine-tune the recent Llama-2-7b model on a single Google colab and turn it into a chatbot\n",
        "\n",
        "We will leverage PEFT library from Hugging Face ecosystem, as well as QLoRA for more memory efficient finetuning"
      ],
      "metadata": {
        "id": "C2EgqEPDQ8v6"
      }
    },
    {
      "cell_type": "markdown",
      "source": [
        "## Setup\n",
        "\n",
        "Run the cells below to setup and install the required libraries. For our experiment we will need `accelerate`, `peft`, `transformers`, `datasets` and TRL to leverage the recent [`SFTTrainer`](https://huggingface.co/docs/trl/main/en/sft_trainer). We will use `bitsandbytes` to [quantize the base model into 4bit](https://huggingface.co/blog/4bit-transformers-bitsandbytes). We will also install `einops` as it is a requirement to load Falcon models."
      ],
      "metadata": {
        "id": "i-tTvEF1RT3y"
      }
    },
    {
      "cell_type": "code",
      "execution_count": 1,
      "metadata": {
        "colab": {
          "base_uri": "https://localhost:8080/"
        },
        "id": "mNnkgBq7Q3EU",
        "outputId": "8d9aaca9-c0c2-44c4-c1f4-466e898339d3"
      },
      "outputs": [
        {
          "output_type": "stream",
          "name": "stdout",
          "text": [
            "  Installing build dependencies ... \u001b[?25l\u001b[?25hdone\n",
            "  Getting requirements to build wheel ... \u001b[?25l\u001b[?25hdone\n",
            "  Preparing metadata (pyproject.toml) ... \u001b[?25l\u001b[?25hdone\n",
            "\u001b[2K     \u001b[90m━━━━━━━━━━━━━━━━━━━━━━━━━━━━━━━━━━━━━━━━\u001b[0m \u001b[32m88.1/88.1 kB\u001b[0m \u001b[31m1.6 MB/s\u001b[0m eta \u001b[36m0:00:00\u001b[0m\n",
            "\u001b[2K     \u001b[90m━━━━━━━━━━━━━━━━━━━━━━━━━━━━━━━━━━━━━━━━\u001b[0m \u001b[32m7.5/7.5 MB\u001b[0m \u001b[31m76.8 MB/s\u001b[0m eta \u001b[36m0:00:00\u001b[0m\n",
            "\u001b[2K     \u001b[90m━━━━━━━━━━━━━━━━━━━━━━━━━━━━━━━━━━━━━━\u001b[0m \u001b[32m251.2/251.2 kB\u001b[0m \u001b[31m28.7 MB/s\u001b[0m eta \u001b[36m0:00:00\u001b[0m\n",
            "\u001b[2K     \u001b[90m━━━━━━━━━━━━━━━━━━━━━━━━━━━━━━━━━━━━━━\u001b[0m \u001b[32m519.3/519.3 kB\u001b[0m \u001b[31m44.9 MB/s\u001b[0m eta \u001b[36m0:00:00\u001b[0m\n",
            "\u001b[2K     \u001b[90m━━━━━━━━━━━━━━━━━━━━━━━━━━━━━━━━━━━━━━\u001b[0m \u001b[32m268.8/268.8 kB\u001b[0m \u001b[31m30.2 MB/s\u001b[0m eta \u001b[36m0:00:00\u001b[0m\n",
            "\u001b[2K     \u001b[90m━━━━━━━━━━━━━━━━━━━━━━━━━━━━━━━━━━━━━━━━\u001b[0m \u001b[32m7.8/7.8 MB\u001b[0m \u001b[31m101.2 MB/s\u001b[0m eta \u001b[36m0:00:00\u001b[0m\n",
            "\u001b[2K     \u001b[90m━━━━━━━━━━━━━━━━━━━━━━━━━━━━━━━━━━━━━━━━\u001b[0m \u001b[32m1.3/1.3 MB\u001b[0m \u001b[31m73.5 MB/s\u001b[0m eta \u001b[36m0:00:00\u001b[0m\n",
            "\u001b[2K     \u001b[90m━━━━━━━━━━━━━━━━━━━━━━━━━━━━━━━━━━━━━━\u001b[0m \u001b[32m115.3/115.3 kB\u001b[0m \u001b[31m13.7 MB/s\u001b[0m eta \u001b[36m0:00:00\u001b[0m\n",
            "\u001b[2K     \u001b[90m━━━━━━━━━━━━━━━━━━━━━━━━━━━━━━━━━━━━━━\u001b[0m \u001b[32m194.1/194.1 kB\u001b[0m \u001b[31m18.2 MB/s\u001b[0m eta \u001b[36m0:00:00\u001b[0m\n",
            "\u001b[2K     \u001b[90m━━━━━━━━━━━━━━━━━━━━━━━━━━━━━━━━━━━━━━\u001b[0m \u001b[32m134.8/134.8 kB\u001b[0m \u001b[31m15.9 MB/s\u001b[0m eta \u001b[36m0:00:00\u001b[0m\n",
            "\u001b[?25h  Building wheel for peft (pyproject.toml) ... \u001b[?25l\u001b[?25hdone\n",
            "\u001b[2K     \u001b[90m━━━━━━━━━━━━━━━━━━━━━━━━━━━━━━━━━━━━━━━━\u001b[0m \u001b[32m92.6/92.6 MB\u001b[0m \u001b[31m8.9 MB/s\u001b[0m eta \u001b[36m0:00:00\u001b[0m\n",
            "\u001b[2K     \u001b[90m━━━━━━━━━━━━━━━━━━━━━━━━━━━━━━━━━━━━━━━━\u001b[0m \u001b[32m42.2/42.2 kB\u001b[0m \u001b[31m4.4 MB/s\u001b[0m eta \u001b[36m0:00:00\u001b[0m\n",
            "\u001b[?25h"
          ]
        }
      ],
      "source": [
        "!pip install -q -U trl transformers accelerate git+https://github.com/huggingface/peft.git\n",
        "!pip install -q datasets\n",
        "!pip install -q bitsandbytes einops"
      ]
    },
    {
      "cell_type": "markdown",
      "source": [
        "## Dataset\n",
        "\n"
      ],
      "metadata": {
        "id": "Rnqmq7amRrU8"
      }
    },
    {
      "cell_type": "code",
      "source": [
        "data = [\n",
        "{ \"text\": \"### Instruction:\\n Проанализируй и определи, есть ли отказ. Если есть, объясни, почему \\n### Input:\\n Клиент: Привет. Менеджер: Добрый день! Хотели бы вы рассмотреть наши новые предложения по кредитованию? Клиент: Сейчас не актуально для меня. \\n### Answer:\\n Да, есть отказ. Клиенту сейчас не актуально рассматривать предложения по кредитованию. \\n### End\" },\n",
        "{ \"text\": \"### Instruction:\\n Проанализируй и определи, есть ли отказ. Если есть, объясни, почему \\n### Input:\\n Клиент: Какие у вас условия? Менеджер: У нас лучшие ставки на депозиты. Хотите открыть? Клиент: Подумаю и перезвоню. \\n### Answer:\\n Да, есть отказ. Клиент хочет подумать. \\n### End\" },\n",
        "{ \"text\": \"### Instruction:\\n Проанализируй и определи, есть ли отказ. Если есть, объясни, почему \\n### Input:\\n Клиент: Что вы предлагаете? Менеджер: Новую программу страхования. Клиент: Уже оформил в другом банке. \\n### Answer:\\n Да, есть отказ. Клиент уже оформил аналогичную услугу в другом банке. \\n### End\" },\n",
        "{ \"text\": \"### Instruction:\\n Проанализируй и определи, есть ли отказ. Если есть, объясни, почему \\n### Input:\\n Клиент: Я слышал о ваших услугах. Менеджер: Отлично! Хотели бы вы присоединиться? Клиент: Пока не решил. \\n### Answer:\\n Да, есть отказ. Клиент еще не принял решение. \\n### End\" },\n",
        "{ \"text\": \"### Instruction:\\n Проанализируй и определи, есть ли отказ. Если есть, объясни, почему \\n### Input:\\n Клиент: Есть ли у вас акции? Менеджер: Да, специальное предложение на кредитные карты. Клиент: Не интересует. \\n### Answer:\\n Да, есть отказ. Клиенту не интересно предложение по кредитным картам. \\n### End\" },\n",
        "{ \"text\": \"### Instruction:\\n Проанализируй и определи, есть ли отказ. Если есть, объясни, почему \\n### Input:\\n Клиент: Расскажите о ваших услугах. Менеджер: Мы предлагаем выгодные инвестиционные программы. Клиент: Не в этот раз. \\n### Answer:\\n Да, есть отказ. Клиенту сейчас не интересно. \\n### End\" },\n",
        "{ \"text\": \"### Instruction:\\n Проанализируй и определи, есть ли отказ. Если есть, объясни, почему \\n### Input:\\n Клиент: Что нового? Менеджер: У нас новая программа лояльности для клиентов. Клиент: Уже слышал, спасибо. \\n### Answer:\\n Да, есть отказ. Клиент уже знает о данном предложении. \\n### End\" },\n",
        "{ \"text\": \"### Instruction:\\n Проанализируй и определи, есть ли отказ. Если есть, объясни, почему \\n### Input:\\n Клиент: Какие услуги у вас есть? Менеджер: Мы предлагаем выгодные условия по ипотеке. Клиент: Спасибо, но я уже рассмотрел другие варианты. \\n### Answer:\\n Да, есть отказ. Клиент уже рассмотрел другие варианты. \\n### End\" },\n",
        "{ \"text\": \"### Instruction:\\n Проанализируй и определи, есть ли отказ. Если есть, объясни, почему \\n### Input:\\n Клиент: Я ищу хорошие условия по кредиту. Менеджер: У нас есть отличное предложение для вас. Клиент: Пока рассматриваю другие банки. \\n### Answer:\\n Да, есть отказ. Клиент рассматривает предложения других банков. \\n### End\" },\n",
        "{ \"text\": \"### Instruction:\\n Проанализируй и определи, есть ли отказ. Если есть, объясни, почему \\n### Input:\\n Клиент: Что вы можете предложить? Менеджер: У нас есть новая программа для молодых предпринимателей. Клиент: Звучит интересно, но сейчас не готов решить. \\n### Answer:\\n Да, есть отказ. Клиент сейчас не готов принять решение. \\n### End\" },\n",
        "{ \"text\": \"### Instruction:\\n Проанализируй и определи, есть ли отказ. Если есть, объясни, почему \\n### Input:\\n Клиент: У меня болит зуб. Менеджер: Мы можем предложить вам процедуру отбеливания зубов со скидкой. Клиент: Мне нужно лечение, а не отбеливание. \\n### Answer:\\n Да, есть отказ. Клиенту нужно лечение, а не отбеливание зубов. \\n### End\" },\n",
        "{ \"text\": \"### Instruction:\\n Проанализируй и определи, есть ли отказ. Если есть, объясни, почему \\n### Input:\\n Клиент: Хочу на море в июле. Менеджер: У нас есть отличные туры в горы в августе. Клиент: Мне нужен именно морской отдых. \\n### Answer:\\n Да, есть отказ. Клиент хочет на море, а не в горы. \\n### End\" },\n",
        "{ \"text\": \"### Instruction:\\n Проанализируй и определи, есть ли отказ. Если есть, объясни, почему \\n### Input:\\n Клиент: У вас есть услуга чистки зубов? Менеджер: Да, и к тому же у нас акция на установку брекетов. Клиент: Мне только чистка нужна. \\n### Answer:\\n Да, есть отказ. Клиенту нужна только чистка зубов. \\n### End\" },\n",
        "{ \"text\": \"### Instruction:\\n Проанализируй и определи, есть ли отказ. Если есть, объясни, почему \\n### Input:\\n Клиент: Я ищу тур в Таиланд. Менеджер: А как насчет тура в Индию? Это тоже очень интересное направление. Клиент: Нет, спасибо, я рассматриваю только Таиланд. \\n### Answer:\\n Да, есть отказ. Клиент заинтересован только в Таиланде. \\n### End\" },\n",
        "{ \"text\": \"### Instruction:\\n Проанализируй и определи, есть ли отказ. Если есть, объясни, почему \\n### Input:\\n Клиент: У меня проблемы с деснами. Менеджер: Мы можем предложить вам новую зубную пасту. Клиент: Мне нужен врач, а не паста. \\n### Answer:\\n Да, есть отказ. Клиенту нужна консультация врача. \\n### End\" },\n",
        "{ \"text\": \"### Instruction:\\n Проанализируй и определи, есть ли отказ. Если есть, объясни, почему \\n### Input:\\n Клиент: Я бы хотел узнать о турах в Европу. Менеджер: У нас есть отличные предложения по Азии. Клиент: Я спрашивал про Европу. \\n### Answer:\\n Да, есть отказ. Клиент интересуется только Европой. \\n### End\" },\n",
        "{ \"text\": \"### Instruction:\\n Проанализируй и определи, есть ли отказ. Если есть, объясни, почему \\n### Input:\\n Клиент: Мне нужно удалить зуб мудрости. Менеджер: Приходите к нам на консультацию, и мы предложим вам отбеливание зубов. Клиент: Сначала удаление, потом обсудим остальное. \\n### Answer:\\n Да, есть отказ. Клиенту сейчас важнее удаление зуба. \\n### End\" },\n",
        "{ \"text\": \"### Instruction:\\n Проанализируй и определи, есть ли отказ. Если есть, объясни, почему \\n### Input:\\n Клиент: Я хочу на экскурсионный тур. Менеджер: У нас есть отличные пляжные туры. Клиент: Мне интересны экскурсии, не пляж. \\n### Answer:\\n Да, есть отказ. Клиенту интересны только экскурсионные туры. \\n### End\" },\n",
        "{ \"text\": \"### Instruction:\\n Проанализируй и определи, есть ли отказ. Если есть, объясни, почему \\n### Input:\\n Клиент: У меня чувствительные зубы. Менеджер: Мы можем предложить вам керамические вкладки. Клиент: Сначала хочу решить проблему с чувствительностью. \\n### Answer:\\n Да, есть отказ. Клиент хочет сначала решить проблему с чувствительностью зубов. \\n### End\" },\n",
        "{ \"text\": \"### Instruction:\\n Проанализируй и определи, есть ли отказ. Если есть, объясни, почему \\n### Input:\\n Клиент: Я ищу тур на Новый год. Менеджер: У нас есть отличные предложения на летний отпуск. Клиент: Мне нужен именно новогодний тур. \\n### Answer:\\n Да, есть отказ. Клиент ищет тур именно на Новый год. \\n### End\" },\n",
        "{ \"text\": \"### Instruction:\\n Проанализируй и определи, есть ли отказ. Если есть, объясни, почему \\n### Input:\\n Клиент: У меня кровоточат десны. Менеджер: Мы предлагаем новую зубную нить. Клиент: Мне нужен прием у врача. \\n### Answer:\\n Да, есть отказ. Клиенту нужен прием у врача, а не зубная нить. \\n### End\" },\n",
        "{ \"text\": \"### Instruction:\\n Проанализируй и определи, есть ли отказ. Если есть, объясни, почему \\n### Input:\\n Клиент: Я хочу тур в Испанию. Менеджер: А что вы думаете о Греции? Клиент: Нет, только Испания. \\n### Answer:\\n Да, есть отказ. Клиент хочет только в Испанию. \\n### End\" },\n",
        "{ \"text\": \"### Instruction:\\n Проанализируй и определи, есть ли отказ. Если есть, объясни, почему \\n### Input:\\n Клиент: Мне нужна консультация ортодонта. Менеджер: У нас акция на чистку зубов! Клиент: Сначала консультация. \\n### Answer:\\n Да, есть отказ. Клиенту сейчас нужна консультация ортодонта. \\n### End\" },\n",
        "{ \"text\": \"### Instruction:\\n Проанализируй и определи, есть ли отказ. Если есть, объясни, почему \\n### Input:\\n Клиент: Я ищу романтический тур для двоих. Менеджер: У нас есть групповые экскурсионные туры. Клиент: Нам нужно что-то более уединенное. \\n### Answer:\\n Да, есть отказ. Клиент ищет романтический тур, а не групповой. \\n### End\" },\n",
        "{ \"text\": \"### Instruction:\\n Проанализируй и определи, есть ли отказ. Если есть, объясни, почему \\n### Input:\\n Клиент: У меня болит корень зуба. Менеджер: Мы предлагаем новые зубные щетки. Клиент: Мне нужно лечение. \\n### Answer:\\n Да, есть отказ. Клиенту нужно лечение, а не новая зубная щетка. \\n### End\" },\n",
        "{ \"text\": \"### Instruction:\\n Проанализируй и определи, есть ли отказ. Если есть, объясни, почему \\n### Input:\\n Клиент: Я хочу тур на Мальдивы. Менеджер: А как насчет Сейшел? Клиент: Только Мальдивы. \\n### Answer:\\n Да, есть отказ. Клиент хочет только на Мальдивы. \\n### End\" },\n",
        "{ \"text\": \"### Instruction:\\n Проанализируй и определи, есть ли отказ. Если есть, объясни, почему \\n### Input:\\n Клиент: Мне нужно установить имплантат. Менеджер: У нас сейчас акция на отбеливание зубов. Клиент: Сначала имплантат. \\n### Answer:\\n Да, есть отказ. Клиенту сейчас нужен имплантат. \\n### End\" },\n",
        "{ \"text\": \"### Instruction:\\n Проанализируй и определи, есть ли отказ. Если есть, объясни, почему \\n### Input:\\n Клиент: Я ищу тур в Европу на зиму. Менеджер: У нас есть отличные летние туры по Европе. Клиент: Мне нужен зимний тур. \\n### Answer:\\n Да, есть отказ. Клиент ищет зимний тур. \\n### End\" },\n",
        "{ \"text\": \"### Instruction:\\n Проанализируй и определи, есть ли отказ. Если есть, объясни, почему \\n### Input:\\n Клиент: Мне нужна пломба. Менеджер: Мы предлагаем новые электрические зубные щетки. Клиент: Сейчас мне нужна пломба. \\n### Answer:\\n Да, есть отказ. Клиенту нужна пломба. \\n### End\" },\n",
        "{ \"text\": \"### Instruction:\\n Проанализируй и определи, есть ли отказ. Если есть, объясни, почему \\n### Input:\\n Клиент: Я хочу тур в Италию. Менеджер: А что вы думаете о Франции? Клиент: Нет, меня интересует только Италия. \\n### Answer:\\n Да, есть отказ. Клиент хочет только в Италию. \\n### End\" },\n",
        "{ \"text\": \"### Instruction:\\n Проанализируй и определи, есть ли отказ. Если есть, объясни, почему \\n### Input:\\n Клиент: У меня проблемы с деснами. Менеджер: Мы предлагаем новую зубную пасту. Клиент: Мне нужен прием у врача. \\n### Answer:\\n Да, есть отказ. Клиенту нужен прием у врача. \\n### End\" },\n",
        "{ \"text\": \"### Instruction:\\n Проанализируй и определи, есть ли отказ. Если есть, объясни, почему \\n### Input:\\n Клиент: Я ищу пляжный тур. Менеджер: У нас есть отличные экскурсионные туры. Клиент: Мне нужен пляж. \\n### Answer:\\n Да, есть отказ. Клиенту нужен пляжный тур. \\n### End\" },\n",
        "{ \"text\": \"### Instruction:\\n Проанализируй и определи, есть ли отказ. Если есть, объясни, почему \\n### Input:\\n Клиент: Мне нужно удалить зуб. Менеджер: У нас акция на профессиональную чистку. Клиент: Сначала удаление. \\n### Answer:\\n Да, есть отказ. Клиенту сейчас нужно удаление зуба. \\n### End\" },\n",
        "{ \"text\": \"### Instruction:\\n Проанализируй и определи, есть ли отказ. Если есть, объясни, почему \\n### Input:\\n Клиент: Я хочу тур в Германию. Менеджер: А как насчет Австрии? Очень близко и красиво. Клиент: Только Германия. \\n### Answer:\\n Да, есть отказ. Клиент хочет только в Германию. \\n### End\" },\n",
        "{ \"text\": \"### Instruction:\\n Проанализируй и определи, есть ли отказ. Если есть, объясни, почему \\n### Input:\\n Клиент: Мне нужна консультация стоматолога. Менеджер: У нас сейчас акция на отбеливание зубов. Клиент: Сначала консультация. \\n### Answer:\\n Да, есть отказ. Клиенту сейчас нужна консультация стоматолога. \\n### End\" },\n",
        "{ \"text\": \"### Instruction:\\n Проанализируй и определи, есть ли отказ. Если есть, объясни, почему \\n### Input:\\n Клиент: Я ищу тур на Канары. Менеджер: У нас есть отличные предложения на Бали. Клиент: Мне нужны именно Канары. \\n### Answer:\\n Да, есть отказ. Клиент хочет тур именно на Канары. \\n### End\" },\n",
        "{ \"text\": \"### Instruction:\\n Проанализируй и определи, есть ли отказ. Если есть, объясни, почему \\n### Input:\\n Клиент: Мне нужно исправить прикус. Менеджер: Мы предлагаем новые зубные щетки. Клиент: Мне нужен ортодонт. \\n### Answer:\\n Да, есть отказ. Клиенту нужен ортодонт. \\n### End\" },\n",
        "{ \"text\": \"### Instruction:\\n Проанализируй и определи, есть ли отказ. Если есть, объясни, почему \\n### Input:\\n Клиент: Я хочу тур в Францию. Менеджер: А что вы думаете о Швейцарии? Клиент: Нет, только Франция. \\n### Answer:\\n Да, есть отказ. Клиент хочет только в Францию. \\n### End\" },\n",
        "{ \"text\": \"### Instruction:\\n Проанализируй и определи, есть ли отказ. Если есть, объясни, почему \\n### Input:\\n Клиент: Мне нужно установить коронку. Менеджер: У нас акция на отбеливание зубов. Клиент: Сначала коронка. \\n### Answer:\\n Да, есть отказ. Клиенту сейчас нужна коронка. \\n### End\" },\n",
        "{ \"text\": \"### Instruction:\\n Проанализируй и определи, есть ли отказ. Если есть, объясни, почему \\n### Input:\\n Клиент: Мне нужен новый тариф на интернет. Менеджер: У нас есть отличные предложения на мобильную связь. Клиент: Мне нужен только интернет. \\n### Answer:\\n Да, есть отказ. Клиенту нужен только интернет. \\n### End\" },\n",
        "{ \"text\": \"### Instruction:\\n Проанализируй и определи, есть ли отказ. Если есть, объясни, почему \\n### Input:\\n Клиент: У меня проблемы с сигналом. Менеджер: Мы предлагаем новые аксессуары для телефона. Клиент: Мне нужно решить проблему с сигналом. \\n### Answer:\\n Да, есть отказ. Клиенту нужно решить проблему с сигналом. \\n### End\" },\n",
        "{ \"text\": \"### Instruction:\\n Проанализируй и определи, есть ли отказ. Если есть, объясни, почему \\n### Input:\\n Клиент: Я ищу тур в Грецию. Менеджер: А как насчет тура в Турцию? Клиент: Нет, только Греция. \\n### Answer:\\n Да, есть отказ. Клиент хочет только в Грецию. \\n### End\" },\n",
        "{ \"text\": \"### Instruction:\\n Проанализируй и определи, есть ли отказ. Если есть, объясни, почему \\n### Input:\\n Клиент: Мне нужен тариф с безлимитным интернетом. Менеджер: У нас есть тариф с 10 ГБ интернета в месяц. Клиент: Мне нужен безлимит. \\n### Answer:\\n Да, есть отказ. Клиенту нужен тариф с безлимитным интернетом. \\n### End\" },\n",
        "{ \"text\": \"### Instruction:\\n Проанализируй и определи, есть ли отказ. Если есть, объясни, почему \\n### Input:\\n Клиент: У меня болит зуб. Менеджер: Мы предлагаем новые зубные щетки. Клиент: Мне нужно лечение. \\n### Answer:\\n Да, есть отказ. Клиенту нужно лечение, а не новая зубная щетка. \\n### End\" },\n",
        "{ \"text\": \"### Instruction:\\n Проанализируй и определи, есть ли отказ. Если есть, объясни, почему \\n### Input:\\n Клиент: Я хочу поменять свой номер телефона. Менеджер: У нас есть отличные предложения на новые смартфоны. Клиент: Мне нужно только поменять номер. \\n### Answer:\\n Да, есть отказ. Клиент хочет только поменять номер. \\n### End\" },\n",
        "{ \"text\": \"### Instruction:\\n Проанализируй и определи, есть ли отказ. Если есть, объясни, почему \\n### Input:\\n Клиент: Мне нужен тариф для роуминга. Менеджер: У нас есть отличные предложения для местных звонков. Клиент: Мне нужен роуминг. \\n### Answer:\\n Да, есть отказ. Клиенту нужен тариф для роуминга. \\n### End\" },\n",
        "{ \"text\": \"### Instruction:\\n Проанализируй и определи, есть ли отказ. Если есть, объясни, почему \\n### Input:\\n Клиент: Я ищу тур в Италию. Менеджер: А что вы думаете о Франции? Клиент: Нет, только Италия. \\n### Answer:\\n Да, есть отказ. Клиент хочет только в Италию. \\n### End\" },\n",
        "{ \"text\": \"### Instruction:\\n Проанализируй и определи, есть ли отказ. Если есть, объясни, почему \\n### Input:\\n Клиент: Мне нужен быстрый интернет дома. Менеджер: У нас есть отличные предложения на мобильный интернет. Клиент: Мне нужен домашний интернет. \\n### Answer:\\n Да, есть отказ. Клиенту нужен домашний интернет. \\n### End\" },\n",
        "{ \"text\": \"### Instruction:\\n Проанализируй и определи, есть ли отказ. Если есть, объясни, почему \\n### Input:\\n Клиент: У меня проблемы с мобильной связью. Менеджер: Мы предлагаем новые тарифы на интернет. Клиент: Мне нужно решить проблему со связью. \\n### Answer:\\n Да, есть отказ. Клиенту нужно решить проблему со связью. \\n### End\" },\n",
        "{ \"text\": \"### Instruction:\\n Проанализируй и определи, есть ли отказ. Если есть, объясни, почему \\n### Input:\\n Клиент: Мне нужен новый тариф на интернет. Менеджер: У нас есть отличные предложения на интернет. Клиент: Отлично, расскажите подробнее. \\n### Answer:\\n Нет отказа. \\n### End\" },\n",
        "{ \"text\": \"### Instruction:\\n Проанализируй и определи, есть ли отказ. Если есть, объясни, почему \\n### Input:\\n Клиент: У меня проблемы с сигналом. Менеджер: Мы можем предложить вам усилитель сигнала. Клиент: Замечательно, давайте попробуем. \\n### Answer:\\n Нет отказа. \\n### End\" },\n",
        "{ \"text\": \"### Instruction:\\n Проанализируй и определи, есть ли отказ. Если есть, объясни, почему \\n### Input:\\n Клиент: Я ищу тур в Грецию. Менеджер: У нас есть отличные предложения на Грецию. Клиент: Здорово, давайте обсудим. \\n### Answer:\\n Нет отказа. \\n### End\" },\n",
        "{ \"text\": \"### Instruction:\\n Проанализируй и определи, есть ли отказ. Если есть, объясни, почему \\n### Input:\\n Клиент: Мне нужен кредит на развитие бизнеса. Менеджер: У нас есть отличные условия по бизнес-кредитованию. Клиент: Прекрасно, давайте рассмотрим условия. \\n### Answer:\\n Нет отказа. \\n### End\" },\n",
        "{ \"text\": \"### Instruction:\\n Проанализируй и определи, есть ли отказ. Если есть, объясни, почему \\n### Input:\\n Клиент: У меня болит зуб. Менеджер: Мы можем предложить вам прием у стоматолога. Клиент: Хорошо, давайте запишемся. \\n### Answer:\\n Нет отказа. \\n### End\" },\n",
        "{ \"text\": \"### Instruction:\\n Проанализируй и определи, есть ли отказ. Если есть, объясни, почему \\n### Input:\\n Клиент: Я хочу поменять свой номер телефона. Менеджер: Мы можем это сделать для вас. Клиент: Отлично, давайте сделаем. \\n### Answer:\\n Нет отказа. \\n### End\" },\n",
        "{ \"text\": \"### Instruction:\\n Проанализируй и определи, есть ли отказ. Если есть, объясни, почему \\n### Input:\\n Клиент: Мне нужен новый тариф на интернет. Менеджер: У нас есть отличные предложения на интернет. Клиент: Отлично, расскажите подробнее. \\n### Answer:\\n Нет отказа. \\n### End\" },\n",
        "{ \"text\": \"### Instruction:\\n Проанализируй и определи, есть ли отказ. Если есть, объясни, почему \\n### Input:\\n Клиент: У меня проблемы с сигналом. Менеджер: Мы можем предложить вам усилитель сигнала. Клиент: Замечательно, давайте попробуем. \\n### Answer:\\n Нет отказа. \\n### End\" },\n",
        "{ \"text\": \"### Instruction:\\n Проанализируй и определи, есть ли отказ. Если есть, объясни, почему \\n### Input:\\n Клиент: Я ищу тур в Грецию. Менеджер: У нас есть отличные предложения на Грецию. Клиент: Здорово, давайте обсудим. \\n### Answer:\\n Нет отказа. \\n### End\" },\n",
        "{ \"text\": \"### Instruction:\\n Проанализируй и определи, есть ли отказ. Если есть, объясни, почему \\n### Input:\\n Клиент: Мне нужен кредит на развитие бизнеса. Менеджер: У нас есть отличные условия для предпринимателей. Клиент: Прекрасно, давайте рассмотрим условия. \\n### Answer:\\n Нет отказа. \\n### End\" },\n",
        "{ \"text\": \"### Instruction:\\n Проанализируй и определи, есть ли отказ. Если есть, объясни, почему \\n### Input:\\n Клиент: У меня болит зуб. Менеджер: Мы можем предложить вам прием у стоматолога. Клиент: Хорошо, давайте запишемся. \\n### Answer:\\n Нет отказа. \\n### End\" },\n",
        "{ \"text\": \"### Instruction:\\n Проанализируй и определи, есть ли отказ. Если есть, объясни, почему \\n### Input:\\n Клиент: Я хочу поменять свой номер телефона. Менеджер: Мы можем это сделать для вас. Клиент: Отлично, давайте сделаем. \\n### Answer:\\n Нет отказа. \\n### End\" },\n",
        "{ \"text\": \"### Instruction:\\n Проанализируй и определи, есть ли отказ. Если есть, объясни, почему \\n### Input:\\n Клиент: Мне нужен тариф для роуминга. Менеджер: У нас есть специальные тарифы для роуминга. Клиент: Замечательно, расскажите подробнее. \\n### Answer:\\n Нет отказа. \\n### End\" },\n",
        "{ \"text\": \"### Instruction:\\n Проанализируй и определи, есть ли отказ. Если есть, объясни, почему \\n### Input:\\n Клиент: Я ищу тур в Италию. Менеджер: У нас есть отличные предложения на Италию. Клиент: Прекрасно, давайте рассмотрим варианты. \\n### Answer:\\n Нет отказа. \\n### End\" },\n",
        "{ \"text\": \"### Instruction:\\n Проанализируй и определи, есть ли отказ. Если есть, объясни, почему \\n### Input:\\n Клиент: Мне нужен быстрый интернет дома. Менеджер: У нас есть отличные тарифы на домашний интернет. Клиент: Отлично, давайте выберем подходящий. \\n### Answer:\\n Нет отказа. \\n### End\" },\n",
        "{ \"text\": \"### Instruction:\\n Проанализируй и определи, есть ли отказ. Если есть, объясни, почему \\n### Input:\\n Клиент: У меня проблемы с мобильной связью. Менеджер: Мы можем предложить вам усилитель сигнала. Клиент: Звучит хорошо, давайте попробуем. \\n### Answer:\\n Нет отказа. \\n### End\" },\n",
        "{ \"text\": \"### Instruction:\\n Проанализируй и определи, есть ли отказ. Если есть, объясни, почему \\n### Input:\\n Клиент: Мне нужен новый тариф на интернет. Менеджер: У нас есть отличные предложения на интернет. Клиент: Отлично, расскажите подробнее. \\n### Answer:\\n Нет отказа. \\n### End\" },\n",
        "{ \"text\": \"### Instruction:\\n Проанализируй и определи, есть ли отказ. Если есть, объясни, почему \\n### Input:\\n Клиент: У меня болит зуб. Менеджер: Мы можем предложить вам прием у стоматолога. Клиент: Хорошо, давайте запишемся. \\n### Answer:\\n Нет отказа. \\n### End\" },\n",
        "{ \"text\": \"### Instruction:\\n Проанализируй и определи, есть ли отказ. Если есть, объясни, почему \\n### Input:\\n Клиент: Я ищу тур в Грецию. Менеджер: У нас есть отличные предложения на Грецию. Клиент: Здорово, давайте обсудим. \\n### Answer:\\n Нет отказа. \\n### End\" },\n",
        "{ \"text\": \"### Instruction:\\n Проанализируй и определи, есть ли отказ. Если есть, объясни, почему \\n### Input:\\n Клиент: Я хочу взять кредит на развитие бизнеса. Менеджер: У нас есть отличные условия для бизнес-кредитования. Клиент: Прекрасно, давайте рассмотрим условия. \\n### Answer:\\n Нет отказа. \\n### End\" },\n",
        "{ \"text\": \"### Instruction:\\n Проанализируй и определи, есть ли отказ. Если есть, объясни, почему \\n### Input:\\n Клиент: Мне нужен быстрый интернет дома. Менеджер: У нас есть отличные тарифы на домашний интернет. Клиент: Отлично, давайте выберем подходящий. \\n### Answer:\\n Нет отказа. \\n### End\" },\n",
        "{ \"text\": \"### Instruction:\\n Проанализируй и определи, есть ли отказ. Если есть, объясни, почему \\n### Input:\\n Клиент: Я хочу открыть вклад. Менеджер: У нас есть выгодные условия для вкладов. Клиент: Замечательно, давайте обсудим детали. \\n### Answer:\\n Нет отказа. \\n### End\" },\n",
        "{ \"text\": \"### Instruction:\\n Проанализируй и определи, есть ли отказ. Если есть, объясни, почему \\n### Input:\\n Клиент: Мне нужен тариф для роуминга. Менеджер: У нас есть специальные тарифы для роуминга. Клиент: Замечательно, расскажите подробнее. \\n### Answer:\\n Нет отказа. \\n### End\" },\n",
        "{ \"text\": \"### Instruction:\\n Проанализируй и определи, есть ли отказ. Если есть, объясни, почему \\n### Input:\\n Клиент: Я ищу тур в Италию. Менеджер: У нас есть отличные предложения на Италию. Клиент: Прекрасно, давайте рассмотрим варианты. \\n### Answer:\\n Нет отказа. \\n### End\" },\n",
        "{ \"text\": \"### Instruction:\\n Проанализируй и определи, есть ли отказ. Если есть, объясни, почему \\n### Input:\\n Клиент: У меня проблемы с мобильной связью. Менеджер: Мы можем предложить вам усилитель сигнала. Клиент: Звучит хорошо, давайте попробуем. \\n### Answer:\\n Нет отказа. \\n### End\" }\n",
        "]"
      ],
      "metadata": {
        "id": "GqTfHK3MCVvE"
      },
      "execution_count": 104,
      "outputs": []
    },
    {
      "cell_type": "code",
      "source": [
        "import os\n",
        "os.environ[\"WANDB_MODE\"]=\"offline\""
      ],
      "metadata": {
        "id": "yAiIAMvx0dU7"
      },
      "execution_count": 105,
      "outputs": []
    },
    {
      "cell_type": "code",
      "source": [
        "from datasets import load_dataset\n",
        "from datasets import Dataset\n"
      ],
      "metadata": {
        "id": "PsEZZEv3mh5X"
      },
      "execution_count": 106,
      "outputs": []
    },
    {
      "cell_type": "code",
      "source": [
        "dataset = Dataset.from_list(data)"
      ],
      "metadata": {
        "id": "_1r_6zwMmhzw"
      },
      "execution_count": 107,
      "outputs": []
    },
    {
      "cell_type": "code",
      "source": [],
      "metadata": {
        "id": "_bzz9jFSmhvm"
      },
      "execution_count": 107,
      "outputs": []
    },
    {
      "cell_type": "code",
      "source": [
        "# from datasets import load_dataset\n",
        "\n",
        "# #dataset_name = \"timdettmers/openassistant-guanaco\" ###Human ,.,,,,,, ###Assistant\n",
        "\n",
        "# dataset_name = 'AlexanderDoria/novel17_test' #french novels\n",
        "# dataset = load_dataset(dataset_name, split=\"train\")"
      ],
      "metadata": {
        "id": "0X3kHnskSWU4"
      },
      "execution_count": 108,
      "outputs": []
    },
    {
      "cell_type": "code",
      "source": [
        "dataset[0]"
      ],
      "metadata": {
        "colab": {
          "base_uri": "https://localhost:8080/"
        },
        "id": "aTNw9HJA7t2J",
        "outputId": "9efe72d8-a767-4c83-930f-e916afac76df"
      },
      "execution_count": 109,
      "outputs": [
        {
          "output_type": "execute_result",
          "data": {
            "text/plain": [
              "{'text': '### Instruction:\\n Проанализируй и определи, есть ли отказ. Если есть, объясни, почему \\n### Input:\\n Клиент: Привет. Менеджер: Добрый день! Хотели бы вы рассмотреть наши новые предложения по кредитованию? Клиент: Сейчас не актуально для меня. \\n### Answer:\\n Да, есть отказ. Клиенту сейчас не актуально рассматривать предложения по кредитованию. \\n### End'}"
            ]
          },
          "metadata": {},
          "execution_count": 109
        }
      ]
    },
    {
      "cell_type": "code",
      "source": [
        "len(dataset[10]['text'])"
      ],
      "metadata": {
        "colab": {
          "base_uri": "https://localhost:8080/"
        },
        "id": "0fo_43eepqyY",
        "outputId": "5cb4bca0-9ef8-4887-8ceb-919ee366c103"
      },
      "execution_count": 110,
      "outputs": [
        {
          "output_type": "execute_result",
          "data": {
            "text/plain": [
              "329"
            ]
          },
          "metadata": {},
          "execution_count": 110
        }
      ]
    },
    {
      "cell_type": "code",
      "source": [
        "print(dataset[10]['text'])"
      ],
      "metadata": {
        "colab": {
          "base_uri": "https://localhost:8080/"
        },
        "id": "LXp7AXTJ2ORD",
        "outputId": "314c96bd-3738-42d4-fcbc-12fd968f4150"
      },
      "execution_count": 111,
      "outputs": [
        {
          "output_type": "stream",
          "name": "stdout",
          "text": [
            "### Instruction:\n",
            " Проанализируй и определи, есть ли отказ. Если есть, объясни, почему \n",
            "### Input:\n",
            " Клиент: У меня болит зуб. Менеджер: Мы можем предложить вам процедуру отбеливания зубов со скидкой. Клиент: Мне нужно лечение, а не отбеливание. \n",
            "### Answer:\n",
            " Да, есть отказ. Клиенту нужно лечение, а не отбеливание зубов. \n",
            "### End\n"
          ]
        }
      ]
    },
    {
      "cell_type": "code",
      "source": [
        "dataset[-1]"
      ],
      "metadata": {
        "colab": {
          "base_uri": "https://localhost:8080/"
        },
        "id": "AhuoWkfy7tfo",
        "outputId": "02e65d18-5653-46bd-bfd0-2a9d6135ed0a"
      },
      "execution_count": 112,
      "outputs": [
        {
          "output_type": "execute_result",
          "data": {
            "text/plain": [
              "{'text': '### Instruction:\\n Проанализируй и определи, есть ли отказ. Если есть, объясни, почему \\n### Input:\\n Клиент: У меня проблемы с мобильной связью. Менеджер: Мы можем предложить вам усилитель сигнала. Клиент: Звучит хорошо, давайте попробуем. \\n### Answer:\\n Нет отказа. \\n### End'}"
            ]
          },
          "metadata": {},
          "execution_count": 112
        }
      ]
    },
    {
      "cell_type": "code",
      "source": [
        "dataset"
      ],
      "metadata": {
        "colab": {
          "base_uri": "https://localhost:8080/"
        },
        "id": "wzFoVw3L5xlI",
        "outputId": "f255df77-a0b1-442e-bfb0-a225269b9234"
      },
      "execution_count": 113,
      "outputs": [
        {
          "output_type": "execute_result",
          "data": {
            "text/plain": [
              "Dataset({\n",
              "    features: ['text'],\n",
              "    num_rows: 74\n",
              "})"
            ]
          },
          "metadata": {},
          "execution_count": 113
        }
      ]
    },
    {
      "cell_type": "code",
      "source": [
        "dataset.info"
      ],
      "metadata": {
        "colab": {
          "base_uri": "https://localhost:8080/"
        },
        "id": "_r9SwLHuwYPv",
        "outputId": "09986ca3-4fea-4608-f574-ef9d3a0e2b5e"
      },
      "execution_count": 114,
      "outputs": [
        {
          "output_type": "execute_result",
          "data": {
            "text/plain": [
              "DatasetInfo(description='', citation='', homepage='', license='', features={'text': Value(dtype='string', id=None)}, post_processed=None, supervised_keys=None, task_templates=None, builder_name=None, dataset_name=None, config_name=None, version=None, splits=None, download_checksums=None, download_size=None, post_processing_size=None, dataset_size=None, size_in_bytes=None)"
            ]
          },
          "metadata": {},
          "execution_count": 114
        }
      ]
    },
    {
      "cell_type": "code",
      "source": [
        "dataset.to_pandas()"
      ],
      "metadata": {
        "colab": {
          "base_uri": "https://localhost:8080/",
          "height": 423
        },
        "id": "wCH3hsYv48dX",
        "outputId": "947520a2-79b4-412a-ad1d-fa12a0f9fd35"
      },
      "execution_count": 115,
      "outputs": [
        {
          "output_type": "execute_result",
          "data": {
            "text/plain": [
              "                                                 text\n",
              "0   ### Instruction:\\n Проанализируй и определи, е...\n",
              "1   ### Instruction:\\n Проанализируй и определи, е...\n",
              "2   ### Instruction:\\n Проанализируй и определи, е...\n",
              "3   ### Instruction:\\n Проанализируй и определи, е...\n",
              "4   ### Instruction:\\n Проанализируй и определи, е...\n",
              "..                                                ...\n",
              "69  ### Instruction:\\n Проанализируй и определи, е...\n",
              "70  ### Instruction:\\n Проанализируй и определи, е...\n",
              "71  ### Instruction:\\n Проанализируй и определи, е...\n",
              "72  ### Instruction:\\n Проанализируй и определи, е...\n",
              "73  ### Instruction:\\n Проанализируй и определи, е...\n",
              "\n",
              "[74 rows x 1 columns]"
            ],
            "text/html": [
              "\n",
              "  <div id=\"df-2b6559ce-68ff-464e-8bb1-5b865ca73df3\" class=\"colab-df-container\">\n",
              "    <div>\n",
              "<style scoped>\n",
              "    .dataframe tbody tr th:only-of-type {\n",
              "        vertical-align: middle;\n",
              "    }\n",
              "\n",
              "    .dataframe tbody tr th {\n",
              "        vertical-align: top;\n",
              "    }\n",
              "\n",
              "    .dataframe thead th {\n",
              "        text-align: right;\n",
              "    }\n",
              "</style>\n",
              "<table border=\"1\" class=\"dataframe\">\n",
              "  <thead>\n",
              "    <tr style=\"text-align: right;\">\n",
              "      <th></th>\n",
              "      <th>text</th>\n",
              "    </tr>\n",
              "  </thead>\n",
              "  <tbody>\n",
              "    <tr>\n",
              "      <th>0</th>\n",
              "      <td>### Instruction:\\n Проанализируй и определи, е...</td>\n",
              "    </tr>\n",
              "    <tr>\n",
              "      <th>1</th>\n",
              "      <td>### Instruction:\\n Проанализируй и определи, е...</td>\n",
              "    </tr>\n",
              "    <tr>\n",
              "      <th>2</th>\n",
              "      <td>### Instruction:\\n Проанализируй и определи, е...</td>\n",
              "    </tr>\n",
              "    <tr>\n",
              "      <th>3</th>\n",
              "      <td>### Instruction:\\n Проанализируй и определи, е...</td>\n",
              "    </tr>\n",
              "    <tr>\n",
              "      <th>4</th>\n",
              "      <td>### Instruction:\\n Проанализируй и определи, е...</td>\n",
              "    </tr>\n",
              "    <tr>\n",
              "      <th>...</th>\n",
              "      <td>...</td>\n",
              "    </tr>\n",
              "    <tr>\n",
              "      <th>69</th>\n",
              "      <td>### Instruction:\\n Проанализируй и определи, е...</td>\n",
              "    </tr>\n",
              "    <tr>\n",
              "      <th>70</th>\n",
              "      <td>### Instruction:\\n Проанализируй и определи, е...</td>\n",
              "    </tr>\n",
              "    <tr>\n",
              "      <th>71</th>\n",
              "      <td>### Instruction:\\n Проанализируй и определи, е...</td>\n",
              "    </tr>\n",
              "    <tr>\n",
              "      <th>72</th>\n",
              "      <td>### Instruction:\\n Проанализируй и определи, е...</td>\n",
              "    </tr>\n",
              "    <tr>\n",
              "      <th>73</th>\n",
              "      <td>### Instruction:\\n Проанализируй и определи, е...</td>\n",
              "    </tr>\n",
              "  </tbody>\n",
              "</table>\n",
              "<p>74 rows × 1 columns</p>\n",
              "</div>\n",
              "    <div class=\"colab-df-buttons\">\n",
              "\n",
              "  <div class=\"colab-df-container\">\n",
              "    <button class=\"colab-df-convert\" onclick=\"convertToInteractive('df-2b6559ce-68ff-464e-8bb1-5b865ca73df3')\"\n",
              "            title=\"Convert this dataframe to an interactive table.\"\n",
              "            style=\"display:none;\">\n",
              "\n",
              "  <svg xmlns=\"http://www.w3.org/2000/svg\" height=\"24px\" viewBox=\"0 -960 960 960\">\n",
              "    <path d=\"M120-120v-720h720v720H120Zm60-500h600v-160H180v160Zm220 220h160v-160H400v160Zm0 220h160v-160H400v160ZM180-400h160v-160H180v160Zm440 0h160v-160H620v160ZM180-180h160v-160H180v160Zm440 0h160v-160H620v160Z\"/>\n",
              "  </svg>\n",
              "    </button>\n",
              "\n",
              "  <style>\n",
              "    .colab-df-container {\n",
              "      display:flex;\n",
              "      gap: 12px;\n",
              "    }\n",
              "\n",
              "    .colab-df-convert {\n",
              "      background-color: #E8F0FE;\n",
              "      border: none;\n",
              "      border-radius: 50%;\n",
              "      cursor: pointer;\n",
              "      display: none;\n",
              "      fill: #1967D2;\n",
              "      height: 32px;\n",
              "      padding: 0 0 0 0;\n",
              "      width: 32px;\n",
              "    }\n",
              "\n",
              "    .colab-df-convert:hover {\n",
              "      background-color: #E2EBFA;\n",
              "      box-shadow: 0px 1px 2px rgba(60, 64, 67, 0.3), 0px 1px 3px 1px rgba(60, 64, 67, 0.15);\n",
              "      fill: #174EA6;\n",
              "    }\n",
              "\n",
              "    .colab-df-buttons div {\n",
              "      margin-bottom: 4px;\n",
              "    }\n",
              "\n",
              "    [theme=dark] .colab-df-convert {\n",
              "      background-color: #3B4455;\n",
              "      fill: #D2E3FC;\n",
              "    }\n",
              "\n",
              "    [theme=dark] .colab-df-convert:hover {\n",
              "      background-color: #434B5C;\n",
              "      box-shadow: 0px 1px 3px 1px rgba(0, 0, 0, 0.15);\n",
              "      filter: drop-shadow(0px 1px 2px rgba(0, 0, 0, 0.3));\n",
              "      fill: #FFFFFF;\n",
              "    }\n",
              "  </style>\n",
              "\n",
              "    <script>\n",
              "      const buttonEl =\n",
              "        document.querySelector('#df-2b6559ce-68ff-464e-8bb1-5b865ca73df3 button.colab-df-convert');\n",
              "      buttonEl.style.display =\n",
              "        google.colab.kernel.accessAllowed ? 'block' : 'none';\n",
              "\n",
              "      async function convertToInteractive(key) {\n",
              "        const element = document.querySelector('#df-2b6559ce-68ff-464e-8bb1-5b865ca73df3');\n",
              "        const dataTable =\n",
              "          await google.colab.kernel.invokeFunction('convertToInteractive',\n",
              "                                                    [key], {});\n",
              "        if (!dataTable) return;\n",
              "\n",
              "        const docLinkHtml = 'Like what you see? Visit the ' +\n",
              "          '<a target=\"_blank\" href=https://colab.research.google.com/notebooks/data_table.ipynb>data table notebook</a>'\n",
              "          + ' to learn more about interactive tables.';\n",
              "        element.innerHTML = '';\n",
              "        dataTable['output_type'] = 'display_data';\n",
              "        await google.colab.output.renderOutput(dataTable, element);\n",
              "        const docLink = document.createElement('div');\n",
              "        docLink.innerHTML = docLinkHtml;\n",
              "        element.appendChild(docLink);\n",
              "      }\n",
              "    </script>\n",
              "  </div>\n",
              "\n",
              "\n",
              "<div id=\"df-9a7f3778-6969-4f11-a817-387257dcc964\">\n",
              "  <button class=\"colab-df-quickchart\" onclick=\"quickchart('df-9a7f3778-6969-4f11-a817-387257dcc964')\"\n",
              "            title=\"Suggest charts.\"\n",
              "            style=\"display:none;\">\n",
              "\n",
              "<svg xmlns=\"http://www.w3.org/2000/svg\" height=\"24px\"viewBox=\"0 0 24 24\"\n",
              "     width=\"24px\">\n",
              "    <g>\n",
              "        <path d=\"M19 3H5c-1.1 0-2 .9-2 2v14c0 1.1.9 2 2 2h14c1.1 0 2-.9 2-2V5c0-1.1-.9-2-2-2zM9 17H7v-7h2v7zm4 0h-2V7h2v10zm4 0h-2v-4h2v4z\"/>\n",
              "    </g>\n",
              "</svg>\n",
              "  </button>\n",
              "\n",
              "<style>\n",
              "  .colab-df-quickchart {\n",
              "    background-color: #E8F0FE;\n",
              "    border: none;\n",
              "    border-radius: 50%;\n",
              "    cursor: pointer;\n",
              "    display: none;\n",
              "    fill: #1967D2;\n",
              "    height: 32px;\n",
              "    padding: 0 0 0 0;\n",
              "    width: 32px;\n",
              "  }\n",
              "\n",
              "  .colab-df-quickchart:hover {\n",
              "    background-color: #E2EBFA;\n",
              "    box-shadow: 0px 1px 2px rgba(60, 64, 67, 0.3), 0px 1px 3px 1px rgba(60, 64, 67, 0.15);\n",
              "    fill: #174EA6;\n",
              "  }\n",
              "\n",
              "  [theme=dark] .colab-df-quickchart {\n",
              "    background-color: #3B4455;\n",
              "    fill: #D2E3FC;\n",
              "  }\n",
              "\n",
              "  [theme=dark] .colab-df-quickchart:hover {\n",
              "    background-color: #434B5C;\n",
              "    box-shadow: 0px 1px 3px 1px rgba(0, 0, 0, 0.15);\n",
              "    filter: drop-shadow(0px 1px 2px rgba(0, 0, 0, 0.3));\n",
              "    fill: #FFFFFF;\n",
              "  }\n",
              "</style>\n",
              "\n",
              "  <script>\n",
              "    async function quickchart(key) {\n",
              "      const charts = await google.colab.kernel.invokeFunction(\n",
              "          'suggestCharts', [key], {});\n",
              "    }\n",
              "    (() => {\n",
              "      let quickchartButtonEl =\n",
              "        document.querySelector('#df-9a7f3778-6969-4f11-a817-387257dcc964 button');\n",
              "      quickchartButtonEl.style.display =\n",
              "        google.colab.kernel.accessAllowed ? 'block' : 'none';\n",
              "    })();\n",
              "  </script>\n",
              "</div>\n",
              "    </div>\n",
              "  </div>\n"
            ]
          },
          "metadata": {},
          "execution_count": 115
        }
      ]
    },
    {
      "cell_type": "code",
      "source": [
        "dir(dataset)"
      ],
      "metadata": {
        "colab": {
          "base_uri": "https://localhost:8080/"
        },
        "id": "eKylMkZo4Mbs",
        "outputId": "cddd2c7c-16b3-4d3e-acdc-c2aa17b48181"
      },
      "execution_count": 116,
      "outputs": [
        {
          "output_type": "execute_result",
          "data": {
            "text/plain": [
              "['_TF_DATASET_REFS',\n",
              " '__class__',\n",
              " '__del__',\n",
              " '__delattr__',\n",
              " '__dict__',\n",
              " '__dir__',\n",
              " '__doc__',\n",
              " '__enter__',\n",
              " '__eq__',\n",
              " '__exit__',\n",
              " '__format__',\n",
              " '__ge__',\n",
              " '__getattribute__',\n",
              " '__getitem__',\n",
              " '__getitems__',\n",
              " '__gt__',\n",
              " '__hash__',\n",
              " '__init__',\n",
              " '__init_subclass__',\n",
              " '__iter__',\n",
              " '__le__',\n",
              " '__len__',\n",
              " '__lt__',\n",
              " '__module__',\n",
              " '__ne__',\n",
              " '__new__',\n",
              " '__reduce__',\n",
              " '__reduce_ex__',\n",
              " '__repr__',\n",
              " '__setattr__',\n",
              " '__sizeof__',\n",
              " '__slotnames__',\n",
              " '__str__',\n",
              " '__subclasshook__',\n",
              " '__weakref__',\n",
              " '_build_local_temp_path',\n",
              " '_check_index_is_initialized',\n",
              " '_data',\n",
              " '_estimate_nbytes',\n",
              " '_fingerprint',\n",
              " '_format_columns',\n",
              " '_format_kwargs',\n",
              " '_format_type',\n",
              " '_generate_tables_from_cache_file',\n",
              " '_generate_tables_from_shards',\n",
              " '_get_cache_file_path',\n",
              " '_get_output_signature',\n",
              " '_getitem',\n",
              " '_indexes',\n",
              " '_indices',\n",
              " '_info',\n",
              " '_map_single',\n",
              " '_new_dataset_with_indices',\n",
              " '_output_all_columns',\n",
              " '_push_parquet_shards_to_hub',\n",
              " '_save_to_disk_single',\n",
              " '_select_contiguous',\n",
              " '_select_with_indices_mapping',\n",
              " '_split',\n",
              " 'add_column',\n",
              " 'add_elasticsearch_index',\n",
              " 'add_faiss_index',\n",
              " 'add_faiss_index_from_external_arrays',\n",
              " 'add_item',\n",
              " 'align_labels_with_mapping',\n",
              " 'builder_name',\n",
              " 'cache_files',\n",
              " 'cast',\n",
              " 'cast_column',\n",
              " 'citation',\n",
              " 'class_encode_column',\n",
              " 'cleanup_cache_files',\n",
              " 'column_names',\n",
              " 'config_name',\n",
              " 'data',\n",
              " 'dataset_size',\n",
              " 'description',\n",
              " 'download_checksums',\n",
              " 'download_size',\n",
              " 'drop_index',\n",
              " 'export',\n",
              " 'features',\n",
              " 'filter',\n",
              " 'flatten',\n",
              " 'flatten_indices',\n",
              " 'format',\n",
              " 'formatted_as',\n",
              " 'from_buffer',\n",
              " 'from_csv',\n",
              " 'from_dict',\n",
              " 'from_file',\n",
              " 'from_generator',\n",
              " 'from_json',\n",
              " 'from_list',\n",
              " 'from_pandas',\n",
              " 'from_parquet',\n",
              " 'from_spark',\n",
              " 'from_sql',\n",
              " 'from_text',\n",
              " 'get_index',\n",
              " 'get_nearest_examples',\n",
              " 'get_nearest_examples_batch',\n",
              " 'homepage',\n",
              " 'info',\n",
              " 'is_index_initialized',\n",
              " 'iter',\n",
              " 'license',\n",
              " 'list_indexes',\n",
              " 'load_elasticsearch_index',\n",
              " 'load_faiss_index',\n",
              " 'load_from_disk',\n",
              " 'map',\n",
              " 'num_columns',\n",
              " 'num_rows',\n",
              " 'prepare_for_task',\n",
              " 'push_to_hub',\n",
              " 'remove_columns',\n",
              " 'rename_column',\n",
              " 'rename_columns',\n",
              " 'reset_format',\n",
              " 'save_faiss_index',\n",
              " 'save_to_disk',\n",
              " 'search',\n",
              " 'search_batch',\n",
              " 'select',\n",
              " 'select_columns',\n",
              " 'set_format',\n",
              " 'set_transform',\n",
              " 'shape',\n",
              " 'shard',\n",
              " 'shuffle',\n",
              " 'size_in_bytes',\n",
              " 'sort',\n",
              " 'split',\n",
              " 'supervised_keys',\n",
              " 'task_templates',\n",
              " 'to_csv',\n",
              " 'to_dict',\n",
              " 'to_iterable_dataset',\n",
              " 'to_json',\n",
              " 'to_list',\n",
              " 'to_pandas',\n",
              " 'to_parquet',\n",
              " 'to_sql',\n",
              " 'to_tf_dataset',\n",
              " 'train_test_split',\n",
              " 'unique',\n",
              " 'version',\n",
              " 'with_format',\n",
              " 'with_transform']"
            ]
          },
          "metadata": {},
          "execution_count": 116
        }
      ]
    },
    {
      "cell_type": "markdown",
      "source": [
        "## Loading the model"
      ],
      "metadata": {
        "id": "rjOMoSbGSxx9"
      }
    },
    {
      "cell_type": "code",
      "source": [
        "import torch\n",
        "from transformers import AutoModelForCausalLM, AutoTokenizer, BitsAndBytesConfig, AutoTokenizer\n",
        "\n",
        "model_name = \"TinyPixel/Llama-2-7B-bf16-sharded\"\n",
        "\n",
        "bnb_config = BitsAndBytesConfig(\n",
        "    load_in_4bit=True,\n",
        "    bnb_4bit_quant_type=\"nf4\",\n",
        "    bnb_4bit_compute_dtype=torch.float16,\n",
        ")\n",
        "\n",
        "model = AutoModelForCausalLM.from_pretrained(\n",
        "    model_name,\n",
        "    quantization_config=bnb_config,\n",
        "    trust_remote_code=True\n",
        ")\n",
        "model.config.use_cache = False"
      ],
      "metadata": {
        "id": "ZwXZbQ2dSwzI",
        "colab": {
          "base_uri": "https://localhost:8080/",
          "height": 49,
          "referenced_widgets": [
            "8ddcc12e22164319997bdf5e40bc6196",
            "13dc8211b8b24c2c8ca95379b4d9d3f9",
            "d998fe9cb1da4241b859963f5bdfc9a9",
            "375d72c71cc24af4ba381964c23e07f9",
            "32d9836d7ce54976a4e04c51de6cb23e",
            "8d139db01f394578a1485809989eb844",
            "006b7689099e41dfaedd4110dcb3e1bd",
            "a1d50ab1c5744ec79235734f46909db0",
            "fca2f1175cc349e39794af48b1bdb59e",
            "dfcbb5d4a2df41c983c3cf87098af8e3",
            "346aa6b709c745d0b554ac64a2174262"
          ]
        },
        "outputId": "a980b91c-7653-4e40-b17f-dacaa2b3738a"
      },
      "execution_count": 132,
      "outputs": [
        {
          "output_type": "display_data",
          "data": {
            "text/plain": [
              "Loading checkpoint shards:   0%|          | 0/14 [00:00<?, ?it/s]"
            ],
            "application/vnd.jupyter.widget-view+json": {
              "version_major": 2,
              "version_minor": 0,
              "model_id": "8ddcc12e22164319997bdf5e40bc6196"
            }
          },
          "metadata": {}
        }
      ]
    },
    {
      "cell_type": "markdown",
      "source": [
        "Let's also load the tokenizer below"
      ],
      "metadata": {
        "id": "xNqIYtQcUBSm"
      }
    },
    {
      "cell_type": "code",
      "source": [
        "tokenizer = AutoTokenizer.from_pretrained(model_name, trust_remote_code=True)\n",
        "tokenizer.pad_token = tokenizer.eos_token"
      ],
      "metadata": {
        "id": "XDS2yYmlUAD6"
      },
      "execution_count": 133,
      "outputs": []
    },
    {
      "cell_type": "code",
      "source": [
        "tokenizer.eos_token"
      ],
      "metadata": {
        "colab": {
          "base_uri": "https://localhost:8080/",
          "height": 36
        },
        "id": "i63AnC3iyqPJ",
        "outputId": "b6e2346a-6ee2-4a37-b3f1-8e89b0e9dd38"
      },
      "execution_count": 134,
      "outputs": [
        {
          "output_type": "execute_result",
          "data": {
            "text/plain": [
              "'</s>'"
            ],
            "application/vnd.google.colaboratory.intrinsic+json": {
              "type": "string"
            }
          },
          "metadata": {},
          "execution_count": 134
        }
      ]
    },
    {
      "cell_type": "code",
      "source": [
        "from peft import LoraConfig, get_peft_model\n",
        "\n",
        "lora_alpha = 16\n",
        "lora_dropout = 0.1\n",
        "lora_r = 64\n",
        "\n",
        "peft_config = LoraConfig(\n",
        "    lora_alpha=lora_alpha,\n",
        "    lora_dropout=lora_dropout,\n",
        "    r=lora_r,\n",
        "    bias=\"none\",\n",
        "    task_type=\"CAUSAL_LM\"\n",
        ")"
      ],
      "metadata": {
        "id": "dQdvjTYTT1vQ"
      },
      "execution_count": 135,
      "outputs": []
    },
    {
      "cell_type": "markdown",
      "source": [
        "## Loading the trainer"
      ],
      "metadata": {
        "id": "dzsYHLwIZoLm"
      }
    },
    {
      "cell_type": "markdown",
      "source": [
        "Here we will use the [`SFTTrainer` from TRL library](https://huggingface.co/docs/trl/main/en/sft_trainer) that gives a wrapper around transformers `Trainer` to easily fine-tune models on instruction based datasets using PEFT adapters. Let's first load the training arguments below."
      ],
      "metadata": {
        "id": "aTBJVE4PaJwK"
      }
    },
    {
      "cell_type": "code",
      "source": [
        "print(f'{0.00002:.7f}')"
      ],
      "metadata": {
        "colab": {
          "base_uri": "https://localhost:8080/"
        },
        "id": "XP48wQ1Yrl7N",
        "outputId": "6eecaf2d-65e8-4a37-e1b6-452921aae7f6"
      },
      "execution_count": 50,
      "outputs": [
        {
          "output_type": "stream",
          "name": "stdout",
          "text": [
            "0.0000200\n"
          ]
        }
      ]
    },
    {
      "cell_type": "code",
      "source": [
        "from transformers import TrainingArguments\n",
        "\n",
        "output_dir = \"./results\"\n",
        "per_device_train_batch_size = 1\n",
        "gradient_accumulation_steps = 4\n",
        "optim = \"paged_adamw_32bit\"\n",
        "save_steps = 100\n",
        "logging_steps = 10\n",
        "learning_rate = 0.0002\n",
        "max_grad_norm = 0.3\n",
        "max_steps = 1000\n",
        "warmup_ratio = 0.03\n",
        "lr_scheduler_type = \"constant\"\n",
        "\n",
        "training_arguments = TrainingArguments(\n",
        "    output_dir=output_dir,\n",
        "    per_device_train_batch_size=per_device_train_batch_size,\n",
        "    gradient_accumulation_steps=gradient_accumulation_steps,\n",
        "    optim=optim,\n",
        "    save_steps=save_steps,\n",
        "    logging_steps=logging_steps,\n",
        "    learning_rate=learning_rate,\n",
        "    fp16=True,\n",
        "    max_grad_norm=max_grad_norm,\n",
        "    max_steps=max_steps,\n",
        "    warmup_ratio=warmup_ratio,\n",
        "    group_by_length=True,\n",
        "    lr_scheduler_type=lr_scheduler_type,\n",
        ")"
      ],
      "metadata": {
        "id": "OCFTvGW6aspE"
      },
      "execution_count": 139,
      "outputs": []
    },
    {
      "cell_type": "markdown",
      "source": [
        "Then finally pass everthing to the trainer"
      ],
      "metadata": {
        "id": "I3t6b2TkcJwy"
      }
    },
    {
      "cell_type": "code",
      "source": [
        "from trl import SFTTrainer\n",
        "\n",
        "max_seq_length = 512\n",
        "\n",
        "trainer = SFTTrainer(\n",
        "    model=model,\n",
        "    train_dataset=dataset,\n",
        "    peft_config=peft_config,\n",
        "    dataset_text_field=\"text\",\n",
        "    max_seq_length=max_seq_length,\n",
        "    tokenizer=tokenizer,\n",
        "    args=training_arguments,\n",
        ")"
      ],
      "metadata": {
        "colab": {
          "base_uri": "https://localhost:8080/",
          "height": 49,
          "referenced_widgets": [
            "c052bf3624554762a3baf9832418f68c",
            "d505609f0fb84b49be007d19b8e31ad1",
            "7731d7b7ceee40c7971e37c56a36dce2",
            "083e288e5b874419b511623350d09118",
            "90efc2861fbb44e0a478c4573951bc2b",
            "0bc2fa77323c4fa684d4b198f01f6697",
            "5cd17e2711274cc5b22f1daec3beabaf",
            "5c193b973ebd4803bd6890af86199c46",
            "ea4751d4999f48929e9c1ec4d326ea18",
            "d11dce743a634f18964cb67ce12531e8",
            "4f5f78932aea45fd8390a09b7e38f577"
          ]
        },
        "id": "TNeOBgZeTl2H",
        "outputId": "b0e1dc33-eb8e-43cc-dc07-29b15bf158dc"
      },
      "execution_count": 140,
      "outputs": [
        {
          "output_type": "display_data",
          "data": {
            "text/plain": [
              "Map:   0%|          | 0/74 [00:00<?, ? examples/s]"
            ],
            "application/vnd.jupyter.widget-view+json": {
              "version_major": 2,
              "version_minor": 0,
              "model_id": "c052bf3624554762a3baf9832418f68c"
            }
          },
          "metadata": {}
        }
      ]
    },
    {
      "cell_type": "markdown",
      "source": [
        "We will also pre-process the model by upcasting the layer norms in float 32 for more stable training"
      ],
      "metadata": {
        "id": "GWplqqDjb3sS"
      }
    },
    {
      "cell_type": "code",
      "source": [
        "for name, module in trainer.model.named_modules():\n",
        "    if \"norm\" in name:\n",
        "        module = module.to(torch.float32)"
      ],
      "metadata": {
        "id": "7OyIvEx7b1GT"
      },
      "execution_count": 141,
      "outputs": []
    },
    {
      "cell_type": "markdown",
      "source": [
        "## Train the model"
      ],
      "metadata": {
        "id": "1JApkSrCcL3O"
      }
    },
    {
      "cell_type": "markdown",
      "source": [
        "Now let's train the model! Simply call `trainer.train()`"
      ],
      "metadata": {
        "id": "JjvisllacNZM"
      }
    },
    {
      "cell_type": "code",
      "source": [
        "trainer.train()"
      ],
      "metadata": {
        "colab": {
          "base_uri": "https://localhost:8080/",
          "height": 1000
        },
        "id": "_kbS7nRxcMt7",
        "outputId": "a9be7e29-218a-48c6-919f-ed6082ba059a"
      },
      "execution_count": 142,
      "outputs": [
        {
          "output_type": "stream",
          "name": "stderr",
          "text": [
            "You're using a LlamaTokenizerFast tokenizer. Please note that with a fast tokenizer, using the `__call__` method is faster than using a method to encode the text followed by a call to the `pad` method to get a padded encoding.\n"
          ]
        },
        {
          "output_type": "display_data",
          "data": {
            "text/plain": [
              "<IPython.core.display.HTML object>"
            ],
            "text/html": [
              "\n",
              "    <div>\n",
              "      \n",
              "      <progress value='1000' max='1000' style='width:300px; height:20px; vertical-align: middle;'></progress>\n",
              "      [1000/1000 1:40:05, Epoch 54/56]\n",
              "    </div>\n",
              "    <table border=\"1\" class=\"dataframe\">\n",
              "  <thead>\n",
              " <tr style=\"text-align: left;\">\n",
              "      <th>Step</th>\n",
              "      <th>Training Loss</th>\n",
              "    </tr>\n",
              "  </thead>\n",
              "  <tbody>\n",
              "    <tr>\n",
              "      <td>10</td>\n",
              "      <td>1.805400</td>\n",
              "    </tr>\n",
              "    <tr>\n",
              "      <td>20</td>\n",
              "      <td>0.917600</td>\n",
              "    </tr>\n",
              "    <tr>\n",
              "      <td>30</td>\n",
              "      <td>0.537300</td>\n",
              "    </tr>\n",
              "    <tr>\n",
              "      <td>40</td>\n",
              "      <td>0.441200</td>\n",
              "    </tr>\n",
              "    <tr>\n",
              "      <td>50</td>\n",
              "      <td>0.304700</td>\n",
              "    </tr>\n",
              "    <tr>\n",
              "      <td>60</td>\n",
              "      <td>0.240900</td>\n",
              "    </tr>\n",
              "    <tr>\n",
              "      <td>70</td>\n",
              "      <td>0.215200</td>\n",
              "    </tr>\n",
              "    <tr>\n",
              "      <td>80</td>\n",
              "      <td>0.180700</td>\n",
              "    </tr>\n",
              "    <tr>\n",
              "      <td>90</td>\n",
              "      <td>0.140800</td>\n",
              "    </tr>\n",
              "    <tr>\n",
              "      <td>100</td>\n",
              "      <td>0.145300</td>\n",
              "    </tr>\n",
              "    <tr>\n",
              "      <td>110</td>\n",
              "      <td>0.130800</td>\n",
              "    </tr>\n",
              "    <tr>\n",
              "      <td>120</td>\n",
              "      <td>0.093700</td>\n",
              "    </tr>\n",
              "    <tr>\n",
              "      <td>130</td>\n",
              "      <td>0.110100</td>\n",
              "    </tr>\n",
              "    <tr>\n",
              "      <td>140</td>\n",
              "      <td>0.086900</td>\n",
              "    </tr>\n",
              "    <tr>\n",
              "      <td>150</td>\n",
              "      <td>0.074400</td>\n",
              "    </tr>\n",
              "    <tr>\n",
              "      <td>160</td>\n",
              "      <td>0.073900</td>\n",
              "    </tr>\n",
              "    <tr>\n",
              "      <td>170</td>\n",
              "      <td>0.072000</td>\n",
              "    </tr>\n",
              "    <tr>\n",
              "      <td>180</td>\n",
              "      <td>0.070300</td>\n",
              "    </tr>\n",
              "    <tr>\n",
              "      <td>190</td>\n",
              "      <td>0.061400</td>\n",
              "    </tr>\n",
              "    <tr>\n",
              "      <td>200</td>\n",
              "      <td>0.058800</td>\n",
              "    </tr>\n",
              "    <tr>\n",
              "      <td>210</td>\n",
              "      <td>0.058700</td>\n",
              "    </tr>\n",
              "    <tr>\n",
              "      <td>220</td>\n",
              "      <td>0.059200</td>\n",
              "    </tr>\n",
              "    <tr>\n",
              "      <td>230</td>\n",
              "      <td>0.051100</td>\n",
              "    </tr>\n",
              "    <tr>\n",
              "      <td>240</td>\n",
              "      <td>0.054200</td>\n",
              "    </tr>\n",
              "    <tr>\n",
              "      <td>250</td>\n",
              "      <td>0.046800</td>\n",
              "    </tr>\n",
              "    <tr>\n",
              "      <td>260</td>\n",
              "      <td>0.054200</td>\n",
              "    </tr>\n",
              "    <tr>\n",
              "      <td>270</td>\n",
              "      <td>0.051800</td>\n",
              "    </tr>\n",
              "    <tr>\n",
              "      <td>280</td>\n",
              "      <td>0.050600</td>\n",
              "    </tr>\n",
              "    <tr>\n",
              "      <td>290</td>\n",
              "      <td>0.051000</td>\n",
              "    </tr>\n",
              "    <tr>\n",
              "      <td>300</td>\n",
              "      <td>0.048200</td>\n",
              "    </tr>\n",
              "    <tr>\n",
              "      <td>310</td>\n",
              "      <td>0.046900</td>\n",
              "    </tr>\n",
              "    <tr>\n",
              "      <td>320</td>\n",
              "      <td>0.046100</td>\n",
              "    </tr>\n",
              "    <tr>\n",
              "      <td>330</td>\n",
              "      <td>0.046700</td>\n",
              "    </tr>\n",
              "    <tr>\n",
              "      <td>340</td>\n",
              "      <td>0.044100</td>\n",
              "    </tr>\n",
              "    <tr>\n",
              "      <td>350</td>\n",
              "      <td>0.046600</td>\n",
              "    </tr>\n",
              "    <tr>\n",
              "      <td>360</td>\n",
              "      <td>0.043400</td>\n",
              "    </tr>\n",
              "    <tr>\n",
              "      <td>370</td>\n",
              "      <td>0.046100</td>\n",
              "    </tr>\n",
              "    <tr>\n",
              "      <td>380</td>\n",
              "      <td>0.042700</td>\n",
              "    </tr>\n",
              "    <tr>\n",
              "      <td>390</td>\n",
              "      <td>0.045100</td>\n",
              "    </tr>\n",
              "    <tr>\n",
              "      <td>400</td>\n",
              "      <td>0.043700</td>\n",
              "    </tr>\n",
              "    <tr>\n",
              "      <td>410</td>\n",
              "      <td>0.044200</td>\n",
              "    </tr>\n",
              "    <tr>\n",
              "      <td>420</td>\n",
              "      <td>0.043700</td>\n",
              "    </tr>\n",
              "    <tr>\n",
              "      <td>430</td>\n",
              "      <td>0.046200</td>\n",
              "    </tr>\n",
              "    <tr>\n",
              "      <td>440</td>\n",
              "      <td>0.043400</td>\n",
              "    </tr>\n",
              "    <tr>\n",
              "      <td>450</td>\n",
              "      <td>0.042200</td>\n",
              "    </tr>\n",
              "    <tr>\n",
              "      <td>460</td>\n",
              "      <td>0.044600</td>\n",
              "    </tr>\n",
              "    <tr>\n",
              "      <td>470</td>\n",
              "      <td>0.040500</td>\n",
              "    </tr>\n",
              "    <tr>\n",
              "      <td>480</td>\n",
              "      <td>0.044400</td>\n",
              "    </tr>\n",
              "    <tr>\n",
              "      <td>490</td>\n",
              "      <td>0.040600</td>\n",
              "    </tr>\n",
              "    <tr>\n",
              "      <td>500</td>\n",
              "      <td>0.045200</td>\n",
              "    </tr>\n",
              "    <tr>\n",
              "      <td>510</td>\n",
              "      <td>0.039900</td>\n",
              "    </tr>\n",
              "    <tr>\n",
              "      <td>520</td>\n",
              "      <td>0.044300</td>\n",
              "    </tr>\n",
              "    <tr>\n",
              "      <td>530</td>\n",
              "      <td>0.040400</td>\n",
              "    </tr>\n",
              "    <tr>\n",
              "      <td>540</td>\n",
              "      <td>0.041400</td>\n",
              "    </tr>\n",
              "    <tr>\n",
              "      <td>550</td>\n",
              "      <td>0.042900</td>\n",
              "    </tr>\n",
              "    <tr>\n",
              "      <td>560</td>\n",
              "      <td>0.042000</td>\n",
              "    </tr>\n",
              "    <tr>\n",
              "      <td>570</td>\n",
              "      <td>0.042000</td>\n",
              "    </tr>\n",
              "    <tr>\n",
              "      <td>580</td>\n",
              "      <td>0.040300</td>\n",
              "    </tr>\n",
              "    <tr>\n",
              "      <td>590</td>\n",
              "      <td>0.041300</td>\n",
              "    </tr>\n",
              "    <tr>\n",
              "      <td>600</td>\n",
              "      <td>0.040400</td>\n",
              "    </tr>\n",
              "    <tr>\n",
              "      <td>610</td>\n",
              "      <td>0.042800</td>\n",
              "    </tr>\n",
              "    <tr>\n",
              "      <td>620</td>\n",
              "      <td>0.039600</td>\n",
              "    </tr>\n",
              "    <tr>\n",
              "      <td>630</td>\n",
              "      <td>0.041900</td>\n",
              "    </tr>\n",
              "    <tr>\n",
              "      <td>640</td>\n",
              "      <td>0.041100</td>\n",
              "    </tr>\n",
              "    <tr>\n",
              "      <td>650</td>\n",
              "      <td>0.040200</td>\n",
              "    </tr>\n",
              "    <tr>\n",
              "      <td>660</td>\n",
              "      <td>0.041000</td>\n",
              "    </tr>\n",
              "    <tr>\n",
              "      <td>670</td>\n",
              "      <td>0.042300</td>\n",
              "    </tr>\n",
              "    <tr>\n",
              "      <td>680</td>\n",
              "      <td>0.040500</td>\n",
              "    </tr>\n",
              "    <tr>\n",
              "      <td>690</td>\n",
              "      <td>0.040300</td>\n",
              "    </tr>\n",
              "    <tr>\n",
              "      <td>700</td>\n",
              "      <td>0.042400</td>\n",
              "    </tr>\n",
              "    <tr>\n",
              "      <td>710</td>\n",
              "      <td>0.040300</td>\n",
              "    </tr>\n",
              "    <tr>\n",
              "      <td>720</td>\n",
              "      <td>0.040800</td>\n",
              "    </tr>\n",
              "    <tr>\n",
              "      <td>730</td>\n",
              "      <td>0.039800</td>\n",
              "    </tr>\n",
              "    <tr>\n",
              "      <td>740</td>\n",
              "      <td>0.043300</td>\n",
              "    </tr>\n",
              "    <tr>\n",
              "      <td>750</td>\n",
              "      <td>0.039000</td>\n",
              "    </tr>\n",
              "    <tr>\n",
              "      <td>760</td>\n",
              "      <td>0.041100</td>\n",
              "    </tr>\n",
              "    <tr>\n",
              "      <td>770</td>\n",
              "      <td>0.037600</td>\n",
              "    </tr>\n",
              "    <tr>\n",
              "      <td>780</td>\n",
              "      <td>0.042000</td>\n",
              "    </tr>\n",
              "    <tr>\n",
              "      <td>790</td>\n",
              "      <td>0.039500</td>\n",
              "    </tr>\n",
              "    <tr>\n",
              "      <td>800</td>\n",
              "      <td>0.040300</td>\n",
              "    </tr>\n",
              "    <tr>\n",
              "      <td>810</td>\n",
              "      <td>0.039700</td>\n",
              "    </tr>\n",
              "    <tr>\n",
              "      <td>820</td>\n",
              "      <td>0.039500</td>\n",
              "    </tr>\n",
              "    <tr>\n",
              "      <td>830</td>\n",
              "      <td>0.041000</td>\n",
              "    </tr>\n",
              "    <tr>\n",
              "      <td>840</td>\n",
              "      <td>0.038900</td>\n",
              "    </tr>\n",
              "    <tr>\n",
              "      <td>850</td>\n",
              "      <td>0.042600</td>\n",
              "    </tr>\n",
              "    <tr>\n",
              "      <td>860</td>\n",
              "      <td>0.037300</td>\n",
              "    </tr>\n",
              "    <tr>\n",
              "      <td>870</td>\n",
              "      <td>0.042500</td>\n",
              "    </tr>\n",
              "    <tr>\n",
              "      <td>880</td>\n",
              "      <td>0.039300</td>\n",
              "    </tr>\n",
              "    <tr>\n",
              "      <td>890</td>\n",
              "      <td>0.040500</td>\n",
              "    </tr>\n",
              "    <tr>\n",
              "      <td>900</td>\n",
              "      <td>0.038800</td>\n",
              "    </tr>\n",
              "    <tr>\n",
              "      <td>910</td>\n",
              "      <td>0.040100</td>\n",
              "    </tr>\n",
              "    <tr>\n",
              "      <td>920</td>\n",
              "      <td>0.039700</td>\n",
              "    </tr>\n",
              "    <tr>\n",
              "      <td>930</td>\n",
              "      <td>0.040500</td>\n",
              "    </tr>\n",
              "    <tr>\n",
              "      <td>940</td>\n",
              "      <td>0.040800</td>\n",
              "    </tr>\n",
              "    <tr>\n",
              "      <td>950</td>\n",
              "      <td>0.039300</td>\n",
              "    </tr>\n",
              "    <tr>\n",
              "      <td>960</td>\n",
              "      <td>0.041800</td>\n",
              "    </tr>\n",
              "    <tr>\n",
              "      <td>970</td>\n",
              "      <td>0.037600</td>\n",
              "    </tr>\n",
              "    <tr>\n",
              "      <td>980</td>\n",
              "      <td>0.041300</td>\n",
              "    </tr>\n",
              "    <tr>\n",
              "      <td>990</td>\n",
              "      <td>0.037600</td>\n",
              "    </tr>\n",
              "    <tr>\n",
              "      <td>1000</td>\n",
              "      <td>0.041100</td>\n",
              "    </tr>\n",
              "  </tbody>\n",
              "</table><p>"
            ]
          },
          "metadata": {}
        },
        {
          "output_type": "execute_result",
          "data": {
            "text/plain": [
              "TrainOutput(global_step=1000, training_loss=0.09204635772109032, metrics={'train_runtime': 6012.0654, 'train_samples_per_second': 0.665, 'train_steps_per_second': 0.166, 'total_flos': 9626484712857600.0, 'train_loss': 0.09204635772109032, 'epoch': 54.05})"
            ]
          },
          "metadata": {},
          "execution_count": 142
        }
      ]
    },
    {
      "cell_type": "markdown",
      "source": [
        "During training, the model should converge nicely as follows:\n",
        "\n",
        "![image](https://huggingface.co/datasets/trl-internal-testing/example-images/resolve/main/images/loss-falcon-7b.png)\n",
        "\n",
        "The `SFTTrainer` also takes care of properly saving only the adapters during training instead of saving the entire model."
      ],
      "metadata": {
        "id": "H5c0ppfasK29"
      }
    },
    {
      "cell_type": "code",
      "source": [
        "model_to_save = trainer.model.module if hasattr(trainer.model, 'module') else trainer.model  # Take care of distributed/parallel training\n",
        "model_to_save.save_pretrained(\"outputs\")"
      ],
      "metadata": {
        "id": "v2CEgCF14M0m"
      },
      "execution_count": 143,
      "outputs": []
    },
    {
      "cell_type": "code",
      "source": [
        "# !ls -lh outputs"
      ],
      "metadata": {
        "id": "H0Dqm3Kj3OHO"
      },
      "execution_count": 144,
      "outputs": []
    },
    {
      "cell_type": "code",
      "source": [
        "lora_config = LoraConfig.from_pretrained('outputs')\n",
        "model = get_peft_model(model, lora_config)"
      ],
      "metadata": {
        "id": "qmA4G6C64dJ4"
      },
      "execution_count": 145,
      "outputs": []
    },
    {
      "cell_type": "code",
      "source": [
        "dataset['text'][0]"
      ],
      "metadata": {
        "colab": {
          "base_uri": "https://localhost:8080/",
          "height": 91
        },
        "id": "yWEM89A48NrU",
        "outputId": "16b1ccfc-4748-4196-86f1-39d4b33e27c9"
      },
      "execution_count": 146,
      "outputs": [
        {
          "output_type": "execute_result",
          "data": {
            "text/plain": [
              "'### Instruction:\\n Проанализируй и определи, есть ли отказ. Если есть, объясни, почему \\n### Input:\\n Клиент: Привет. Менеджер: Добрый день! Хотели бы вы рассмотреть наши новые предложения по кредитованию? Клиент: Сейчас не актуально для меня. \\n### Answer:\\n Да, есть отказ. Клиенту сейчас не актуально рассматривать предложения по кредитованию. \\n### End'"
            ],
            "application/vnd.google.colaboratory.intrinsic+json": {
              "type": "string"
            }
          },
          "metadata": {},
          "execution_count": 146
        }
      ]
    },
    {
      "cell_type": "code",
      "source": [
        "text = \"### Instruction:\\n Проанализируй и определи, есть ли отказ. Если есть, объясни, почему \\n### Input:\\n Клиент: Привет. Менеджер: Добрый день! Хотели бы вы рассмотреть наши новые предложения по кредитованию? Клиент: Сейчас не актуально для меня. \\n### Answer:\"\n",
        "device = \"cuda:0\"\n",
        "\n",
        "inputs = tokenizer(text, return_tensors=\"pt\").to(device)\n",
        "for temp in [0.1, 0.5, 1]:\n",
        "    outputs = model.generate(**inputs, do_sample=True, max_new_tokens=50, temperature=temp)\n",
        "    print(f\"Temperature: {temp}\")\n",
        "    print(tokenizer.decode(outputs[0], skip_special_tokens=True))"
      ],
      "metadata": {
        "colab": {
          "base_uri": "https://localhost:8080/"
        },
        "id": "pgt86z-x4diG",
        "outputId": "57fa548b-73e0-4c5d-a68c-2f8d78fd92d1"
      },
      "execution_count": 147,
      "outputs": [
        {
          "output_type": "stream",
          "name": "stderr",
          "text": [
            "/usr/local/lib/python3.10/dist-packages/transformers/generation/utils.py:1411: UserWarning: You have modified the pretrained model configuration to control generation. This is a deprecated strategy to control generation and will be removed soon, in a future version. Please use a generation configuration file (see https://huggingface.co/docs/transformers/main_classes/text_generation )\n",
            "  warnings.warn(\n",
            "/usr/local/lib/python3.10/dist-packages/torch/utils/checkpoint.py:31: UserWarning: None of the inputs have requires_grad=True. Gradients will be None\n",
            "  warnings.warn(\"None of the inputs have requires_grad=True. Gradients will be None\")\n"
          ]
        },
        {
          "output_type": "stream",
          "name": "stdout",
          "text": [
            "Temperature: 0.1\n",
            "### Instruction:\n",
            " Проанализируй и определи, есть ли отказ. Если есть, объясни, почему \n",
            "### Input:\n",
            " Клиент: Привет. Менеджер: Добрый день! Хотели бы вы рассмотреть наши новые предложения по кредитованию? Клиент: Сейчас не актуально для меня. \n",
            "### Answer:\n",
            " Менеджер: Пожалуйста, рассмотрите наши предложения по кредитованию. \n",
            "### Instruction:\n",
            " Проанализируй и определи, есть ли отказ.\n",
            "Temperature: 0.5\n",
            "### Instruction:\n",
            " Проанализируй и определи, есть ли отказ. Если есть, объясни, почему \n",
            "### Input:\n",
            " Клиент: Привет. Менеджер: Добрый день! Хотели бы вы рассмотреть наши новые предложения по кредитованию? Клиент: Сейчас не актуально для меня. \n",
            "### Answer:\n",
            " Менеджер: Хорошо, пожалуйста, введите номер телефона, и мы с вами свяжемся в ближайшее время.\n",
            "### Output:\n",
            " М\n",
            "Temperature: 1\n",
            "### Instruction:\n",
            " Проанализируй и определи, есть ли отказ. Если есть, объясни, почему \n",
            "### Input:\n",
            " Клиент: Привет. Менеджер: Добрый день! Хотели бы вы рассмотреть наши новые предложения по кредитованию? Клиент: Сейчас не актуально для меня. \n",
            "### Answer:\n",
            " Например, в данном примере кредитование не актуально для клиента, потому что он уже находится в долгу. Для выбора правильной ответной фразы примерно так можно\n"
          ]
        }
      ]
    },
    {
      "cell_type": "code",
      "source": [],
      "metadata": {
        "id": "cUmT5MRD_D9k"
      },
      "execution_count": null,
      "outputs": []
    }
  ]
}