{
 "cells": [
  {
   "cell_type": "markdown",
   "id": "684f7332-bf5e-432d-a489-3d3280dbf34b",
   "metadata": {},
   "source": [
    "# GReaT colab example\n",
    " \n",
    "**Please make sure you select a runtime with GPU**\n",
    "\n",
    "*(Runtime-> Change Runtime-> Hardware accelerator is set to GPU)*"
   ]
  },
  {
   "cell_type": "code",
   "execution_count": null,
   "id": "156aa612-8004-407b-8d33-eb4bf8557de6",
   "metadata": {},
   "outputs": [],
   "source": [
    "#The code below installs 3.10 (assuming you now have 3.8) and restarts environment, so you can run your cells.\n",
    "\n",
    "import sys #for version checker\n",
    "import os #for restart routine\n",
    "\n",
    "if '3.10' in sys.version:\n",
    "  print('You already have 3.10')\n",
    "else:\n",
    "  #install python 3.10 and dev utils\n",
    "  #you may not need all the dev libraries, but I haven't tested which aren't necessary.\n",
    "  !sudo apt-get update -y\n",
    "  !sudo apt-get install python3.10 python3.10-dev python3.10-distutils libpython3.10-dev \n",
    "  !sudo apt-get install python3.10-venv binfmt-support #recommended in install logs of the command above\n",
    "\n",
    "  #change alternatives\n",
    "  !sudo update-alternatives --install /usr/bin/python3 python3 /usr/bin/python3.8 1\n",
    "  !sudo update-alternatives --install /usr/bin/python3 python3 /usr/bin/python3.10 2\n",
    "\n",
    "  # install pip\n",
    "  !curl -sS https://bootstrap.pypa.io/get-pip.py | python3.10\n",
    "  !python3 get-pip.py --force-reinstall\n",
    "\n",
    "  #install colab's dependencies\n",
    "  !python3 -m pip install setuptools ipython ipython_genutils ipykernel jupyter_console prompt_toolkit httplib2 astor\n",
    "\n",
    "  #minor cleanup\n",
    "  !sudo apt autoremove\n",
    "\n",
    "  #link to the old google package\n",
    "  !ln -s /usr/local/lib/python3.8/dist-packages/google /usr/local/lib/python3.10/dist-packages/google\n",
    "  #this is just to verify if 3.10 folder was indeed created\n",
    "  !ls /usr/local/lib/python3.10/\n",
    "\n",
    "  #restart environment so you don't have to do it manually\n",
    "  os.kill(os.getpid(), 9)"
   ]
  },
  {
   "cell_type": "code",
   "execution_count": null,
   "id": "690dbc2d-f2b5-4fa7-a441-93dcb277b6f4",
   "metadata": {},
   "outputs": [],
   "source": [
    "import sys\n",
    "print(sys.version)"
   ]
  },
  {
   "cell_type": "code",
   "execution_count": null,
   "id": "8dd8767c-90f9-42bd-8c00-2446f49cadc8",
   "metadata": {},
   "outputs": [],
   "source": [
    "!pip install be-great"
   ]
  },
  {
   "cell_type": "code",
   "execution_count": null,
   "id": "5226f2ed-11d6-47c2-b989-175e87940f7d",
   "metadata": {},
   "outputs": [],
   "source": [
    "from be_great import GReaT\n",
    "from sklearn.datasets import fetch_california_housing\n",
    "\n",
    "data = fetch_california_housing(as_frame=True).frame\n",
    "\n",
    "model = GReaT(llm='distilgpt2', batch_size=48, epochs=50, save_steps=400000)\n",
    "model.fit(data)\n",
    "synthetic_data = model.sample(n_samples=100)"
   ]
  }
 ],
 "metadata": {
  "kernelspec": {
   "display_name": "Python 3",
   "language": "python",
   "name": "python3"
  },
  "language_info": {
   "codemirror_mode": {
    "name": "ipython",
    "version": 3
   },
   "file_extension": ".py",
   "mimetype": "text/x-python",
   "name": "python",
   "nbconvert_exporter": "python",
   "pygments_lexer": "ipython3",
   "version": "3.9.12"
  }
 },
 "nbformat": 4,
 "nbformat_minor": 5
}
