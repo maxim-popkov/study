{
  "cells": [
    {
      "cell_type": "markdown",
      "metadata": {
        "colab_type": "text",
        "id": "view-in-github"
      },
      "source": [
        "<a href=\"https://colab.research.google.com/github/maxim-popkov/study/blob/master/ai-code/sketch_demo_pandas_on_steroids.ipynb\" target=\"_parent\"><img src=\"https://colab.research.google.com/assets/colab-badge.svg\" alt=\"Open In Colab\"/></a>"
      ]
    },
    {
      "cell_type": "code",
      "execution_count": 1,
      "metadata": {
        "colab": {
          "base_uri": "https://localhost:8080/"
        },
        "id": "y0v8Wz2xo6P9",
        "outputId": "df1be995-0877-4c66-e410-f5a19fc5cf7e"
      },
      "outputs": [
        {
          "name": "stdout",
          "output_type": "stream",
          "text": [
            "Looking in indexes: https://pypi.org/simple, https://us-python.pkg.dev/colab-wheels/public/simple/\n",
            "Requirement already satisfied: sketch in /usr/local/lib/python3.8/dist-packages (0.3.4)\n",
            "Requirement already satisfied: packaging in /usr/local/lib/python3.8/dist-packages (from sketch) (23.0)\n",
            "Requirement already satisfied: ipython in /usr/local/lib/python3.8/dist-packages (from sketch) (7.9.0)\n",
            "Requirement already satisfied: datasketch>=1.5.8 in /usr/local/lib/python3.8/dist-packages (from sketch) (1.5.8)\n",
            "Requirement already satisfied: lambdaprompt in /usr/local/lib/python3.8/dist-packages (from sketch) (0.3.5)\n",
            "Requirement already satisfied: datasketches>=4.0.0 in /usr/local/lib/python3.8/dist-packages (from sketch) (4.0.1)\n",
            "Requirement already satisfied: pandas>=1.3.0 in /usr/local/lib/python3.8/dist-packages (from sketch) (1.3.5)\n",
            "Requirement already satisfied: numpy>=1.11 in /usr/local/lib/python3.8/dist-packages (from datasketch>=1.5.8->sketch) (1.21.6)\n",
            "Requirement already satisfied: scipy>=1.0.0 in /usr/local/lib/python3.8/dist-packages (from datasketch>=1.5.8->sketch) (1.7.3)\n",
            "Requirement already satisfied: pytz>=2017.3 in /usr/local/lib/python3.8/dist-packages (from pandas>=1.3.0->sketch) (2022.7.1)\n",
            "Requirement already satisfied: python-dateutil>=2.7.3 in /usr/local/lib/python3.8/dist-packages (from pandas>=1.3.0->sketch) (2.8.2)\n",
            "Requirement already satisfied: setuptools>=18.5 in /usr/local/lib/python3.8/dist-packages (from ipython->sketch) (57.4.0)\n",
            "Requirement already satisfied: pickleshare in /usr/local/lib/python3.8/dist-packages (from ipython->sketch) (0.7.5)\n",
            "Requirement already satisfied: traitlets>=4.2 in /usr/local/lib/python3.8/dist-packages (from ipython->sketch) (5.7.1)\n",
            "Requirement already satisfied: pygments in /usr/local/lib/python3.8/dist-packages (from ipython->sketch) (2.6.1)\n",
            "Requirement already satisfied: decorator in /usr/local/lib/python3.8/dist-packages (from ipython->sketch) (4.4.2)\n",
            "Requirement already satisfied: prompt-toolkit<2.1.0,>=2.0.0 in /usr/local/lib/python3.8/dist-packages (from ipython->sketch) (2.0.10)\n",
            "Requirement already satisfied: backcall in /usr/local/lib/python3.8/dist-packages (from ipython->sketch) (0.2.0)\n",
            "Requirement already satisfied: jedi>=0.10 in /usr/local/lib/python3.8/dist-packages (from ipython->sketch) (0.18.2)\n",
            "Requirement already satisfied: pexpect in /usr/local/lib/python3.8/dist-packages (from ipython->sketch) (4.8.0)\n",
            "Requirement already satisfied: requests in /usr/local/lib/python3.8/dist-packages (from lambdaprompt->sketch) (2.25.1)\n",
            "Requirement already satisfied: jinja2 in /usr/local/lib/python3.8/dist-packages (from lambdaprompt->sketch) (2.11.3)\n",
            "Requirement already satisfied: nest-asyncio in /usr/local/lib/python3.8/dist-packages (from lambdaprompt->sketch) (1.5.6)\n",
            "Requirement already satisfied: python-dotenv in /usr/local/lib/python3.8/dist-packages (from lambdaprompt->sketch) (0.21.1)\n",
            "Requirement already satisfied: aiohttp in /usr/local/lib/python3.8/dist-packages (from lambdaprompt->sketch) (3.8.3)\n",
            "Requirement already satisfied: parso<0.9.0,>=0.8.0 in /usr/local/lib/python3.8/dist-packages (from jedi>=0.10->ipython->sketch) (0.8.3)\n",
            "Requirement already satisfied: wcwidth in /usr/local/lib/python3.8/dist-packages (from prompt-toolkit<2.1.0,>=2.0.0->ipython->sketch) (0.2.6)\n",
            "Requirement already satisfied: six>=1.9.0 in /usr/local/lib/python3.8/dist-packages (from prompt-toolkit<2.1.0,>=2.0.0->ipython->sketch) (1.15.0)\n",
            "Requirement already satisfied: yarl<2.0,>=1.0 in /usr/local/lib/python3.8/dist-packages (from aiohttp->lambdaprompt->sketch) (1.8.2)\n",
            "Requirement already satisfied: aiosignal>=1.1.2 in /usr/local/lib/python3.8/dist-packages (from aiohttp->lambdaprompt->sketch) (1.3.1)\n",
            "Requirement already satisfied: attrs>=17.3.0 in /usr/local/lib/python3.8/dist-packages (from aiohttp->lambdaprompt->sketch) (22.2.0)\n",
            "Requirement already satisfied: charset-normalizer<3.0,>=2.0 in /usr/local/lib/python3.8/dist-packages (from aiohttp->lambdaprompt->sketch) (2.1.1)\n",
            "Requirement already satisfied: async-timeout<5.0,>=4.0.0a3 in /usr/local/lib/python3.8/dist-packages (from aiohttp->lambdaprompt->sketch) (4.0.2)\n",
            "Requirement already satisfied: multidict<7.0,>=4.5 in /usr/local/lib/python3.8/dist-packages (from aiohttp->lambdaprompt->sketch) (6.0.4)\n",
            "Requirement already satisfied: frozenlist>=1.1.1 in /usr/local/lib/python3.8/dist-packages (from aiohttp->lambdaprompt->sketch) (1.3.3)\n",
            "Requirement already satisfied: MarkupSafe>=0.23 in /usr/local/lib/python3.8/dist-packages (from jinja2->lambdaprompt->sketch) (2.0.1)\n",
            "Requirement already satisfied: ptyprocess>=0.5 in /usr/local/lib/python3.8/dist-packages (from pexpect->ipython->sketch) (0.7.0)\n",
            "Requirement already satisfied: certifi>=2017.4.17 in /usr/local/lib/python3.8/dist-packages (from requests->lambdaprompt->sketch) (2022.12.7)\n",
            "Requirement already satisfied: idna<3,>=2.5 in /usr/local/lib/python3.8/dist-packages (from requests->lambdaprompt->sketch) (2.10)\n",
            "Requirement already satisfied: chardet<5,>=3.0.2 in /usr/local/lib/python3.8/dist-packages (from requests->lambdaprompt->sketch) (4.0.0)\n",
            "Requirement already satisfied: urllib3<1.27,>=1.21.1 in /usr/local/lib/python3.8/dist-packages (from requests->lambdaprompt->sketch) (1.24.3)\n"
          ]
        }
      ],
      "source": [
        "! pip install sketch"
      ]
    },
    {
      "cell_type": "code",
      "execution_count": 2,
      "metadata": {
        "id": "2jE8G3_vo8ic"
      },
      "outputs": [],
      "source": [
        "import sketch\n",
        "import pandas as pd"
      ]
    },
    {
      "cell_type": "code",
      "execution_count": 3,
      "metadata": {
        "id": "LVblmEhepD8n"
      },
      "outputs": [],
      "source": [
        "sales_data = pd.read_csv(\"https://gist.githubusercontent.com/bluecoconut/9ce2135aafb5c6ab2dc1d60ac595646e/raw/c93c3500a1f7fae469cba716f09358cfddea6343/sales_demo_with_pii_and_all_states.csv\")"
      ]
    },
    {
      "cell_type": "code",
      "execution_count": 4,
      "metadata": {
        "colab": {
          "base_uri": "https://localhost:8080/",
          "height": 143
        },
        "id": "NKHsWD_Go8Cx",
        "outputId": "692b61fc-ccd5-49d6-981f-6eaf29729d9a"
      },
      "outputs": [
        {
          "data": {
            "text/html": [
              "\n",
              "  <div id=\"df-a7a08a5c-6d7d-4777-b81b-26352b9dcd87\">\n",
              "    <div class=\"colab-df-container\">\n",
              "      <div>\n",
              "<style scoped>\n",
              "    .dataframe tbody tr th:only-of-type {\n",
              "        vertical-align: middle;\n",
              "    }\n",
              "\n",
              "    .dataframe tbody tr th {\n",
              "        vertical-align: top;\n",
              "    }\n",
              "\n",
              "    .dataframe thead th {\n",
              "        text-align: right;\n",
              "    }\n",
              "</style>\n",
              "<table border=\"1\" class=\"dataframe\">\n",
              "  <thead>\n",
              "    <tr style=\"text-align: right;\">\n",
              "      <th></th>\n",
              "      <th>Order ID</th>\n",
              "      <th>Product</th>\n",
              "      <th>Quantity Ordered</th>\n",
              "      <th>Price Each</th>\n",
              "      <th>Order Date</th>\n",
              "      <th>Purchase Address</th>\n",
              "      <th>Credit Card</th>\n",
              "      <th>SSN</th>\n",
              "    </tr>\n",
              "  </thead>\n",
              "  <tbody>\n",
              "    <tr>\n",
              "      <th>0</th>\n",
              "      <td>141234</td>\n",
              "      <td>iPhone</td>\n",
              "      <td>1.0</td>\n",
              "      <td>700.00</td>\n",
              "      <td>01/22/19 21:25</td>\n",
              "      <td>10995 Williams Cliffs, East Michelleborough, A...</td>\n",
              "      <td>9753-7632-8228-2717</td>\n",
              "      <td>499-70-8008</td>\n",
              "    </tr>\n",
              "    <tr>\n",
              "      <th>1</th>\n",
              "      <td>141235</td>\n",
              "      <td>Lightning Charging Cable</td>\n",
              "      <td>1.0</td>\n",
              "      <td>14.95</td>\n",
              "      <td>01/28/19 14:15</td>\n",
              "      <td>1067 Guzman View Suite 342, Tylerton, TX 75901</td>\n",
              "      <td>4353-8782-6482-8223</td>\n",
              "      <td>596-54-9892</td>\n",
              "    </tr>\n",
              "    <tr>\n",
              "      <th>2</th>\n",
              "      <td>141236</td>\n",
              "      <td>Wired Headphones</td>\n",
              "      <td>2.0</td>\n",
              "      <td>11.99</td>\n",
              "      <td>01/17/19 13:33</td>\n",
              "      <td>7616 Lauren Run Apt. 642, South Julia, CO 81368</td>\n",
              "      <td>2581-0339-8831-3503</td>\n",
              "      <td>608-47-3943</td>\n",
              "    </tr>\n",
              "  </tbody>\n",
              "</table>\n",
              "</div>\n",
              "      <button class=\"colab-df-convert\" onclick=\"convertToInteractive('df-a7a08a5c-6d7d-4777-b81b-26352b9dcd87')\"\n",
              "              title=\"Convert this dataframe to an interactive table.\"\n",
              "              style=\"display:none;\">\n",
              "        \n",
              "  <svg xmlns=\"http://www.w3.org/2000/svg\" height=\"24px\"viewBox=\"0 0 24 24\"\n",
              "       width=\"24px\">\n",
              "    <path d=\"M0 0h24v24H0V0z\" fill=\"none\"/>\n",
              "    <path d=\"M18.56 5.44l.94 2.06.94-2.06 2.06-.94-2.06-.94-.94-2.06-.94 2.06-2.06.94zm-11 1L8.5 8.5l.94-2.06 2.06-.94-2.06-.94L8.5 2.5l-.94 2.06-2.06.94zm10 10l.94 2.06.94-2.06 2.06-.94-2.06-.94-.94-2.06-.94 2.06-2.06.94z\"/><path d=\"M17.41 7.96l-1.37-1.37c-.4-.4-.92-.59-1.43-.59-.52 0-1.04.2-1.43.59L10.3 9.45l-7.72 7.72c-.78.78-.78 2.05 0 2.83L4 21.41c.39.39.9.59 1.41.59.51 0 1.02-.2 1.41-.59l7.78-7.78 2.81-2.81c.8-.78.8-2.07 0-2.86zM5.41 20L4 18.59l7.72-7.72 1.47 1.35L5.41 20z\"/>\n",
              "  </svg>\n",
              "      </button>\n",
              "      \n",
              "  <style>\n",
              "    .colab-df-container {\n",
              "      display:flex;\n",
              "      flex-wrap:wrap;\n",
              "      gap: 12px;\n",
              "    }\n",
              "\n",
              "    .colab-df-convert {\n",
              "      background-color: #E8F0FE;\n",
              "      border: none;\n",
              "      border-radius: 50%;\n",
              "      cursor: pointer;\n",
              "      display: none;\n",
              "      fill: #1967D2;\n",
              "      height: 32px;\n",
              "      padding: 0 0 0 0;\n",
              "      width: 32px;\n",
              "    }\n",
              "\n",
              "    .colab-df-convert:hover {\n",
              "      background-color: #E2EBFA;\n",
              "      box-shadow: 0px 1px 2px rgba(60, 64, 67, 0.3), 0px 1px 3px 1px rgba(60, 64, 67, 0.15);\n",
              "      fill: #174EA6;\n",
              "    }\n",
              "\n",
              "    [theme=dark] .colab-df-convert {\n",
              "      background-color: #3B4455;\n",
              "      fill: #D2E3FC;\n",
              "    }\n",
              "\n",
              "    [theme=dark] .colab-df-convert:hover {\n",
              "      background-color: #434B5C;\n",
              "      box-shadow: 0px 1px 3px 1px rgba(0, 0, 0, 0.15);\n",
              "      filter: drop-shadow(0px 1px 2px rgba(0, 0, 0, 0.3));\n",
              "      fill: #FFFFFF;\n",
              "    }\n",
              "  </style>\n",
              "\n",
              "      <script>\n",
              "        const buttonEl =\n",
              "          document.querySelector('#df-a7a08a5c-6d7d-4777-b81b-26352b9dcd87 button.colab-df-convert');\n",
              "        buttonEl.style.display =\n",
              "          google.colab.kernel.accessAllowed ? 'block' : 'none';\n",
              "\n",
              "        async function convertToInteractive(key) {\n",
              "          const element = document.querySelector('#df-a7a08a5c-6d7d-4777-b81b-26352b9dcd87');\n",
              "          const dataTable =\n",
              "            await google.colab.kernel.invokeFunction('convertToInteractive',\n",
              "                                                     [key], {});\n",
              "          if (!dataTable) return;\n",
              "\n",
              "          const docLinkHtml = 'Like what you see? Visit the ' +\n",
              "            '<a target=\"_blank\" href=https://colab.research.google.com/notebooks/data_table.ipynb>data table notebook</a>'\n",
              "            + ' to learn more about interactive tables.';\n",
              "          element.innerHTML = '';\n",
              "          dataTable['output_type'] = 'display_data';\n",
              "          await google.colab.output.renderOutput(dataTable, element);\n",
              "          const docLink = document.createElement('div');\n",
              "          docLink.innerHTML = docLinkHtml;\n",
              "          element.appendChild(docLink);\n",
              "        }\n",
              "      </script>\n",
              "    </div>\n",
              "  </div>\n",
              "  "
            ],
            "text/plain": [
              "   Order ID                   Product  Quantity Ordered  Price Each  \\\n",
              "0    141234                    iPhone               1.0      700.00   \n",
              "1    141235  Lightning Charging Cable               1.0       14.95   \n",
              "2    141236          Wired Headphones               2.0       11.99   \n",
              "\n",
              "       Order Date                                   Purchase Address  \\\n",
              "0  01/22/19 21:25  10995 Williams Cliffs, East Michelleborough, A...   \n",
              "1  01/28/19 14:15     1067 Guzman View Suite 342, Tylerton, TX 75901   \n",
              "2  01/17/19 13:33    7616 Lauren Run Apt. 642, South Julia, CO 81368   \n",
              "\n",
              "           Credit Card          SSN  \n",
              "0  9753-7632-8228-2717  499-70-8008  \n",
              "1  4353-8782-6482-8223  596-54-9892  \n",
              "2  2581-0339-8831-3503  608-47-3943  "
            ]
          },
          "execution_count": 4,
          "metadata": {},
          "output_type": "execute_result"
        }
      ],
      "source": [
        "sales_data[:3]"
      ]
    },
    {
      "cell_type": "code",
      "execution_count": 5,
      "metadata": {
        "colab": {
          "base_uri": "https://localhost:8080/"
        },
        "id": "KeA1orA-o1qD",
        "outputId": "39f98370-65d6-4f82-ea2c-f74dd324a868"
      },
      "outputs": [
        {
          "data": {
            "text/plain": [
              "(185950, 8)"
            ]
          },
          "execution_count": 5,
          "metadata": {},
          "output_type": "execute_result"
        }
      ],
      "source": [
        "sales_data.shape"
      ]
    },
    {
      "cell_type": "code",
      "execution_count": 6,
      "metadata": {
        "colab": {
          "base_uri": "https://localhost:8080/",
          "height": 34
        },
        "id": "6Ka6k6zypH5O",
        "outputId": "02b1973b-31c1-4f25-9518-291c0b159f67"
      },
      "outputs": [
        {
          "data": {
            "text/html": [
              "\n",
              "The columns that might have PII information in them are Credit Card, SSN, and Purchase Address."
            ],
            "text/plain": [
              "<IPython.core.display.HTML object>"
            ]
          },
          "metadata": {},
          "output_type": "display_data"
        }
      ],
      "source": [
        "sales_data.sketch.ask(\"What columns might have PII information in them?\")"
      ]
    },
    {
      "cell_type": "code",
      "execution_count": 7,
      "metadata": {
        "colab": {
          "base_uri": "https://localhost:8080/",
          "height": 185
        },
        "id": "0hrjE-q9pLbp",
        "outputId": "4b416ef6-6dca-4134-bcae-3d1bd39ce4a9"
      },
      "outputs": [
        {
          "data": {
            "text/html": [
              "\n",
              "<ul>\n",
              "  <li>Index: Index</li>\n",
              "  <li>Order ID: Order ID</li>\n",
              "  <li>Product: Product</li>\n",
              "  <li>Quantity Ordered: Quantity Ordered</li>\n",
              "  <li>Price Each: Price Each</li>\n",
              "  <li>Order Date: Order Date</li>\n",
              "  <li>Purchase Address: Purchase Address</li>\n",
              "  <li>Credit Card: Credit Card</li>\n",
              "  <li>SSN: SSN</li>\n",
              "</ul>\n"
            ],
            "text/plain": [
              "<IPython.core.display.HTML object>"
            ]
          },
          "metadata": {},
          "output_type": "display_data"
        }
      ],
      "source": [
        "sales_data.sketch.ask(\"Can you give me friendly names for each column? (output as an HTML list)\")"
      ]
    },
    {
      "cell_type": "code",
      "execution_count": 8,
      "metadata": {
        "colab": {
          "base_uri": "https://localhost:8080/"
        },
        "id": "bdYg9Ax5pOwY",
        "outputId": "647e4794-6030-42b2-ff74-cfd89bdcbb35"
      },
      "outputs": [
        {
          "data": {
            "text/plain": [
              "0    10995 Williams Cliffs, East Michelleborough, A...\n",
              "1       1067 Guzman View Suite 342, Tylerton, TX 75901\n",
              "2      7616 Lauren Run Apt. 642, South Julia, CO 81368\n",
              "Name: Purchase Address, dtype: object"
            ]
          },
          "execution_count": 8,
          "metadata": {},
          "output_type": "execute_result"
        }
      ],
      "source": [
        "sales_data['Purchase Address'][:3]"
      ]
    },
    {
      "cell_type": "code",
      "execution_count": 9,
      "metadata": {
        "colab": {
          "base_uri": "https://localhost:8080/",
          "height": 156
        },
        "id": "SPZBkh6qpPgg",
        "outputId": "1c5ba7ee-2251-40fc-81da-4fc69547c416"
      },
      "outputs": [
        {
          "data": {
            "text/html": [
              "<div style=\"display:flex;flex-direction:row;justify-content:space-between;\">\n",
              "                <pre style=\"width: 100%; white-space: pre-wrap;\" id=\"dd3e6f56-4488-4f48-9eae-aa2b220f3c5e\">\n",
              "# Create a new column for the city\n",
              "sales_data['City'] = sales_data['Purchase Address'].apply(lambda x: x.split(',')[1])\n",
              "\n",
              "# Create a new column for the state\n",
              "sales_data['State'] = sales_data['Purchase Address'].apply(lambda x: x.split(',')[2].split(' ')[1])\n",
              "\n",
              "# Create a new column for the zipcode\n",
              "sales_data['Zipcode'] = sales_data['Purchase Address'].apply(lambda x: x.split(',')[2].split(' ')[2])\n",
              "</pre>\n",
              "                <button style=\"height: fit-content;\" onclick=\"navigator.clipboard.writeText(JSON.parse(atob(`IlxuIyBDcmVhdGUgYSBuZXcgY29sdW1uIGZvciB0aGUgY2l0eVxuc2FsZXNfZGF0YVsnQ2l0eSddID0gc2FsZXNfZGF0YVsnUHVyY2hhc2UgQWRkcmVzcyddLmFwcGx5KGxhbWJkYSB4OiB4LnNwbGl0KCcsJylbMV0pXG5cbiMgQ3JlYXRlIGEgbmV3IGNvbHVtbiBmb3IgdGhlIHN0YXRlXG5zYWxlc19kYXRhWydTdGF0ZSddID0gc2FsZXNfZGF0YVsnUHVyY2hhc2UgQWRkcmVzcyddLmFwcGx5KGxhbWJkYSB4OiB4LnNwbGl0KCcsJylbMl0uc3BsaXQoJyAnKVsxXSlcblxuIyBDcmVhdGUgYSBuZXcgY29sdW1uIGZvciB0aGUgemlwY29kZVxuc2FsZXNfZGF0YVsnWmlwY29kZSddID0gc2FsZXNfZGF0YVsnUHVyY2hhc2UgQWRkcmVzcyddLmFwcGx5KGxhbWJkYSB4OiB4LnNwbGl0KCcsJylbMl0uc3BsaXQoJyAnKVsyXSlcbiI=`)))\">Copy</button>\n",
              "                </div>"
            ],
            "text/plain": [
              "<IPython.core.display.HTML object>"
            ]
          },
          "metadata": {},
          "output_type": "display_data"
        }
      ],
      "source": [
        "sales_data.sketch.howto(\"Create some derived features from the address\")"
      ]
    },
    {
      "cell_type": "code",
      "execution_count": 10,
      "metadata": {
        "id": "hK9S4lHWpZLl"
      },
      "outputs": [],
      "source": [
        "\n",
        "# Create a new column for the city\n",
        "sales_data['City'] = sales_data['Purchase Address'].apply(lambda x: x.split(',')[1])\n",
        "\n",
        "# Create a new column for the state\n",
        "sales_data['State'] = sales_data['Purchase Address'].apply(lambda x: x.split(',')[2].split(' ')[1])\n",
        "\n",
        "# Create a new column for the zipcode\n",
        "sales_data['Zipcode'] = sales_data['Purchase Address'].apply(lambda x: x.split(',')[2].split(' ')[2])\n"
      ]
    },
    {
      "cell_type": "code",
      "execution_count": 12,
      "metadata": {
        "colab": {
          "base_uri": "https://localhost:8080/",
          "height": 243
        },
        "id": "RNKJjuWHph0v",
        "outputId": "4752bd3f-934b-45e0-a89c-857a6be778b6"
      },
      "outputs": [
        {
          "data": {
            "text/html": [
              "<div style=\"display:flex;flex-direction:row;justify-content:space-between;\">\n",
              "                <pre style=\"width: 100%; white-space: pre-wrap;\" id=\"1b6c792e-5555-4f73-a8f1-fbaaaef8b425\">\n",
              "# Get the top 5 grossing states\n",
              "\n",
              "# Calculate total sales per state\n",
              "state_sales = sales_data.groupby('State')['Price Each'].sum().reset_index()\n",
              "\n",
              "# Sort the dataframe by total sales in descending order\n",
              "state_sales = state_sales.sort_values(by='Price Each', ascending=False)\n",
              "\n",
              "# Get the top 5 grossing states\n",
              "top_5_states = state_sales.head(5)\n",
              "\n",
              "# Print the results\n",
              "print(top_5_states)\n",
              "</pre>\n",
              "                <button style=\"height: fit-content;\" onclick=\"navigator.clipboard.writeText(JSON.parse(atob(`IlxuIyBHZXQgdGhlIHRvcCA1IGdyb3NzaW5nIHN0YXRlc1xuXG4jIENhbGN1bGF0ZSB0b3RhbCBzYWxlcyBwZXIgc3RhdGVcbnN0YXRlX3NhbGVzID0gc2FsZXNfZGF0YS5ncm91cGJ5KCdTdGF0ZScpWydQcmljZSBFYWNoJ10uc3VtKCkucmVzZXRfaW5kZXgoKVxuXG4jIFNvcnQgdGhlIGRhdGFmcmFtZSBieSB0b3RhbCBzYWxlcyBpbiBkZXNjZW5kaW5nIG9yZGVyXG5zdGF0ZV9zYWxlcyA9IHN0YXRlX3NhbGVzLnNvcnRfdmFsdWVzKGJ5PSdQcmljZSBFYWNoJywgYXNjZW5kaW5nPUZhbHNlKVxuXG4jIEdldCB0aGUgdG9wIDUgZ3Jvc3Npbmcgc3RhdGVzXG50b3BfNV9zdGF0ZXMgPSBzdGF0ZV9zYWxlcy5oZWFkKDUpXG5cbiMgUHJpbnQgdGhlIHJlc3VsdHNcbnByaW50KHRvcF81X3N0YXRlcylcbiI=`)))\">Copy</button>\n",
              "                </div>"
            ],
            "text/plain": [
              "<IPython.core.display.HTML object>"
            ]
          },
          "metadata": {},
          "output_type": "display_data"
        }
      ],
      "source": [
        "sales_data.sketch.howto(\"Get the top 5 grossing states\")"
      ]
    },
    {
      "cell_type": "code",
      "execution_count": 13,
      "metadata": {
        "colab": {
          "base_uri": "https://localhost:8080/"
        },
        "id": "cOD1OG35pkLB",
        "outputId": "c1e6e424-2211-4196-aab8-4d6cc4eb274d"
      },
      "outputs": [
        {
          "name": "stdout",
          "output_type": "stream",
          "text": [
            "   State  Price Each\n",
            "4     CA  4222370.22\n",
            "42    TX  2940575.44\n",
            "8     FL  2166926.57\n",
            "33    NY  2070624.71\n",
            "13    IL  1413911.86\n"
          ]
        }
      ],
      "source": [
        "\n",
        "# Get the top 5 grossing states\n",
        "\n",
        "# Calculate total sales per state\n",
        "state_sales = sales_data.groupby('State')['Price Each'].sum().reset_index()\n",
        "\n",
        "# Sort the dataframe by total sales in descending order\n",
        "state_sales = state_sales.sort_values(by='Price Each', ascending=False)\n",
        "\n",
        "# Get the top 5 grossing states\n",
        "top_5_states = state_sales.head(5)\n",
        "\n",
        "# Print the results\n",
        "print(top_5_states)\n"
      ]
    },
    {
      "cell_type": "code",
      "execution_count": 14,
      "metadata": {
        "colab": {
          "base_uri": "https://localhost:8080/",
          "height": 381
        },
        "id": "6xZgjwWypy91",
        "outputId": "69645ab1-0a3a-44a1-c10b-3cd4e449a328"
      },
      "outputs": [
        {
          "data": {
            "text/html": [
              "<div style=\"display:flex;flex-direction:row;justify-content:space-between;\">\n",
              "                <pre style=\"width: 100%; white-space: pre-wrap;\" id=\"850d9472-4bce-4384-b2b5-96daebf18cac\">\n",
              "#import libraries\n",
              "import pandas as pd\n",
              "import matplotlib.pyplot as plt\n",
              "\n",
              "#load dataframe\n",
              "sales_data = pd.read_csv('sales_data.csv')\n",
              "\n",
              "#plot histogram of Quantity Ordered\n",
              "plt.hist(sales_data['Quantity Ordered'], bins=20)\n",
              "plt.xlabel('Quantity Ordered')\n",
              "plt.ylabel('Number of Orders')\n",
              "plt.title('Histogram of Quantity Ordered')\n",
              "plt.show()\n",
              "\n",
              "#plot bar chart of State vs Quantity Ordered\n",
              "state_group = sales_data.groupby('State').sum()['Quantity Ordered']\n",
              "state_group.plot(kind='bar', figsize=(15,5))\n",
              "plt.xlabel('State')\n",
              "plt.ylabel('Total Quantity Ordered')\n",
              "plt.title('Bar Chart of State vs Quantity Ordered')\n",
              "plt.show()\n",
              "</pre>\n",
              "                <button style=\"height: fit-content;\" onclick=\"navigator.clipboard.writeText(JSON.parse(atob(`IlxuI2ltcG9ydCBsaWJyYXJpZXNcbmltcG9ydCBwYW5kYXMgYXMgcGRcbmltcG9ydCBtYXRwbG90bGliLnB5cGxvdCBhcyBwbHRcblxuI2xvYWQgZGF0YWZyYW1lXG5zYWxlc19kYXRhID0gcGQucmVhZF9jc3YoJ3NhbGVzX2RhdGEuY3N2JylcblxuI3Bsb3QgaGlzdG9ncmFtIG9mIFF1YW50aXR5IE9yZGVyZWRcbnBsdC5oaXN0KHNhbGVzX2RhdGFbJ1F1YW50aXR5IE9yZGVyZWQnXSwgYmlucz0yMClcbnBsdC54bGFiZWwoJ1F1YW50aXR5IE9yZGVyZWQnKVxucGx0LnlsYWJlbCgnTnVtYmVyIG9mIE9yZGVycycpXG5wbHQudGl0bGUoJ0hpc3RvZ3JhbSBvZiBRdWFudGl0eSBPcmRlcmVkJylcbnBsdC5zaG93KClcblxuI3Bsb3QgYmFyIGNoYXJ0IG9mIFN0YXRlIHZzIFF1YW50aXR5IE9yZGVyZWRcbnN0YXRlX2dyb3VwID0gc2FsZXNfZGF0YS5ncm91cGJ5KCdTdGF0ZScpLnN1bSgpWydRdWFudGl0eSBPcmRlcmVkJ11cbnN0YXRlX2dyb3VwLnBsb3Qoa2luZD0nYmFyJywgZmlnc2l6ZT0oMTUsNSkpXG5wbHQueGxhYmVsKCdTdGF0ZScpXG5wbHQueWxhYmVsKCdUb3RhbCBRdWFudGl0eSBPcmRlcmVkJylcbnBsdC50aXRsZSgnQmFyIENoYXJ0IG9mIFN0YXRlIHZzIFF1YW50aXR5IE9yZGVyZWQnKVxucGx0LnNob3coKVxuIg==`)))\">Copy</button>\n",
              "                </div>"
            ],
            "text/plain": [
              "<IPython.core.display.HTML object>"
            ]
          },
          "metadata": {},
          "output_type": "display_data"
        }
      ],
      "source": [
        "sales_data.sketch.howto(\"Plot some EDA charts for insights\")"
      ]
    },
    {
      "cell_type": "code",
      "execution_count": 16,
      "metadata": {
        "colab": {
          "base_uri": "https://localhost:8080/",
          "height": 634
        },
        "id": "qgt-RL2cpstT",
        "outputId": "bc52dbb5-4f03-455a-f721-86270c60e6f0"
      },
      "outputs": [
        {
          "data": {
            "image/png": "[encoded data removed]",
            "text/plain": [
              "<Figure size 432x288 with 1 Axes>"
            ]
          },
          "metadata": {
            "needs_background": "light"
          },
          "output_type": "display_data"
        },
        {
          "data": {
            "image/png": "[encoded data removed]",
            "text/plain": [
              "<Figure size 1080x360 with 1 Axes>"
            ]
          },
          "metadata": {
            "needs_background": "light"
          },
          "output_type": "display_data"
        }
      ],
      "source": [
        "import pandas as pd\n",
        "import matplotlib.pyplot as plt\n",
        "\n",
        "#load dataframe\n",
        "# sales_data = pd.read_csv('sales_data.csv')\n",
        "\n",
        "#plot histogram of Quantity Ordered\n",
        "plt.hist(sales_data['Quantity Ordered'], bins=20)\n",
        "plt.xlabel('Quantity Ordered')\n",
        "plt.ylabel('Number of Orders')\n",
        "plt.title('Histogram of Quantity Ordered')\n",
        "plt.show()\n",
        "\n",
        "#plot bar chart of State vs Quantity Ordered\n",
        "state_group = sales_data.groupby('State').sum()['Quantity Ordered']\n",
        "state_group.plot(kind='bar', figsize=(15,5))\n",
        "plt.xlabel('State')\n",
        "plt.ylabel('Total Quantity Ordered')\n",
        "plt.title('Bar Chart of State vs Quantity Ordered')\n",
        "plt.show()"
      ]
    },
    {
      "cell_type": "code",
      "execution_count": 17,
      "metadata": {
        "colab": {
          "base_uri": "https://localhost:8080/",
          "height": 34
        },
        "id": "415jsfskp2p9",
        "outputId": "8dadf877-6e6f-4b1b-d137-984d22d15083"
      },
      "outputs": [
        {
          "data": {
            "text/html": [
              "\n",
              "You can forecast the following features from the sales_data dataframe: Quantity Ordered, Price Each, Order Date, Purchase Address, Credit Card, SSN, City, State, and Zipcode."
            ],
            "text/plain": [
              "<IPython.core.display.HTML object>"
            ]
          },
          "metadata": {},
          "output_type": "display_data"
        }
      ],
      "source": [
        "sales_data.sketch.ask(\"What features i can forecast\")"
      ]
    },
    {
      "cell_type": "code",
      "execution_count": 18,
      "metadata": {
        "colab": {
          "base_uri": "https://localhost:8080/",
          "height": 143
        },
        "id": "uUFjDBlPqDwB",
        "outputId": "aa87e144-17ed-4770-de65-4c1777527265"
      },
      "outputs": [
        {
          "data": {
            "text/html": [
              "\n",
              "  <div id=\"df-ae0ccb44-ec59-45dc-8680-8e27c6efc6b6\">\n",
              "    <div class=\"colab-df-container\">\n",
              "      <div>\n",
              "<style scoped>\n",
              "    .dataframe tbody tr th:only-of-type {\n",
              "        vertical-align: middle;\n",
              "    }\n",
              "\n",
              "    .dataframe tbody tr th {\n",
              "        vertical-align: top;\n",
              "    }\n",
              "\n",
              "    .dataframe thead th {\n",
              "        text-align: right;\n",
              "    }\n",
              "</style>\n",
              "<table border=\"1\" class=\"dataframe\">\n",
              "  <thead>\n",
              "    <tr style=\"text-align: right;\">\n",
              "      <th></th>\n",
              "      <th>Order ID</th>\n",
              "      <th>Product</th>\n",
              "      <th>Quantity Ordered</th>\n",
              "      <th>Price Each</th>\n",
              "      <th>Order Date</th>\n",
              "      <th>Purchase Address</th>\n",
              "      <th>Credit Card</th>\n",
              "      <th>SSN</th>\n",
              "      <th>City</th>\n",
              "      <th>State</th>\n",
              "      <th>Zipcode</th>\n",
              "    </tr>\n",
              "  </thead>\n",
              "  <tbody>\n",
              "    <tr>\n",
              "      <th>0</th>\n",
              "      <td>141234</td>\n",
              "      <td>iPhone</td>\n",
              "      <td>1.0</td>\n",
              "      <td>700.00</td>\n",
              "      <td>01/22/19 21:25</td>\n",
              "      <td>10995 Williams Cliffs, East Michelleborough, A...</td>\n",
              "      <td>9753-7632-8228-2717</td>\n",
              "      <td>499-70-8008</td>\n",
              "      <td>East Michelleborough</td>\n",
              "      <td>AZ</td>\n",
              "      <td>86031</td>\n",
              "    </tr>\n",
              "    <tr>\n",
              "      <th>1</th>\n",
              "      <td>141235</td>\n",
              "      <td>Lightning Charging Cable</td>\n",
              "      <td>1.0</td>\n",
              "      <td>14.95</td>\n",
              "      <td>01/28/19 14:15</td>\n",
              "      <td>1067 Guzman View Suite 342, Tylerton, TX 75901</td>\n",
              "      <td>4353-8782-6482-8223</td>\n",
              "      <td>596-54-9892</td>\n",
              "      <td>Tylerton</td>\n",
              "      <td>TX</td>\n",
              "      <td>75901</td>\n",
              "    </tr>\n",
              "    <tr>\n",
              "      <th>2</th>\n",
              "      <td>141236</td>\n",
              "      <td>Wired Headphones</td>\n",
              "      <td>2.0</td>\n",
              "      <td>11.99</td>\n",
              "      <td>01/17/19 13:33</td>\n",
              "      <td>7616 Lauren Run Apt. 642, South Julia, CO 81368</td>\n",
              "      <td>2581-0339-8831-3503</td>\n",
              "      <td>608-47-3943</td>\n",
              "      <td>South Julia</td>\n",
              "      <td>CO</td>\n",
              "      <td>81368</td>\n",
              "    </tr>\n",
              "  </tbody>\n",
              "</table>\n",
              "</div>\n",
              "      <button class=\"colab-df-convert\" onclick=\"convertToInteractive('df-ae0ccb44-ec59-45dc-8680-8e27c6efc6b6')\"\n",
              "              title=\"Convert this dataframe to an interactive table.\"\n",
              "              style=\"display:none;\">\n",
              "        \n",
              "  <svg xmlns=\"http://www.w3.org/2000/svg\" height=\"24px\"viewBox=\"0 0 24 24\"\n",
              "       width=\"24px\">\n",
              "    <path d=\"M0 0h24v24H0V0z\" fill=\"none\"/>\n",
              "    <path d=\"M18.56 5.44l.94 2.06.94-2.06 2.06-.94-2.06-.94-.94-2.06-.94 2.06-2.06.94zm-11 1L8.5 8.5l.94-2.06 2.06-.94-2.06-.94L8.5 2.5l-.94 2.06-2.06.94zm10 10l.94 2.06.94-2.06 2.06-.94-2.06-.94-.94-2.06-.94 2.06-2.06.94z\"/><path d=\"M17.41 7.96l-1.37-1.37c-.4-.4-.92-.59-1.43-.59-.52 0-1.04.2-1.43.59L10.3 9.45l-7.72 7.72c-.78.78-.78 2.05 0 2.83L4 21.41c.39.39.9.59 1.41.59.51 0 1.02-.2 1.41-.59l7.78-7.78 2.81-2.81c.8-.78.8-2.07 0-2.86zM5.41 20L4 18.59l7.72-7.72 1.47 1.35L5.41 20z\"/>\n",
              "  </svg>\n",
              "      </button>\n",
              "      \n",
              "  <style>\n",
              "    .colab-df-container {\n",
              "      display:flex;\n",
              "      flex-wrap:wrap;\n",
              "      gap: 12px;\n",
              "    }\n",
              "\n",
              "    .colab-df-convert {\n",
              "      background-color: #E8F0FE;\n",
              "      border: none;\n",
              "      border-radius: 50%;\n",
              "      cursor: pointer;\n",
              "      display: none;\n",
              "      fill: #1967D2;\n",
              "      height: 32px;\n",
              "      padding: 0 0 0 0;\n",
              "      width: 32px;\n",
              "    }\n",
              "\n",
              "    .colab-df-convert:hover {\n",
              "      background-color: #E2EBFA;\n",
              "      box-shadow: 0px 1px 2px rgba(60, 64, 67, 0.3), 0px 1px 3px 1px rgba(60, 64, 67, 0.15);\n",
              "      fill: #174EA6;\n",
              "    }\n",
              "\n",
              "    [theme=dark] .colab-df-convert {\n",
              "      background-color: #3B4455;\n",
              "      fill: #D2E3FC;\n",
              "    }\n",
              "\n",
              "    [theme=dark] .colab-df-convert:hover {\n",
              "      background-color: #434B5C;\n",
              "      box-shadow: 0px 1px 3px 1px rgba(0, 0, 0, 0.15);\n",
              "      filter: drop-shadow(0px 1px 2px rgba(0, 0, 0, 0.3));\n",
              "      fill: #FFFFFF;\n",
              "    }\n",
              "  </style>\n",
              "\n",
              "      <script>\n",
              "        const buttonEl =\n",
              "          document.querySelector('#df-ae0ccb44-ec59-45dc-8680-8e27c6efc6b6 button.colab-df-convert');\n",
              "        buttonEl.style.display =\n",
              "          google.colab.kernel.accessAllowed ? 'block' : 'none';\n",
              "\n",
              "        async function convertToInteractive(key) {\n",
              "          const element = document.querySelector('#df-ae0ccb44-ec59-45dc-8680-8e27c6efc6b6');\n",
              "          const dataTable =\n",
              "            await google.colab.kernel.invokeFunction('convertToInteractive',\n",
              "                                                     [key], {});\n",
              "          if (!dataTable) return;\n",
              "\n",
              "          const docLinkHtml = 'Like what you see? Visit the ' +\n",
              "            '<a target=\"_blank\" href=https://colab.research.google.com/notebooks/data_table.ipynb>data table notebook</a>'\n",
              "            + ' to learn more about interactive tables.';\n",
              "          element.innerHTML = '';\n",
              "          dataTable['output_type'] = 'display_data';\n",
              "          await google.colab.output.renderOutput(dataTable, element);\n",
              "          const docLink = document.createElement('div');\n",
              "          docLink.innerHTML = docLinkHtml;\n",
              "          element.appendChild(docLink);\n",
              "        }\n",
              "      </script>\n",
              "    </div>\n",
              "  </div>\n",
              "  "
            ],
            "text/plain": [
              "   Order ID                   Product  Quantity Ordered  Price Each  \\\n",
              "0    141234                    iPhone               1.0      700.00   \n",
              "1    141235  Lightning Charging Cable               1.0       14.95   \n",
              "2    141236          Wired Headphones               2.0       11.99   \n",
              "\n",
              "       Order Date                                   Purchase Address  \\\n",
              "0  01/22/19 21:25  10995 Williams Cliffs, East Michelleborough, A...   \n",
              "1  01/28/19 14:15     1067 Guzman View Suite 342, Tylerton, TX 75901   \n",
              "2  01/17/19 13:33    7616 Lauren Run Apt. 642, South Julia, CO 81368   \n",
              "\n",
              "           Credit Card          SSN                   City State Zipcode  \n",
              "0  9753-7632-8228-2717  499-70-8008   East Michelleborough    AZ   86031  \n",
              "1  4353-8782-6482-8223  596-54-9892               Tylerton    TX   75901  \n",
              "2  2581-0339-8831-3503  608-47-3943            South Julia    CO   81368  "
            ]
          },
          "execution_count": 18,
          "metadata": {},
          "output_type": "execute_result"
        }
      ],
      "source": [
        "sales_data[:3]"
      ]
    },
    {
      "cell_type": "code",
      "execution_count": 22,
      "metadata": {
        "colab": {
          "base_uri": "https://localhost:8080/",
          "height": 381
        },
        "id": "Vxek6BLdqDss",
        "outputId": "93a9b6af-9429-48d2-93ca-ab761ca8c6ed"
      },
      "outputs": [
        {
          "data": {
            "text/html": [
              "<div style=\"display:flex;flex-direction:row;justify-content:space-between;\">\n",
              "                <pre style=\"width: 100%; white-space: pre-wrap;\" id=\"4a6a01c1-cf71-42bf-91be-75d3fc5966c8\">\n",
              "#import necessary libraries\n",
              "import pandas as pd\n",
              "from sklearn.model_selection import train_test_split\n",
              "from sklearn.linear_model import LinearRegression\n",
              "\n",
              "#split the data into training and testing sets\n",
              "X = sales_data[['Quantity Ordered', 'Price Each']]\n",
              "y = sales_data['Price Each']\n",
              "X_train, X_test, y_train, y_test = train_test_split(X, y, test_size=0.2, random_state=0)\n",
              "\n",
              "#fit the linear regression model to the training data\n",
              "regressor = LinearRegression()  \n",
              "regressor.fit(X_train, y_train) \n",
              "\n",
              "#predict the future price using the test data\n",
              "y_pred = regressor.predict(X_test) \n",
              "\n",
              "#evaluate the quality of the prediction using mean squared error (MSE)\n",
              "from sklearn.metrics import mean_squared_error \n",
              "mse = mean_squared_error(y_test, y_pred) \n",
              "print('Mean Squared Error:', mse) \n",
              "</pre>\n",
              "                <button style=\"height: fit-content;\" onclick=\"navigator.clipboard.writeText(JSON.parse(atob(`IlxuI2ltcG9ydCBuZWNlc3NhcnkgbGlicmFyaWVzXG5pbXBvcnQgcGFuZGFzIGFzIHBkXG5mcm9tIHNrbGVhcm4ubW9kZWxfc2VsZWN0aW9uIGltcG9ydCB0cmFpbl90ZXN0X3NwbGl0XG5mcm9tIHNrbGVhcm4ubGluZWFyX21vZGVsIGltcG9ydCBMaW5lYXJSZWdyZXNzaW9uXG5cbiNzcGxpdCB0aGUgZGF0YSBpbnRvIHRyYWluaW5nIGFuZCB0ZXN0aW5nIHNldHNcblggPSBzYWxlc19kYXRhW1snUXVhbnRpdHkgT3JkZXJlZCcsICdQcmljZSBFYWNoJ11dXG55ID0gc2FsZXNfZGF0YVsnUHJpY2UgRWFjaCddXG5YX3RyYWluLCBYX3Rlc3QsIHlfdHJhaW4sIHlfdGVzdCA9IHRyYWluX3Rlc3Rfc3BsaXQoWCwgeSwgdGVzdF9zaXplPTAuMiwgcmFuZG9tX3N0YXRlPTApXG5cbiNmaXQgdGhlIGxpbmVhciByZWdyZXNzaW9uIG1vZGVsIHRvIHRoZSB0cmFpbmluZyBkYXRhXG5yZWdyZXNzb3IgPSBMaW5lYXJSZWdyZXNzaW9uKCkgIFxucmVncmVzc29yLmZpdChYX3RyYWluLCB5X3RyYWluKSBcblxuI3ByZWRpY3QgdGhlIGZ1dHVyZSBwcmljZSB1c2luZyB0aGUgdGVzdCBkYXRhXG55X3ByZWQgPSByZWdyZXNzb3IucHJlZGljdChYX3Rlc3QpIFxuXG4jZXZhbHVhdGUgdGhlIHF1YWxpdHkgb2YgdGhlIHByZWRpY3Rpb24gdXNpbmcgbWVhbiBzcXVhcmVkIGVycm9yIChNU0UpXG5mcm9tIHNrbGVhcm4ubWV0cmljcyBpbXBvcnQgbWVhbl9zcXVhcmVkX2Vycm9yIFxubXNlID0gbWVhbl9zcXVhcmVkX2Vycm9yKHlfdGVzdCwgeV9wcmVkKSBcbnByaW50KCdNZWFuIFNxdWFyZWQgRXJyb3I6JywgbXNlKSBcbiI=`)))\">Copy</button>\n",
              "                </div>"
            ],
            "text/plain": [
              "<IPython.core.display.HTML object>"
            ]
          },
          "metadata": {},
          "output_type": "display_data"
        }
      ],
      "source": [
        "sales_data.sketch.howto(\"Write code for forecast future Price and evaluate quality\")"
      ]
    },
    {
      "cell_type": "code",
      "execution_count": 20,
      "metadata": {
        "id": "m1v_goYFqDp1"
      },
      "outputs": [],
      "source": [
        "import pandas as pd\n",
        "import numpy as np\n",
        "from sklearn.linear_model import LinearRegression\n",
        "\n",
        "#create a linear regression model\n",
        "model = LinearRegression()\n",
        "\n",
        "#split the data into features and target variables\n",
        "X = sales_data[['Quantity Ordered', 'Price Each']]\n",
        "y = sales_data['Price Each']\n",
        "\n",
        "#fit the model to the data\n",
        "model.fit(X, y)\n",
        "\n",
        "#predict future Price using the model\n",
        "future_price = model.predict(X)"
      ]
    },
    {
      "cell_type": "code",
      "execution_count": 23,
      "metadata": {
        "colab": {
          "base_uri": "https://localhost:8080/"
        },
        "id": "CcbwpQ6iqttz",
        "outputId": "6302ffbb-5a87-4b00-8880-eaef0f5a23b3"
      },
      "outputs": [
        {
          "name": "stdout",
          "output_type": "stream",
          "text": [
            "Mean Squared Error: 1.0872756755293277e-24\n"
          ]
        }
      ],
      "source": [
        "import pandas as pd\n",
        "from sklearn.model_selection import train_test_split\n",
        "from sklearn.linear_model import LinearRegression\n",
        "\n",
        "#split the data into training and testing sets\n",
        "X = sales_data[['Quantity Ordered', 'Price Each']]\n",
        "y = sales_data['Price Each']\n",
        "X_train, X_test, y_train, y_test = train_test_split(X, y, test_size=0.2, random_state=0)\n",
        "\n",
        "#fit the linear regression model to the training data\n",
        "regressor = LinearRegression()  \n",
        "regressor.fit(X_train, y_train) \n",
        "\n",
        "#predict the future price using the test data\n",
        "y_pred = regressor.predict(X_test) \n",
        "\n",
        "#evaluate the quality of the prediction using mean squared error (MSE)\n",
        "from sklearn.metrics import mean_squared_error \n",
        "mse = mean_squared_error(y_test, y_pred) \n",
        "print('Mean Squared Error:', mse) "
      ]
    },
    {
      "cell_type": "code",
      "execution_count": 27,
      "metadata": {
        "colab": {
          "base_uri": "https://localhost:8080/",
          "height": 34
        },
        "id": "BntU_GmusRG6",
        "outputId": "961aca93-43d5-4d9a-9afb-ff1739690945"
      },
      "outputs": [
        {
          "data": {
            "text/html": [
              "\n",
              "Product, Order Date, Purchase Address, Credit Card, SSN, City, State, and Zipcode are all categorical features."
            ],
            "text/plain": [
              "<IPython.core.display.HTML object>"
            ]
          },
          "metadata": {},
          "output_type": "display_data"
        }
      ],
      "source": [
        "sales_data.sketch.ask(\"Which features is categorical?\")"
      ]
    },
    {
      "cell_type": "code",
      "execution_count": 38,
      "metadata": {
        "colab": {
          "base_uri": "https://localhost:8080/",
          "height": 712
        },
        "id": "bb2rYtFFqwEe",
        "outputId": "29ceab6c-2fa5-4c1d-fb5d-0dffb57da859"
      },
      "outputs": [
        {
          "name": "stderr",
          "output_type": "stream",
          "text": [
            "WARNING:root:Syntax error in suggestion -- might not work directly\n"
          ]
        },
        {
          "data": {
            "text/html": [
              "<div style=\"display:flex;flex-direction:row;justify-content:space-between;\">\n",
              "                <pre style=\"width: 100%; white-space: pre-wrap;\" id=\"e59d6f85-83c3-4e0a-8597-f8e22609976e\">\n",
              "# Import necessary libraries\n",
              "import pandas as pd\n",
              "from sklearn.preprocessing import LabelEncoder\n",
              "from sklearn.metrics import accuracy_score, precision_score, recall_score, f1_score\n",
              "\n",
              "# Load the dataframe\n",
              "df = pd.read_csv('sales_data.csv')\n",
              "\n",
              "# Encode categorical features\n",
              "le = LabelEncoder()\n",
              "df['Product'] = le.fit_transform(df['Product'])\n",
              "df['Order Date'] = le.fit_transform(df['Order Date'])\n",
              "df['Purchase Address'] = le.fit_transform(df['Purchase Address'])\n",
              "df['Credit Card'] = le.fit_transform(df['Credit Card'])\n",
              "df['SSN'] = le.fit_transform(df['SSN'])\n",
              "df['City'] = le.fit_transform(df['City'])\n",
              "df['State'] = le.fit_transform(df['State'])\n",
              "df['Zipcode'] = le.fit_transform(df['Zipcode'])\n",
              "\n",
              "# Split the data into features and target variable \n",
              "X = df.drop('City', axis=1) # Features \n",
              "y = df['City'] # Target variable \n",
              "\n",
              "# Split the data into train and test sets \n",
              "from sklearn.model_selection import train_test_split \n",
              "X_train, X_test, y_train, y_test = train_test_split(X, y, test_size=0.2, random_state=0) \n",
              "  \n",
              "# Train the model using the training sets \n",
              "from sklearn.ensemble import RandomForestClassifier \n",
              "clf = RandomForestClassifier(n_estimators=100, random_state=0) \n",
              "clf.fit(X_train, y_train) \n",
              "  \n",
              "# Predict the response for test dataset \n",
              "y_pred = clf.predict(X_test) \n",
              "  \n",
              "# Evaluate the model using multiclass metrics \n",
              "print(\"Accuracy:\", accuracy_score(y_test, y_pred)) \n",
              "print(\"Precision:\", precision_score(y_test, y_pred, average='macro')) \n",
              "print(\"Recall:\", recall_score</pre>\n",
              "                <button style=\"height: fit-content;\" onclick=\"navigator.clipboard.writeText(JSON.parse(atob(`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`)))\">Copy</button>\n",
              "                </div>"
            ],
            "text/plain": [
              "<IPython.core.display.HTML object>"
            ]
          },
          "metadata": {},
          "output_type": "display_data"
        }
      ],
      "source": [
        "sales_data.sketch.howto(\"Write code for forecast City and evaluate it with multiclass metric, and you need encode categorical features, Product, Order Date, Purchase Address, Credit Card, SSN, City, State, and Zipcode\")"
      ]
    },
    {
      "cell_type": "code",
      "execution_count": null,
      "metadata": {
        "id": "7ad3p0DgrWQH"
      },
      "outputs": [],
      "source": [
        "# Import necessary libraries\n",
        "import pandas as pd\n",
        "from sklearn.preprocessing import LabelEncoder\n",
        "from sklearn.metrics import accuracy_score, precision_score, recall_score, f1_score\n",
        "\n",
        "# Load the dataframe\n",
        "df = sales_data.copy()\n",
        "\n",
        "# Encode categorical features\n",
        "le = LabelEncoder()\n",
        "df['Product'] = le.fit_transform(df['Product'])\n",
        "df['Order Date'] = le.fit_transform(df['Order Date'])\n",
        "df['Purchase Address'] = le.fit_transform(df['Purchase Address'])\n",
        "df['Credit Card'] = le.fit_transform(df['Credit Card'])\n",
        "df['SSN'] = le.fit_transform(df['SSN'])\n",
        "df['City'] = le.fit_transform(df['City'])\n",
        "df['State'] = le.fit_transform(df['State'])\n",
        "df['Zipcode'] = le.fit_transform(df['Zipcode'])\n",
        "\n",
        "# Split the data into features and target variable \n",
        "X = df.drop('City', axis=1) # Features \n",
        "y = df['City'] # Target variable \n",
        "\n",
        "# Split the data into train and test sets \n",
        "from sklearn.model_selection import train_test_split \n",
        "X_train, X_test, y_train, y_test = train_test_split(X, y, test_size=0.2, random_state=0) \n",
        "  \n",
        "# Train the model using the training sets \n",
        "from sklearn.ensemble import RandomForestClassifier \n",
        "clf = RandomForestClassifier(n_estimators=100, random_state=0) \n",
        "clf.fit(X_train, y_train) \n",
        "  \n",
        "# Predict the response for test dataset \n",
        "y_pred = clf.predict(X_test) \n",
        "  \n",
        "# Evaluate the model using multiclass metrics \n",
        "print(\"Accuracy:\", accuracy_score(y_test, y_pred)) \n",
        "print(\"Precision:\", precision_score(y_test, y_pred, average='macro'))"
      ]
    },
    {
      "cell_type": "code",
      "execution_count": 36,
      "metadata": {
        "colab": {
          "base_uri": "https://localhost:8080/"
        },
        "id": "_-v7YxgArjPl",
        "outputId": "3b4d815c-bc12-42a2-f499-120d114f8651"
      },
      "outputs": [
        {
          "name": "stdout",
          "output_type": "stream",
          "text": [
            "Accuracy:               precision    recall  f1-score   support\n",
            "\n",
            "           0       1.00      1.00      1.00        88\n",
            "           1       1.00      1.00      1.00       528\n",
            "           2       1.00      0.98      0.99       344\n",
            "           3       1.00      1.00      1.00       803\n",
            "           4       1.00      1.00      1.00      4485\n",
            "           5       1.00      1.00      1.00       622\n",
            "           6       0.98      1.00      0.99       440\n",
            "           7       1.00      0.93      0.96       115\n",
            "           8       1.00      1.00      1.00      2310\n",
            "           9       1.00      1.00      1.00      1186\n",
            "          10       1.00      1.00      1.00       162\n",
            "          11       1.00      1.00      1.00       329\n",
            "          12       0.98      1.00      0.99       185\n",
            "          13       1.00      1.00      1.00      1471\n",
            "          14       1.00      1.00      1.00       790\n",
            "          15       0.99      1.00      0.99       363\n",
            "          16       1.00      1.00      1.00       531\n",
            "          17       0.99      1.00      0.99       556\n",
            "          18       1.00      1.00      1.00       820\n",
            "          19       0.99      1.00      0.99       772\n",
            "          20       0.97      0.99      0.98       156\n",
            "          21       1.00      1.00      1.00      1165\n",
            "          22       0.96      1.00      0.98       658\n",
            "          23       1.00      1.00      1.00       663\n",
            "          24       1.00      0.99      0.99       352\n",
            "          25       0.98      0.92      0.95       128\n",
            "          26       0.99      1.00      1.00      1138\n",
            "          27       0.97      0.94      0.95        89\n",
            "          28       1.00      0.97      0.98       208\n",
            "          29       1.00      0.98      0.99       130\n",
            "          30       1.00      1.00      1.00      1003\n",
            "          31       1.00      1.00      1.00       266\n",
            "          32       1.00      1.00      1.00       331\n",
            "          33       1.00      1.00      1.00      2276\n",
            "          34       1.00      1.00      1.00      1331\n",
            "          35       1.00      1.00      1.00       440\n",
            "          36       1.00      1.00      1.00       466\n",
            "          37       1.00      1.00      1.00      1545\n",
            "          38       0.99      0.99      0.99       125\n",
            "          39       1.00      1.00      1.00       549\n",
            "          40       1.00      0.77      0.87        88\n",
            "          41       1.00      1.00      1.00       806\n",
            "          42       1.00      1.00      1.00      3152\n",
            "          43       1.00      1.00      1.00       315\n",
            "          44       1.00      1.00      1.00      1020\n",
            "          45       0.98      0.85      0.91        75\n",
            "          46       1.00      1.00      1.00       847\n",
            "          47       1.00      1.00      1.00       698\n",
            "          48       1.00      0.95      0.97       201\n",
            "          49       1.00      0.94      0.97        69\n",
            "\n",
            "    accuracy                           1.00     37190\n",
            "   macro avg       1.00      0.98      0.99     37190\n",
            "weighted avg       1.00      1.00      1.00     37190\n",
            "\n"
          ]
        }
      ],
      "source": [
        "from sklearn import metrics\n",
        "# Evaluate the model \n",
        "y_pred = clf.predict(X_test) \n",
        "print(\"Accuracy:\", metrics.classification_report(y_test, y_pred)) "
      ]
    },
    {
      "cell_type": "code",
      "execution_count": 19,
      "metadata": {
        "colab": {
          "base_uri": "https://localhost:8080/",
          "height": 624
        },
        "id": "__e0x_8fumAm",
        "outputId": "70f7b521-49d3-42cd-bc00-6b937f4b5656"
      },
      "outputs": [
        {
          "data": {
            "text/html": [
              "<div style=\"display:flex;flex-direction:row;justify-content:space-between;\">\n",
              "                <pre style=\"width: 100%; white-space: pre-wrap;\" id=\"1c462e64-db30-4c01-90f0-5c5edf355c48\">\n",
              "# Import necessary libraries\n",
              "import pandas as pd\n",
              "import numpy as np\n",
              "import matplotlib.pyplot as plt\n",
              "from sklearn.cluster import KMeans\n",
              "from sklearn.preprocessing import LabelEncoder\n",
              "\n",
              "# Load the dataframe\n",
              "df = pd.read_csv('sales_data.csv')\n",
              "\n",
              "# Encode categorical features\n",
              "le = LabelEncoder()\n",
              "df['Product'] = le.fit_transform(df['Product'])\n",
              "df['Order Date'] = le.fit_transform(df['Order Date'])\n",
              "df['Purchase Address'] = le.fit_transform(df['Purchase Address'])\n",
              "df['Credit Card'] = le.fit_transform(df['Credit Card'])\n",
              "df['SSN'] = le.fit_transform(df['SSN'])\n",
              "df['City'] = le.fit_transform(df['City'])\n",
              "df['State'] = le.fit_transform(df['State'])\n",
              "df['Zipcode'] = le.fit_transform(df['Zipcode'])\n",
              "\n",
              "# Create a new dataframe with encoded features \n",
              "X = df[['Product', 'Order Date', 'Purchase Address', 'Credit Card', 'SSN', 'City', 'State', 'Zipcode']]\n",
              "\n",
              "# Fit the KMeans model to the data \n",
              "kmeans = KMeans(n_clusters=3).fit(X) \n",
              "labels = kmeans.labels_ \n",
              "centroids = kmeans.cluster_centers_ \n",
              "  \n",
              "# Visualize the clusters in 2-dim scatter plot \n",
              "plt.scatter(X[labels == 0, 0], X[labels == 0, 1], s = 50, c = 'red', label = 'Cluster 1') \n",
              "plt.scatter(X[labels == 1, 0], X[labels == 1, 1], s = 50, c = 'blue', label = 'Cluster 2') \n",
              "plt.scatter(X[labels == 2, 0], X[labels == 2, 1], s = 50, c = 'green', label = 'Cluster 3') \n",
              "  \n",
              "# Plot the centroids of the clusters \n",
              "</pre>\n",
              "                <button style=\"height: fit-content;\" onclick=\"navigator.clipboard.writeText(JSON.parse(atob(`IlxuIyBJbXBvcnQgbmVjZXNzYXJ5IGxpYnJhcmllc1xuaW1wb3J0IHBhbmRhcyBhcyBwZFxuaW1wb3J0IG51bXB5IGFzIG5wXG5pbXBvcnQgbWF0cGxvdGxpYi5weXBsb3QgYXMgcGx0XG5mcm9tIHNrbGVhcm4uY2x1c3RlciBpbXBvcnQgS01lYW5zXG5mcm9tIHNrbGVhcm4ucHJlcHJvY2Vzc2luZyBpbXBvcnQgTGFiZWxFbmNvZGVyXG5cbiMgTG9hZCB0aGUgZGF0YWZyYW1lXG5kZiA9IHBkLnJlYWRfY3N2KCdzYWxlc19kYXRhLmNzdicpXG5cbiMgRW5jb2RlIGNhdGVnb3JpY2FsIGZlYXR1cmVzXG5sZSA9IExhYmVsRW5jb2RlcigpXG5kZlsnUHJvZHVjdCddID0gbGUuZml0X3RyYW5zZm9ybShkZlsnUHJvZHVjdCddKVxuZGZbJ09yZGVyIERhdGUnXSA9IGxlLmZpdF90cmFuc2Zvcm0oZGZbJ09yZGVyIERhdGUnXSlcbmRmWydQdXJjaGFzZSBBZGRyZXNzJ10gPSBsZS5maXRfdHJhbnNmb3JtKGRmWydQdXJjaGFzZSBBZGRyZXNzJ10pXG5kZlsnQ3JlZGl0IENhcmQnXSA9IGxlLmZpdF90cmFuc2Zvcm0oZGZbJ0NyZWRpdCBDYXJkJ10pXG5kZlsnU1NOJ10gPSBsZS5maXRfdHJhbnNmb3JtKGRmWydTU04nXSlcbmRmWydDaXR5J10gPSBsZS5maXRfdHJhbnNmb3JtKGRmWydDaXR5J10pXG5kZlsnU3RhdGUnXSA9IGxlLmZpdF90cmFuc2Zvcm0oZGZbJ1N0YXRlJ10pXG5kZlsnWmlwY29kZSddID0gbGUuZml0X3RyYW5zZm9ybShkZlsnWmlwY29kZSddKVxuXG4jIENyZWF0ZSBhIG5ldyBkYXRhZnJhbWUgd2l0aCBlbmNvZGVkIGZlYXR1cmVzIFxuWCA9IGRmW1snUHJvZHVjdCcsICdPcmRlciBEYXRlJywgJ1B1cmNoYXNlIEFkZHJlc3MnLCAnQ3JlZGl0IENhcmQnLCAnU1NOJywgJ0NpdHknLCAnU3RhdGUnLCAnWmlwY29kZSddXVxuXG4jIEZpdCB0aGUgS01lYW5zIG1vZGVsIHRvIHRoZSBkYXRhIFxua21lYW5zID0gS01lYW5zKG5fY2x1c3RlcnM9MykuZml0KFgpIFxubGFiZWxzID0ga21lYW5zLmxhYmVsc18gXG5jZW50cm9pZHMgPSBrbWVhbnMuY2x1c3Rlcl9jZW50ZXJzXyBcbiAgXG4jIFZpc3VhbGl6ZSB0aGUgY2x1c3RlcnMgaW4gMi1kaW0gc2NhdHRlciBwbG90IFxucGx0LnNjYXR0ZXIoWFtsYWJlbHMgPT0gMCwgMF0sIFhbbGFiZWxzID09IDAsIDFdLCBzID0gNTAsIGMgPSAncmVkJywgbGFiZWwgPSAnQ2x1c3RlciAxJykgXG5wbHQuc2NhdHRlcihYW2xhYmVscyA9PSAxLCAwXSwgWFtsYWJlbHMgPT0gMSwgMV0sIHMgPSA1MCwgYyA9ICdibHVlJywgbGFiZWwgPSAnQ2x1c3RlciAyJykgXG5wbHQuc2NhdHRlcihYW2xhYmVscyA9PSAyLCAwXSwgWFtsYWJlbHMgPT0gMiwgMV0sIHMgPSA1MCwgYyA9ICdncmVlbicsIGxhYmVsID0gJ0NsdXN0ZXIgMycpIFxuICBcbiMgUGxvdCB0aGUgY2VudHJvaWRzIG9mIHRoZSBjbHVzdGVycyBcbiI=`)))\">Copy</button>\n",
              "                </div>"
            ],
            "text/plain": [
              "<IPython.core.display.HTML object>"
            ]
          },
          "metadata": {},
          "output_type": "display_data"
        }
      ],
      "source": [
        "sales_data.sketch.howto(\"Suggest method for cluster users relevant to their Purchase interest (also you need encode categorical features), and visualise clusters in 2-dim scatter\")"
      ]
    },
    {
      "cell_type": "code",
      "execution_count": 18,
      "metadata": {
        "colab": {
          "base_uri": "https://localhost:8080/",
          "height": 279
        },
        "id": "qWKbzzXduvJ6",
        "outputId": "2c129cfd-763f-4fdf-cdc0-001ab120c826"
      },
      "outputs": [
        {
          "data": {
            "image/png": "[encoded data removed]",
            "text/plain": [
              "<Figure size 432x288 with 1 Axes>"
            ]
          },
          "metadata": {
            "needs_background": "light"
          },
          "output_type": "display_data"
        }
      ],
      "source": [
        "import pandas as pd\n",
        "import matplotlib.pyplot as plt\n",
        "from sklearn.cluster import KMeans\n",
        "from sklearn.preprocessing import LabelEncoder\n",
        "\n",
        "# Read the dataframe\n",
        "df = sales_data.copy()\n",
        "\n",
        "# Encode categorical features\n",
        "le = LabelEncoder()\n",
        "df['Product'] = le.fit_transform(df['Product'])\n",
        "df['Order Date'] = le.fit_transform(df['Order Date'])\n",
        "df['Purchase Address'] = le.fit_transform(df['Purchase Address'])\n",
        "df['Credit Card'] = le.fit_transform(df['Credit Card'])\n",
        "df['SSN'] = le.fit_transform(df['SSN'])\n",
        "df['City'] = le.fit_transform(df['City'])\n",
        "df['State'] = le.fit_transform(df['State'])\n",
        "df['Zipcode'] = le.fit_transform(df['Zipcode'])\n",
        "\n",
        "# Create a new dataframe with encoded features \n",
        "X = df[['Product', 'Order Date', 'Purchase Address', 'Credit Card', 'SSN', 'City', 'State', 'Zipcode']]\n",
        "\n",
        "# Fit the model and predict clusters \n",
        "kmeans = KMeans(n_clusters=3, random_state=0).fit(X) \n",
        "labels = kmeans.labels_ \n",
        "  \n",
        "# Visualize the clusters \n",
        "plt.scatter(X['Product'], X['Order Date'], c=labels, cmap='rainbow') \n",
        "plt.xlabel('Product') \n",
        "plt.ylabel('Order Date') \n",
        "plt.show() "
      ]
    },
    {
      "cell_type": "code",
      "execution_count": 21,
      "metadata": {
        "colab": {
          "base_uri": "https://localhost:8080/",
          "height": 712
        },
        "id": "5DE6ZmDU8M_T",
        "outputId": "d1ed20a5-dae7-4c51-b376-0d265098a754"
      },
      "outputs": [
        {
          "name": "stderr",
          "output_type": "stream",
          "text": [
            "WARNING:root:Syntax error in suggestion -- might not work directly\n"
          ]
        },
        {
          "data": {
            "text/html": [
              "<div style=\"display:flex;flex-direction:row;justify-content:space-between;\">\n",
              "                <pre style=\"width: 100%; white-space: pre-wrap;\" id=\"d21335a3-0c4c-486e-8411-d69fcd1e67d9\">\n",
              "# Import necessary libraries\n",
              "import pandas as pd\n",
              "import numpy as np\n",
              "import matplotlib.pyplot as plt\n",
              "from sklearn.cluster import KMeans\n",
              "from sklearn.preprocessing import LabelEncoder\n",
              "\n",
              "# Read the dataframe into memory\n",
              "df = pd.read_csv('sales_data.csv')\n",
              "\n",
              "# Encode categorical features using LabelEncoder\n",
              "le = LabelEncoder()\n",
              "df['Product'] = le.fit_transform(df['Product'])\n",
              "df['Order Date'] = le.fit_transform(df['Order Date'])\n",
              "df['Purchase Address'] = le.fit_transform(df['Purchase Address'])\n",
              "df['Credit Card'] = le.fit_transform(df['Credit Card'])\n",
              "df['SSN'] = le.fit_transform(df['SSN'])\n",
              "df['City'] = le.fit_transform(df['City'])\n",
              "df['State'] = le.fit_transform(df['State'])\n",
              "df['Zipcode'] = le.fit_transform(df['Zipcode'])\n",
              "\n",
              "# Create a KMeans model with 5 clusters and fit it to the dataframe \n",
              "kmeans = KMeans(n_clusters=5) \n",
              "kmeans.fit(df) \n",
              "  \n",
              "# Get the cluster labels \n",
              "labels = kmeans.predict(df) \n",
              "  \n",
              "# Create a new column in the dataframe with the cluster labels \n",
              "df['cluster_label'] = labels \n",
              "  \n",
              "# Plot the clusters using a scatter plot \n",
              "plt.scatter(df['Quantity Ordered'], df['Price Each'], c=labels, cmap='rainbow') \n",
              "plt.xlabel('Quantity Ordered') \n",
              "plt.ylabel('Price Each') \n",
              "plt.show() \n",
              "\n",
              " # Plot the clusters using a boxplot \n",
              "plt.boxplot([ df[df['cluster_label']==0]['Quantity Ordered'],   df[df['cluster_label']==1]['Quantity Ordered'],   df[df['cluster_label']==2]['Quantity Ordered'],   df[df['cluster_label']==3][</pre>\n",
              "                <button style=\"height: fit-content;\" onclick=\"navigator.clipboard.writeText(JSON.parse(atob(`IlxuIyBJbXBvcnQgbmVjZXNzYXJ5IGxpYnJhcmllc1xuaW1wb3J0IHBhbmRhcyBhcyBwZFxuaW1wb3J0IG51bXB5IGFzIG5wXG5pbXBvcnQgbWF0cGxvdGxpYi5weXBsb3QgYXMgcGx0XG5mcm9tIHNrbGVhcm4uY2x1c3RlciBpbXBvcnQgS01lYW5zXG5mcm9tIHNrbGVhcm4ucHJlcHJvY2Vzc2luZyBpbXBvcnQgTGFiZWxFbmNvZGVyXG5cbiMgUmVhZCB0aGUgZGF0YWZyYW1lIGludG8gbWVtb3J5XG5kZiA9IHBkLnJlYWRfY3N2KCdzYWxlc19kYXRhLmNzdicpXG5cbiMgRW5jb2RlIGNhdGVnb3JpY2FsIGZlYXR1cmVzIHVzaW5nIExhYmVsRW5jb2RlclxubGUgPSBMYWJlbEVuY29kZXIoKVxuZGZbJ1Byb2R1Y3QnXSA9IGxlLmZpdF90cmFuc2Zvcm0oZGZbJ1Byb2R1Y3QnXSlcbmRmWydPcmRlciBEYXRlJ10gPSBsZS5maXRfdHJhbnNmb3JtKGRmWydPcmRlciBEYXRlJ10pXG5kZlsnUHVyY2hhc2UgQWRkcmVzcyddID0gbGUuZml0X3RyYW5zZm9ybShkZlsnUHVyY2hhc2UgQWRkcmVzcyddKVxuZGZbJ0NyZWRpdCBDYXJkJ10gPSBsZS5maXRfdHJhbnNmb3JtKGRmWydDcmVkaXQgQ2FyZCddKVxuZGZbJ1NTTiddID0gbGUuZml0X3RyYW5zZm9ybShkZlsnU1NOJ10pXG5kZlsnQ2l0eSddID0gbGUuZml0X3RyYW5zZm9ybShkZlsnQ2l0eSddKVxuZGZbJ1N0YXRlJ10gPSBsZS5maXRfdHJhbnNmb3JtKGRmWydTdGF0ZSddKVxuZGZbJ1ppcGNvZGUnXSA9IGxlLmZpdF90cmFuc2Zvcm0oZGZbJ1ppcGNvZGUnXSlcblxuIyBDcmVhdGUgYSBLTWVhbnMgbW9kZWwgd2l0aCA1IGNsdXN0ZXJzIGFuZCBmaXQgaXQgdG8gdGhlIGRhdGFmcmFtZSBcbmttZWFucyA9IEtNZWFucyhuX2NsdXN0ZXJzPTUpIFxua21lYW5zLmZpdChkZikgXG4gIFxuIyBHZXQgdGhlIGNsdXN0ZXIgbGFiZWxzIFxubGFiZWxzID0ga21lYW5zLnByZWRpY3QoZGYpIFxuICBcbiMgQ3JlYXRlIGEgbmV3IGNvbHVtbiBpbiB0aGUgZGF0YWZyYW1lIHdpdGggdGhlIGNsdXN0ZXIgbGFiZWxzIFxuZGZbJ2NsdXN0ZXJfbGFiZWwnXSA9IGxhYmVscyBcbiAgXG4jIFBsb3QgdGhlIGNsdXN0ZXJzIHVzaW5nIGEgc2NhdHRlciBwbG90IFxucGx0LnNjYXR0ZXIoZGZbJ1F1YW50aXR5IE9yZGVyZWQnXSwgZGZbJ1ByaWNlIEVhY2gnXSwgYz1sYWJlbHMsIGNtYXA9J3JhaW5ib3cnKSBcbnBsdC54bGFiZWwoJ1F1YW50aXR5IE9yZGVyZWQnKSBcbnBsdC55bGFiZWwoJ1ByaWNlIEVhY2gnKSBcbnBsdC5zaG93KCkgXG5cbiAjIFBsb3QgdGhlIGNsdXN0ZXJzIHVzaW5nIGEgYm94cGxvdCBcbnBsdC5ib3hwbG90KFsgZGZbZGZbJ2NsdXN0ZXJfbGFiZWwnXT09MF1bJ1F1YW50aXR5IE9yZGVyZWQnXSwgICBkZltkZlsnY2x1c3Rlcl9sYWJlbCddPT0xXVsnUXVhbnRpdHkgT3JkZXJlZCddLCAgIGRmW2RmWydjbHVzdGVyX2xhYmVsJ109PTJdWydRdWFudGl0eSBPcmRlcmVkJ10sICAgZGZbZGZbJ2NsdXN0ZXJfbGFiZWwnXT09M11bIg==`)))\">Copy</button>\n",
              "                </div>"
            ],
            "text/plain": [
              "<IPython.core.display.HTML object>"
            ]
          },
          "metadata": {},
          "output_type": "display_data"
        }
      ],
      "source": [
        "sales_data.sketch.howto(\"Suggest method for cluster users relevant to their Purchase interest (also you need encode categorical features), and draw plots for clusters and insight\")"
      ]
    },
    {
      "cell_type": "code",
      "execution_count": 24,
      "metadata": {
        "id": "g1nMwuh65rPM"
      },
      "outputs": [],
      "source": [
        "# Encode categorical features\n",
        "le = LabelEncoder()\n",
        "df['Product'] = le.fit_transform(df['Product'])\n",
        "df['Order Date'] = le.fit_transform(df['Order Date'])\n",
        "df['Purchase Address'] = le.fit_transform(df['Purchase Address'])\n",
        "df['Credit Card'] = le.fit_transform(df['Credit Card'])\n",
        "df['SSN'] = le.fit_transform(df['SSN'])\n",
        "df['City'] = le.fit_transform(df['City'])\n",
        "df['State'] = le.fit_transform(df['State'])\n",
        "df['Zipcode'] = le.fit_transform(df['Zipcode'])\n",
        "\n",
        "# Create a new dataframe with encoded features \n",
        "X = df[['Product', 'Order Date', 'Purchase Address', 'Credit Card', 'SSN', 'City', 'State', 'Zipcode']]\n",
        "\n",
        "# Fit the KMeans model to the data \n",
        "kmeans = KMeans(n_clusters=5) \n",
        "kmeans.fit(df) \n",
        "\n",
        "labels = kmeans.labels_ \n",
        "centroids = kmeans.cluster_centers_ "
      ]
    },
    {
      "cell_type": "code",
      "execution_count": 25,
      "metadata": {
        "colab": {
          "base_uri": "https://localhost:8080/",
          "height": 279
        },
        "id": "Jbg6m-pD6iTH",
        "outputId": "01240911-3113-434a-f2a0-1a5425764557"
      },
      "outputs": [
        {
          "data": {
            "image/png": "[encoded data removed]",
            "text/plain": [
              "<Figure size 432x288 with 1 Axes>"
            ]
          },
          "metadata": {
            "needs_background": "light"
          },
          "output_type": "display_data"
        }
      ],
      "source": [
        "# Create a new column in the dataframe with the cluster labels \n",
        "df['cluster_label'] = labels \n",
        "  \n",
        "# Plot the clusters using a scatter plot \n",
        "plt.scatter(df['Quantity Ordered'], df['Price Each'], c=labels, cmap='rainbow') \n",
        "plt.xlabel('Quantity Ordered') \n",
        "plt.ylabel('Price Each') \n",
        "plt.show() "
      ]
    },
    {
      "cell_type": "code",
      "execution_count": null,
      "metadata": {
        "id": "rJ0gF1bg8ssp"
      },
      "outputs": [],
      "source": []
    }
  ],
  "metadata": {
    "colab": {
      "include_colab_link": true,
      "provenance": []
    },
    "kernelspec": {
      "display_name": "Python 3",
      "name": "python3"
    },
    "language_info": {
      "name": "python",
      "version": "3.10.6"
    }
  },
  "nbformat": 4,
  "nbformat_minor": 0
}
