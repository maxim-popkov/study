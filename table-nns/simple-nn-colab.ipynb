{
  "cells": [
    {
      "cell_type": "markdown",
      "metadata": {
        "id": "view-in-github",
        "colab_type": "text"
      },
      "source": [
        "<a href=\"https://colab.research.google.com/github/maxim-popkov/study/blob/master/table-nns/simple-nn-colab.ipynb\" target=\"_parent\"><img src=\"https://colab.research.google.com/assets/colab-badge.svg\" alt=\"Open In Colab\"/></a>"
      ]
    },
    {
      "cell_type": "markdown",
      "source": [
        "# Imports"
      ],
      "metadata": {
        "id": "b_gv5KOMd4Ym"
      }
    },
    {
      "cell_type": "code",
      "execution_count": 16,
      "metadata": {
        "id": "6dVGuuMrWGx9"
      },
      "outputs": [],
      "source": [
        "# !pip install datasets -q\n",
        "# from datasets import list_datasets, load_dataset"
      ]
    },
    {
      "cell_type": "code",
      "source": [
        "# libs\n",
        "import numpy as np\n",
        "import torch\n",
        "from torch.utils.data import Dataset, DataLoader\n",
        "\n",
        "from sklearn.model_selection import train_test_split\n",
        "\n",
        "# data\n",
        "from sklearn import datasets\n"
      ],
      "metadata": {
        "id": "cj89BgM_WPCM"
      },
      "execution_count": 19,
      "outputs": []
    },
    {
      "cell_type": "markdown",
      "source": [
        "# Load"
      ],
      "metadata": {
        "id": "AavR0BP7k49g"
      }
    },
    {
      "cell_type": "code",
      "source": [
        "data = datasets.fetch_california_housing(as_frame=True).frame.sample(frac=0.5)\n",
        "print(data.shape)\n",
        "data[:3]"
      ],
      "metadata": {
        "colab": {
          "base_uri": "https://localhost:8080/",
          "height": 161
        },
        "id": "AwCCNQSjY3tK",
        "outputId": "6b72598e-b084-4b3c-97c1-217da4e9d7e4"
      },
      "execution_count": 20,
      "outputs": [
        {
          "output_type": "stream",
          "name": "stdout",
          "text": [
            "(10320, 9)\n"
          ]
        },
        {
          "output_type": "execute_result",
          "data": {
            "text/plain": [
              "       MedInc  HouseAge  AveRooms  AveBedrms  Population  AveOccup  Latitude  \\\n",
              "18293  6.3967      36.0  6.666667   1.048193       655.0  2.630522     37.39   \n",
              "13991  3.6343      28.0  6.861004   1.185328       721.0  2.783784     34.96   \n",
              "19974  2.8906      43.0  5.545455   1.242424       534.0  2.311688     36.13   \n",
              "\n",
              "       Longitude  MedHouseVal  \n",
              "18293    -122.11      5.00001  \n",
              "13991    -117.08      0.79800  \n",
              "19974    -118.82      0.65700  "
            ],
            "text/html": [
              "\n",
              "  <div id=\"df-1cb7e9ee-7075-4d9d-a574-664d0e4fe5ff\">\n",
              "    <div class=\"colab-df-container\">\n",
              "      <div>\n",
              "<style scoped>\n",
              "    .dataframe tbody tr th:only-of-type {\n",
              "        vertical-align: middle;\n",
              "    }\n",
              "\n",
              "    .dataframe tbody tr th {\n",
              "        vertical-align: top;\n",
              "    }\n",
              "\n",
              "    .dataframe thead th {\n",
              "        text-align: right;\n",
              "    }\n",
              "</style>\n",
              "<table border=\"1\" class=\"dataframe\">\n",
              "  <thead>\n",
              "    <tr style=\"text-align: right;\">\n",
              "      <th></th>\n",
              "      <th>MedInc</th>\n",
              "      <th>HouseAge</th>\n",
              "      <th>AveRooms</th>\n",
              "      <th>AveBedrms</th>\n",
              "      <th>Population</th>\n",
              "      <th>AveOccup</th>\n",
              "      <th>Latitude</th>\n",
              "      <th>Longitude</th>\n",
              "      <th>MedHouseVal</th>\n",
              "    </tr>\n",
              "  </thead>\n",
              "  <tbody>\n",
              "    <tr>\n",
              "      <th>18293</th>\n",
              "      <td>6.3967</td>\n",
              "      <td>36.0</td>\n",
              "      <td>6.666667</td>\n",
              "      <td>1.048193</td>\n",
              "      <td>655.0</td>\n",
              "      <td>2.630522</td>\n",
              "      <td>37.39</td>\n",
              "      <td>-122.11</td>\n",
              "      <td>5.00001</td>\n",
              "    </tr>\n",
              "    <tr>\n",
              "      <th>13991</th>\n",
              "      <td>3.6343</td>\n",
              "      <td>28.0</td>\n",
              "      <td>6.861004</td>\n",
              "      <td>1.185328</td>\n",
              "      <td>721.0</td>\n",
              "      <td>2.783784</td>\n",
              "      <td>34.96</td>\n",
              "      <td>-117.08</td>\n",
              "      <td>0.79800</td>\n",
              "    </tr>\n",
              "    <tr>\n",
              "      <th>19974</th>\n",
              "      <td>2.8906</td>\n",
              "      <td>43.0</td>\n",
              "      <td>5.545455</td>\n",
              "      <td>1.242424</td>\n",
              "      <td>534.0</td>\n",
              "      <td>2.311688</td>\n",
              "      <td>36.13</td>\n",
              "      <td>-118.82</td>\n",
              "      <td>0.65700</td>\n",
              "    </tr>\n",
              "  </tbody>\n",
              "</table>\n",
              "</div>\n",
              "      <button class=\"colab-df-convert\" onclick=\"convertToInteractive('df-1cb7e9ee-7075-4d9d-a574-664d0e4fe5ff')\"\n",
              "              title=\"Convert this dataframe to an interactive table.\"\n",
              "              style=\"display:none;\">\n",
              "        \n",
              "  <svg xmlns=\"http://www.w3.org/2000/svg\" height=\"24px\"viewBox=\"0 0 24 24\"\n",
              "       width=\"24px\">\n",
              "    <path d=\"M0 0h24v24H0V0z\" fill=\"none\"/>\n",
              "    <path d=\"M18.56 5.44l.94 2.06.94-2.06 2.06-.94-2.06-.94-.94-2.06-.94 2.06-2.06.94zm-11 1L8.5 8.5l.94-2.06 2.06-.94-2.06-.94L8.5 2.5l-.94 2.06-2.06.94zm10 10l.94 2.06.94-2.06 2.06-.94-2.06-.94-.94-2.06-.94 2.06-2.06.94z\"/><path d=\"M17.41 7.96l-1.37-1.37c-.4-.4-.92-.59-1.43-.59-.52 0-1.04.2-1.43.59L10.3 9.45l-7.72 7.72c-.78.78-.78 2.05 0 2.83L4 21.41c.39.39.9.59 1.41.59.51 0 1.02-.2 1.41-.59l7.78-7.78 2.81-2.81c.8-.78.8-2.07 0-2.86zM5.41 20L4 18.59l7.72-7.72 1.47 1.35L5.41 20z\"/>\n",
              "  </svg>\n",
              "      </button>\n",
              "      \n",
              "  <style>\n",
              "    .colab-df-container {\n",
              "      display:flex;\n",
              "      flex-wrap:wrap;\n",
              "      gap: 12px;\n",
              "    }\n",
              "\n",
              "    .colab-df-convert {\n",
              "      background-color: #E8F0FE;\n",
              "      border: none;\n",
              "      border-radius: 50%;\n",
              "      cursor: pointer;\n",
              "      display: none;\n",
              "      fill: #1967D2;\n",
              "      height: 32px;\n",
              "      padding: 0 0 0 0;\n",
              "      width: 32px;\n",
              "    }\n",
              "\n",
              "    .colab-df-convert:hover {\n",
              "      background-color: #E2EBFA;\n",
              "      box-shadow: 0px 1px 2px rgba(60, 64, 67, 0.3), 0px 1px 3px 1px rgba(60, 64, 67, 0.15);\n",
              "      fill: #174EA6;\n",
              "    }\n",
              "\n",
              "    [theme=dark] .colab-df-convert {\n",
              "      background-color: #3B4455;\n",
              "      fill: #D2E3FC;\n",
              "    }\n",
              "\n",
              "    [theme=dark] .colab-df-convert:hover {\n",
              "      background-color: #434B5C;\n",
              "      box-shadow: 0px 1px 3px 1px rgba(0, 0, 0, 0.15);\n",
              "      filter: drop-shadow(0px 1px 2px rgba(0, 0, 0, 0.3));\n",
              "      fill: #FFFFFF;\n",
              "    }\n",
              "  </style>\n",
              "\n",
              "      <script>\n",
              "        const buttonEl =\n",
              "          document.querySelector('#df-1cb7e9ee-7075-4d9d-a574-664d0e4fe5ff button.colab-df-convert');\n",
              "        buttonEl.style.display =\n",
              "          google.colab.kernel.accessAllowed ? 'block' : 'none';\n",
              "\n",
              "        async function convertToInteractive(key) {\n",
              "          const element = document.querySelector('#df-1cb7e9ee-7075-4d9d-a574-664d0e4fe5ff');\n",
              "          const dataTable =\n",
              "            await google.colab.kernel.invokeFunction('convertToInteractive',\n",
              "                                                     [key], {});\n",
              "          if (!dataTable) return;\n",
              "\n",
              "          const docLinkHtml = 'Like what you see? Visit the ' +\n",
              "            '<a target=\"_blank\" href=https://colab.research.google.com/notebooks/data_table.ipynb>data table notebook</a>'\n",
              "            + ' to learn more about interactive tables.';\n",
              "          element.innerHTML = '';\n",
              "          dataTable['output_type'] = 'display_data';\n",
              "          await google.colab.output.renderOutput(dataTable, element);\n",
              "          const docLink = document.createElement('div');\n",
              "          docLink.innerHTML = docLinkHtml;\n",
              "          element.appendChild(docLink);\n",
              "        }\n",
              "      </script>\n",
              "    </div>\n",
              "  </div>\n",
              "  "
            ]
          },
          "metadata": {},
          "execution_count": 20
        }
      ]
    },
    {
      "cell_type": "code",
      "source": [
        "x_cols = ['MedInc', 'HouseAge', 'AveRooms', 'AveBedrms', 'Population', 'AveOccup', 'Latitude', 'Longitude']\n",
        "y_col = 'MedHouseVal'\n",
        "X_df = data[x_cols]\n",
        "Y_sr = data[y_col]"
      ],
      "metadata": {
        "id": "WghHK2r3bD8A"
      },
      "execution_count": 21,
      "outputs": []
    },
    {
      "cell_type": "code",
      "source": [
        "X_train_df, X_test_df, Y_train_sr, Y_test_sr = train_test_split(\n",
        "    X_df, Y_sr, \n",
        "    test_size=0.33, \n",
        "    random_state=42\n",
        ")"
      ],
      "metadata": {
        "id": "EEjIHVfQZgN5"
      },
      "execution_count": 22,
      "outputs": []
    },
    {
      "cell_type": "code",
      "source": [
        "class Data(Dataset):\n",
        "\n",
        "    def __init__(self, X_train, y_train):\n",
        "        # need to convert float64 to float32 else \n",
        "        # will get the following error\n",
        "        # RuntimeError: expected scalar type Double but found Float\n",
        "        self.X = torch.from_numpy(X_train).type(torch.FloatTensor)\n",
        "        # need to convert float64 to Long else \n",
        "        # will get the following error\n",
        "        # RuntimeError: expected scalar type Long but found Float\n",
        "        self.y = torch.from_numpy(y_train).type(torch.FloatTensor)\n",
        "        self.len = self.X.shape[0]\n",
        "\n",
        "    def __getitem__(self, index):\n",
        "        return self.X[index], self.y[index]\n",
        "\n",
        "    def __len__(self):\n",
        "        return self.len"
      ],
      "metadata": {
        "id": "vj-9rIzvb-ws"
      },
      "execution_count": 57,
      "outputs": []
    },
    {
      "cell_type": "code",
      "source": [
        "train_data = Data(X_train_df.values, Y_train_sr.values)"
      ],
      "metadata": {
        "id": "8qXghuWHfC9J"
      },
      "execution_count": 58,
      "outputs": []
    },
    {
      "cell_type": "code",
      "source": [
        "batch_size = 32\n",
        "trainloader = DataLoader(\n",
        "    train_data, \n",
        "    batch_size=batch_size, \n",
        "    shuffle=True, \n",
        "    num_workers=2\n",
        ")"
      ],
      "metadata": {
        "id": "Epl8v7iffcD8"
      },
      "execution_count": 59,
      "outputs": []
    },
    {
      "cell_type": "markdown",
      "source": [
        "# Model"
      ],
      "metadata": {
        "id": "quZQ2JaLlABA"
      }
    },
    {
      "cell_type": "code",
      "source": [
        "import torch.nn as nn\n",
        "# number of features (len of X cols)\n",
        "input_dim = len(x_cols)\n",
        "# number of hidden layers\n",
        "hidden_layers = 25\n",
        "# number of classes (unique of y)\n",
        "output_dim = 1"
      ],
      "metadata": {
        "id": "jYsF9eqvf0b0"
      },
      "execution_count": 60,
      "outputs": []
    },
    {
      "cell_type": "code",
      "source": [
        "class Network(nn.Module):\n",
        "\n",
        "    def __init__(self):\n",
        "        super(Network, self).__init__()\n",
        "        self.linear1 = nn.Linear(input_dim, hidden_layers)\n",
        "        self.linear2 = nn.Linear(hidden_layers, output_dim)\n",
        "\n",
        "    def forward(self, x):\n",
        "        x = torch.sigmoid(self.linear1(x))\n",
        "        x = self.linear2(x)\n",
        "        return x\n"
      ],
      "metadata": {
        "id": "Mao5K4uxgnrn"
      },
      "execution_count": 61,
      "outputs": []
    },
    {
      "cell_type": "code",
      "source": [
        "model = Network()"
      ],
      "metadata": {
        "id": "lAjKXkzFgqht"
      },
      "execution_count": 62,
      "outputs": []
    },
    {
      "cell_type": "code",
      "source": [
        "model"
      ],
      "metadata": {
        "colab": {
          "base_uri": "https://localhost:8080/"
        },
        "id": "dunITjD-hIIB",
        "outputId": "d2a8d759-8e1a-4c0b-a347-987c460c07f4"
      },
      "execution_count": 63,
      "outputs": [
        {
          "output_type": "execute_result",
          "data": {
            "text/plain": [
              "Network(\n",
              "  (linear1): Linear(in_features=8, out_features=25, bias=True)\n",
              "  (linear2): Linear(in_features=25, out_features=1, bias=True)\n",
              ")"
            ]
          },
          "metadata": {},
          "execution_count": 63
        }
      ]
    },
    {
      "cell_type": "code",
      "source": [
        "criterion = nn.MSELoss()\n",
        "optimizer = torch.optim.SGD(model.parameters(), lr=0.1)"
      ],
      "metadata": {
        "id": "RdRrhMqlhI5h"
      },
      "execution_count": 64,
      "outputs": []
    },
    {
      "cell_type": "code",
      "source": [
        "epochs = 100\n",
        "for epoch in range(epochs):\n",
        "    running_loss = 0.0\n",
        "    for i, data in enumerate(trainloader):\n",
        "        inputs, labels = data\n",
        "        # set optimizer to zero grad to remove previous epoch gradients\n",
        "        optimizer.zero_grad()\n",
        "        # forward propagation\n",
        "        outputs = model(inputs)\n",
        "        loss = criterion(outputs, labels)\n",
        "        # backward propagation\n",
        "        loss.backward()\n",
        "        # optimize\n",
        "        optimizer.step()\n",
        "        running_loss += loss.item()\n",
        "    # display statistics\n",
        "    if (epoch + 1) % 10 == 0:\n",
        "        print(f'[{epoch + 1}, {i + 1:5d}] loss: {running_loss / 2000:.5f}')"
      ],
      "metadata": {
        "id": "8YevNLeRjSLo"
      },
      "execution_count": null,
      "outputs": []
    },
    {
      "cell_type": "code",
      "source": [],
      "metadata": {
        "id": "hFF6wpddjisO"
      },
      "execution_count": 67,
      "outputs": []
    },
    {
      "cell_type": "code",
      "source": [],
      "metadata": {
        "id": "_XoUVq3hjwSY"
      },
      "execution_count": null,
      "outputs": []
    }
  ],
  "metadata": {
    "language_info": {
      "name": "python"
    },
    "orig_nbformat": 4,
    "colab": {
      "provenance": [],
      "toc_visible": true,
      "include_colab_link": true
    },
    "kernelspec": {
      "name": "python3",
      "display_name": "Python 3"
    },
    "gpuClass": "standard"
  },
  "nbformat": 4,
  "nbformat_minor": 0
}