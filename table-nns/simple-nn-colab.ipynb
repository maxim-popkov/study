{
  "cells": [
    {
      "cell_type": "markdown",
      "source": [
        "# Imports"
      ],
      "metadata": {
        "id": "b_gv5KOMd4Ym"
      }
    },
    {
      "cell_type": "code",
      "execution_count": 16,
      "metadata": {
        "id": "6dVGuuMrWGx9"
      },
      "outputs": [],
      "source": [
        "# !pip install datasets -q\n",
        "# from datasets import list_datasets, load_dataset"
      ]
    },
    {
      "cell_type": "code",
      "source": [
        "# libs\n",
        "import numpy as np\n",
        "import torch\n",
        "import torch.nn as nn\n",
        "\n",
        "from torch.utils.data import Dataset, DataLoader\n",
        "\n",
        "from sklearn.model_selection import train_test_split\n",
        "from sklearn import preprocessing\n",
        "\n",
        "# data\n",
        "from sklearn import datasets\n"
      ],
      "metadata": {
        "id": "cj89BgM_WPCM"
      },
      "execution_count": 99,
      "outputs": []
    },
    {
      "cell_type": "markdown",
      "source": [
        "# Load"
      ],
      "metadata": {
        "id": "AavR0BP7k49g"
      }
    },
    {
      "cell_type": "code",
      "source": [
        "data = datasets.fetch_california_housing(as_frame=True).frame.sample(frac=0.5)\n",
        "print(data.shape)\n",
        "data[:3]"
      ],
      "metadata": {
        "colab": {
          "base_uri": "https://localhost:8080/",
          "height": 161
        },
        "id": "AwCCNQSjY3tK",
        "outputId": "c08426de-99bb-4fc3-afdc-165d46d9b1e6"
      },
      "execution_count": 95,
      "outputs": [
        {
          "output_type": "stream",
          "name": "stdout",
          "text": [
            "(10320, 9)\n"
          ]
        },
        {
          "output_type": "execute_result",
          "data": {
            "text/plain": [
              "       MedInc  HouseAge  AveRooms  AveBedrms  Population  AveOccup  Latitude  \\\n",
              "12718  6.8469      36.0  8.734266   1.111888       362.0  2.531469     38.60   \n",
              "14045  2.0792      35.0  3.527668   0.974308       965.0  1.907115     32.76   \n",
              "1623   7.3267      27.0  7.208038   1.005516      3371.0  2.656422     37.85   \n",
              "\n",
              "       Longitude  MedHouseVal  \n",
              "12718    -121.38        4.464  \n",
              "14045    -117.14        1.600  \n",
              "1623     -122.14        3.899  "
            ],
            "text/html": [
              "\n",
              "  <div id=\"df-04d1cede-4e90-4bf0-8a0d-fbd11b376325\">\n",
              "    <div class=\"colab-df-container\">\n",
              "      <div>\n",
              "<style scoped>\n",
              "    .dataframe tbody tr th:only-of-type {\n",
              "        vertical-align: middle;\n",
              "    }\n",
              "\n",
              "    .dataframe tbody tr th {\n",
              "        vertical-align: top;\n",
              "    }\n",
              "\n",
              "    .dataframe thead th {\n",
              "        text-align: right;\n",
              "    }\n",
              "</style>\n",
              "<table border=\"1\" class=\"dataframe\">\n",
              "  <thead>\n",
              "    <tr style=\"text-align: right;\">\n",
              "      <th></th>\n",
              "      <th>MedInc</th>\n",
              "      <th>HouseAge</th>\n",
              "      <th>AveRooms</th>\n",
              "      <th>AveBedrms</th>\n",
              "      <th>Population</th>\n",
              "      <th>AveOccup</th>\n",
              "      <th>Latitude</th>\n",
              "      <th>Longitude</th>\n",
              "      <th>MedHouseVal</th>\n",
              "    </tr>\n",
              "  </thead>\n",
              "  <tbody>\n",
              "    <tr>\n",
              "      <th>12718</th>\n",
              "      <td>6.8469</td>\n",
              "      <td>36.0</td>\n",
              "      <td>8.734266</td>\n",
              "      <td>1.111888</td>\n",
              "      <td>362.0</td>\n",
              "      <td>2.531469</td>\n",
              "      <td>38.60</td>\n",
              "      <td>-121.38</td>\n",
              "      <td>4.464</td>\n",
              "    </tr>\n",
              "    <tr>\n",
              "      <th>14045</th>\n",
              "      <td>2.0792</td>\n",
              "      <td>35.0</td>\n",
              "      <td>3.527668</td>\n",
              "      <td>0.974308</td>\n",
              "      <td>965.0</td>\n",
              "      <td>1.907115</td>\n",
              "      <td>32.76</td>\n",
              "      <td>-117.14</td>\n",
              "      <td>1.600</td>\n",
              "    </tr>\n",
              "    <tr>\n",
              "      <th>1623</th>\n",
              "      <td>7.3267</td>\n",
              "      <td>27.0</td>\n",
              "      <td>7.208038</td>\n",
              "      <td>1.005516</td>\n",
              "      <td>3371.0</td>\n",
              "      <td>2.656422</td>\n",
              "      <td>37.85</td>\n",
              "      <td>-122.14</td>\n",
              "      <td>3.899</td>\n",
              "    </tr>\n",
              "  </tbody>\n",
              "</table>\n",
              "</div>\n",
              "      <button class=\"colab-df-convert\" onclick=\"convertToInteractive('df-04d1cede-4e90-4bf0-8a0d-fbd11b376325')\"\n",
              "              title=\"Convert this dataframe to an interactive table.\"\n",
              "              style=\"display:none;\">\n",
              "        \n",
              "  <svg xmlns=\"http://www.w3.org/2000/svg\" height=\"24px\"viewBox=\"0 0 24 24\"\n",
              "       width=\"24px\">\n",
              "    <path d=\"M0 0h24v24H0V0z\" fill=\"none\"/>\n",
              "    <path d=\"M18.56 5.44l.94 2.06.94-2.06 2.06-.94-2.06-.94-.94-2.06-.94 2.06-2.06.94zm-11 1L8.5 8.5l.94-2.06 2.06-.94-2.06-.94L8.5 2.5l-.94 2.06-2.06.94zm10 10l.94 2.06.94-2.06 2.06-.94-2.06-.94-.94-2.06-.94 2.06-2.06.94z\"/><path d=\"M17.41 7.96l-1.37-1.37c-.4-.4-.92-.59-1.43-.59-.52 0-1.04.2-1.43.59L10.3 9.45l-7.72 7.72c-.78.78-.78 2.05 0 2.83L4 21.41c.39.39.9.59 1.41.59.51 0 1.02-.2 1.41-.59l7.78-7.78 2.81-2.81c.8-.78.8-2.07 0-2.86zM5.41 20L4 18.59l7.72-7.72 1.47 1.35L5.41 20z\"/>\n",
              "  </svg>\n",
              "      </button>\n",
              "      \n",
              "  <style>\n",
              "    .colab-df-container {\n",
              "      display:flex;\n",
              "      flex-wrap:wrap;\n",
              "      gap: 12px;\n",
              "    }\n",
              "\n",
              "    .colab-df-convert {\n",
              "      background-color: #E8F0FE;\n",
              "      border: none;\n",
              "      border-radius: 50%;\n",
              "      cursor: pointer;\n",
              "      display: none;\n",
              "      fill: #1967D2;\n",
              "      height: 32px;\n",
              "      padding: 0 0 0 0;\n",
              "      width: 32px;\n",
              "    }\n",
              "\n",
              "    .colab-df-convert:hover {\n",
              "      background-color: #E2EBFA;\n",
              "      box-shadow: 0px 1px 2px rgba(60, 64, 67, 0.3), 0px 1px 3px 1px rgba(60, 64, 67, 0.15);\n",
              "      fill: #174EA6;\n",
              "    }\n",
              "\n",
              "    [theme=dark] .colab-df-convert {\n",
              "      background-color: #3B4455;\n",
              "      fill: #D2E3FC;\n",
              "    }\n",
              "\n",
              "    [theme=dark] .colab-df-convert:hover {\n",
              "      background-color: #434B5C;\n",
              "      box-shadow: 0px 1px 3px 1px rgba(0, 0, 0, 0.15);\n",
              "      filter: drop-shadow(0px 1px 2px rgba(0, 0, 0, 0.3));\n",
              "      fill: #FFFFFF;\n",
              "    }\n",
              "  </style>\n",
              "\n",
              "      <script>\n",
              "        const buttonEl =\n",
              "          document.querySelector('#df-04d1cede-4e90-4bf0-8a0d-fbd11b376325 button.colab-df-convert');\n",
              "        buttonEl.style.display =\n",
              "          google.colab.kernel.accessAllowed ? 'block' : 'none';\n",
              "\n",
              "        async function convertToInteractive(key) {\n",
              "          const element = document.querySelector('#df-04d1cede-4e90-4bf0-8a0d-fbd11b376325');\n",
              "          const dataTable =\n",
              "            await google.colab.kernel.invokeFunction('convertToInteractive',\n",
              "                                                     [key], {});\n",
              "          if (!dataTable) return;\n",
              "\n",
              "          const docLinkHtml = 'Like what you see? Visit the ' +\n",
              "            '<a target=\"_blank\" href=https://colab.research.google.com/notebooks/data_table.ipynb>data table notebook</a>'\n",
              "            + ' to learn more about interactive tables.';\n",
              "          element.innerHTML = '';\n",
              "          dataTable['output_type'] = 'display_data';\n",
              "          await google.colab.output.renderOutput(dataTable, element);\n",
              "          const docLink = document.createElement('div');\n",
              "          docLink.innerHTML = docLinkHtml;\n",
              "          element.appendChild(docLink);\n",
              "        }\n",
              "      </script>\n",
              "    </div>\n",
              "  </div>\n",
              "  "
            ]
          },
          "metadata": {},
          "execution_count": 95
        }
      ]
    },
    {
      "cell_type": "code",
      "source": [
        "data['MedHouseVal'].hist(bins=20)"
      ],
      "metadata": {
        "id": "fw60Fgc6nMss",
        "outputId": "a835b41a-4576-4d45-a898-4a22f9d301f5",
        "colab": {
          "base_uri": "https://localhost:8080/",
          "height": 282
        }
      },
      "execution_count": 97,
      "outputs": [
        {
          "output_type": "execute_result",
          "data": {
            "text/plain": [
              "<matplotlib.axes._subplots.AxesSubplot at 0x7f28be705730>"
            ]
          },
          "metadata": {},
          "execution_count": 97
        },
        {
          "output_type": "display_data",
          "data": {
            "text/plain": [
              "<Figure size 432x288 with 1 Axes>"
            ],
            "image/png": "[encoded data removed]"
          },
          "metadata": {
            "needs_background": "light"
          }
        }
      ]
    },
    {
      "cell_type": "code",
      "source": [
        "data.describe().T"
      ],
      "metadata": {
        "id": "rG6FJ0ThoNxj",
        "outputId": "977d0207-46d7-4607-b78e-a9d52cd23360",
        "colab": {
          "base_uri": "https://localhost:8080/",
          "height": 332
        }
      },
      "execution_count": 98,
      "outputs": [
        {
          "output_type": "execute_result",
          "data": {
            "text/plain": [
              "               count         mean          std         min         25%  \\\n",
              "MedInc       10320.0     3.871272     1.882734    0.499900    2.566400   \n",
              "HouseAge     10320.0    28.563953    12.535705    1.000000   18.000000   \n",
              "AveRooms     10320.0     5.406346     1.980537    0.846154    4.442179   \n",
              "AveBedrms    10320.0     1.089676     0.338147    0.333333    1.004759   \n",
              "Population   10320.0  1435.094089  1143.276249    5.000000  792.000000   \n",
              "AveOccup     10320.0     3.143497    13.773622    0.692308    2.433546   \n",
              "Latitude     10320.0    35.638237     2.155225   32.550000   33.930000   \n",
              "Longitude    10320.0  -119.576441     2.011301 -124.350000 -121.810000   \n",
              "MedHouseVal  10320.0     2.067196     1.149138    0.149990    1.194000   \n",
              "\n",
              "                     50%          75%           max  \n",
              "MedInc          3.529450     4.764100     15.000100  \n",
              "HouseAge       29.000000    37.000000     52.000000  \n",
              "AveRooms        5.224934     6.051620     61.812500  \n",
              "AveBedrms       1.047619     1.097561     11.000000  \n",
              "Population   1168.000000  1742.000000  35682.000000  \n",
              "AveOccup        2.819478     3.279135   1243.333333  \n",
              "Latitude       34.250000    37.730000     41.950000  \n",
              "Longitude    -118.500000  -118.010000   -114.310000  \n",
              "MedHouseVal     1.804000     2.648250      5.000010  "
            ],
            "text/html": [
              "\n",
              "  <div id=\"df-9a62bb48-9a2c-4af9-9a56-99752db661f4\">\n",
              "    <div class=\"colab-df-container\">\n",
              "      <div>\n",
              "<style scoped>\n",
              "    .dataframe tbody tr th:only-of-type {\n",
              "        vertical-align: middle;\n",
              "    }\n",
              "\n",
              "    .dataframe tbody tr th {\n",
              "        vertical-align: top;\n",
              "    }\n",
              "\n",
              "    .dataframe thead th {\n",
              "        text-align: right;\n",
              "    }\n",
              "</style>\n",
              "<table border=\"1\" class=\"dataframe\">\n",
              "  <thead>\n",
              "    <tr style=\"text-align: right;\">\n",
              "      <th></th>\n",
              "      <th>count</th>\n",
              "      <th>mean</th>\n",
              "      <th>std</th>\n",
              "      <th>min</th>\n",
              "      <th>25%</th>\n",
              "      <th>50%</th>\n",
              "      <th>75%</th>\n",
              "      <th>max</th>\n",
              "    </tr>\n",
              "  </thead>\n",
              "  <tbody>\n",
              "    <tr>\n",
              "      <th>MedInc</th>\n",
              "      <td>10320.0</td>\n",
              "      <td>3.871272</td>\n",
              "      <td>1.882734</td>\n",
              "      <td>0.499900</td>\n",
              "      <td>2.566400</td>\n",
              "      <td>3.529450</td>\n",
              "      <td>4.764100</td>\n",
              "      <td>15.000100</td>\n",
              "    </tr>\n",
              "    <tr>\n",
              "      <th>HouseAge</th>\n",
              "      <td>10320.0</td>\n",
              "      <td>28.563953</td>\n",
              "      <td>12.535705</td>\n",
              "      <td>1.000000</td>\n",
              "      <td>18.000000</td>\n",
              "      <td>29.000000</td>\n",
              "      <td>37.000000</td>\n",
              "      <td>52.000000</td>\n",
              "    </tr>\n",
              "    <tr>\n",
              "      <th>AveRooms</th>\n",
              "      <td>10320.0</td>\n",
              "      <td>5.406346</td>\n",
              "      <td>1.980537</td>\n",
              "      <td>0.846154</td>\n",
              "      <td>4.442179</td>\n",
              "      <td>5.224934</td>\n",
              "      <td>6.051620</td>\n",
              "      <td>61.812500</td>\n",
              "    </tr>\n",
              "    <tr>\n",
              "      <th>AveBedrms</th>\n",
              "      <td>10320.0</td>\n",
              "      <td>1.089676</td>\n",
              "      <td>0.338147</td>\n",
              "      <td>0.333333</td>\n",
              "      <td>1.004759</td>\n",
              "      <td>1.047619</td>\n",
              "      <td>1.097561</td>\n",
              "      <td>11.000000</td>\n",
              "    </tr>\n",
              "    <tr>\n",
              "      <th>Population</th>\n",
              "      <td>10320.0</td>\n",
              "      <td>1435.094089</td>\n",
              "      <td>1143.276249</td>\n",
              "      <td>5.000000</td>\n",
              "      <td>792.000000</td>\n",
              "      <td>1168.000000</td>\n",
              "      <td>1742.000000</td>\n",
              "      <td>35682.000000</td>\n",
              "    </tr>\n",
              "    <tr>\n",
              "      <th>AveOccup</th>\n",
              "      <td>10320.0</td>\n",
              "      <td>3.143497</td>\n",
              "      <td>13.773622</td>\n",
              "      <td>0.692308</td>\n",
              "      <td>2.433546</td>\n",
              "      <td>2.819478</td>\n",
              "      <td>3.279135</td>\n",
              "      <td>1243.333333</td>\n",
              "    </tr>\n",
              "    <tr>\n",
              "      <th>Latitude</th>\n",
              "      <td>10320.0</td>\n",
              "      <td>35.638237</td>\n",
              "      <td>2.155225</td>\n",
              "      <td>32.550000</td>\n",
              "      <td>33.930000</td>\n",
              "      <td>34.250000</td>\n",
              "      <td>37.730000</td>\n",
              "      <td>41.950000</td>\n",
              "    </tr>\n",
              "    <tr>\n",
              "      <th>Longitude</th>\n",
              "      <td>10320.0</td>\n",
              "      <td>-119.576441</td>\n",
              "      <td>2.011301</td>\n",
              "      <td>-124.350000</td>\n",
              "      <td>-121.810000</td>\n",
              "      <td>-118.500000</td>\n",
              "      <td>-118.010000</td>\n",
              "      <td>-114.310000</td>\n",
              "    </tr>\n",
              "    <tr>\n",
              "      <th>MedHouseVal</th>\n",
              "      <td>10320.0</td>\n",
              "      <td>2.067196</td>\n",
              "      <td>1.149138</td>\n",
              "      <td>0.149990</td>\n",
              "      <td>1.194000</td>\n",
              "      <td>1.804000</td>\n",
              "      <td>2.648250</td>\n",
              "      <td>5.000010</td>\n",
              "    </tr>\n",
              "  </tbody>\n",
              "</table>\n",
              "</div>\n",
              "      <button class=\"colab-df-convert\" onclick=\"convertToInteractive('df-9a62bb48-9a2c-4af9-9a56-99752db661f4')\"\n",
              "              title=\"Convert this dataframe to an interactive table.\"\n",
              "              style=\"display:none;\">\n",
              "        \n",
              "  <svg xmlns=\"http://www.w3.org/2000/svg\" height=\"24px\"viewBox=\"0 0 24 24\"\n",
              "       width=\"24px\">\n",
              "    <path d=\"M0 0h24v24H0V0z\" fill=\"none\"/>\n",
              "    <path d=\"M18.56 5.44l.94 2.06.94-2.06 2.06-.94-2.06-.94-.94-2.06-.94 2.06-2.06.94zm-11 1L8.5 8.5l.94-2.06 2.06-.94-2.06-.94L8.5 2.5l-.94 2.06-2.06.94zm10 10l.94 2.06.94-2.06 2.06-.94-2.06-.94-.94-2.06-.94 2.06-2.06.94z\"/><path d=\"M17.41 7.96l-1.37-1.37c-.4-.4-.92-.59-1.43-.59-.52 0-1.04.2-1.43.59L10.3 9.45l-7.72 7.72c-.78.78-.78 2.05 0 2.83L4 21.41c.39.39.9.59 1.41.59.51 0 1.02-.2 1.41-.59l7.78-7.78 2.81-2.81c.8-.78.8-2.07 0-2.86zM5.41 20L4 18.59l7.72-7.72 1.47 1.35L5.41 20z\"/>\n",
              "  </svg>\n",
              "      </button>\n",
              "      \n",
              "  <style>\n",
              "    .colab-df-container {\n",
              "      display:flex;\n",
              "      flex-wrap:wrap;\n",
              "      gap: 12px;\n",
              "    }\n",
              "\n",
              "    .colab-df-convert {\n",
              "      background-color: #E8F0FE;\n",
              "      border: none;\n",
              "      border-radius: 50%;\n",
              "      cursor: pointer;\n",
              "      display: none;\n",
              "      fill: #1967D2;\n",
              "      height: 32px;\n",
              "      padding: 0 0 0 0;\n",
              "      width: 32px;\n",
              "    }\n",
              "\n",
              "    .colab-df-convert:hover {\n",
              "      background-color: #E2EBFA;\n",
              "      box-shadow: 0px 1px 2px rgba(60, 64, 67, 0.3), 0px 1px 3px 1px rgba(60, 64, 67, 0.15);\n",
              "      fill: #174EA6;\n",
              "    }\n",
              "\n",
              "    [theme=dark] .colab-df-convert {\n",
              "      background-color: #3B4455;\n",
              "      fill: #D2E3FC;\n",
              "    }\n",
              "\n",
              "    [theme=dark] .colab-df-convert:hover {\n",
              "      background-color: #434B5C;\n",
              "      box-shadow: 0px 1px 3px 1px rgba(0, 0, 0, 0.15);\n",
              "      filter: drop-shadow(0px 1px 2px rgba(0, 0, 0, 0.3));\n",
              "      fill: #FFFFFF;\n",
              "    }\n",
              "  </style>\n",
              "\n",
              "      <script>\n",
              "        const buttonEl =\n",
              "          document.querySelector('#df-9a62bb48-9a2c-4af9-9a56-99752db661f4 button.colab-df-convert');\n",
              "        buttonEl.style.display =\n",
              "          google.colab.kernel.accessAllowed ? 'block' : 'none';\n",
              "\n",
              "        async function convertToInteractive(key) {\n",
              "          const element = document.querySelector('#df-9a62bb48-9a2c-4af9-9a56-99752db661f4');\n",
              "          const dataTable =\n",
              "            await google.colab.kernel.invokeFunction('convertToInteractive',\n",
              "                                                     [key], {});\n",
              "          if (!dataTable) return;\n",
              "\n",
              "          const docLinkHtml = 'Like what you see? Visit the ' +\n",
              "            '<a target=\"_blank\" href=https://colab.research.google.com/notebooks/data_table.ipynb>data table notebook</a>'\n",
              "            + ' to learn more about interactive tables.';\n",
              "          element.innerHTML = '';\n",
              "          dataTable['output_type'] = 'display_data';\n",
              "          await google.colab.output.renderOutput(dataTable, element);\n",
              "          const docLink = document.createElement('div');\n",
              "          docLink.innerHTML = docLinkHtml;\n",
              "          element.appendChild(docLink);\n",
              "        }\n",
              "      </script>\n",
              "    </div>\n",
              "  </div>\n",
              "  "
            ]
          },
          "metadata": {},
          "execution_count": 98
        }
      ]
    },
    {
      "cell_type": "code",
      "source": [
        "x_cols = ['MedInc', 'HouseAge', 'AveRooms', 'AveBedrms', 'Population', 'AveOccup', 'Latitude', 'Longitude']\n",
        "y_col = 'MedHouseVal'\n",
        "X_df = data[x_cols]\n",
        "Y_sr = data[y_col]"
      ],
      "metadata": {
        "id": "WghHK2r3bD8A"
      },
      "execution_count": 21,
      "outputs": []
    },
    {
      "cell_type": "code",
      "source": [
        "X_train_df, X_test_df, Y_train_sr, Y_test_sr = train_test_split(\n",
        "    X_df, Y_sr, \n",
        "    test_size=0.33, \n",
        "    random_state=42\n",
        ")"
      ],
      "metadata": {
        "id": "EEjIHVfQZgN5"
      },
      "execution_count": 77,
      "outputs": []
    },
    {
      "cell_type": "code",
      "source": [
        "x_scaler = preprocessing.StandardScaler()\n",
        "X_tr_scaled = x_scaler.fit_transform(X_train_df)\n",
        "X_te_scaled = x_scaler.transform(X_test_df)"
      ],
      "metadata": {
        "id": "U-rueaNipvot"
      },
      "execution_count": 100,
      "outputs": []
    },
    {
      "cell_type": "code",
      "source": [
        "class Data(Dataset):\n",
        "\n",
        "    def __init__(self, X_train, y_train):\n",
        "        # need to convert float64 to float32 else \n",
        "        # will get the following error\n",
        "        # RuntimeError: expected scalar type Double but found Float\n",
        "        self.X = torch.from_numpy(X_train).type(torch.FloatTensor)\n",
        "        # need to convert float64 to Long else \n",
        "        # will get the following error\n",
        "        # RuntimeError: expected scalar type Long but found Float\n",
        "        self.y = torch.from_numpy(y_train).type(torch.FloatTensor)\n",
        "        self.len = self.X.shape[0]\n",
        "\n",
        "    def __getitem__(self, index):\n",
        "        return self.X[index], self.y[index]\n",
        "\n",
        "    def __len__(self):\n",
        "        return self.len"
      ],
      "metadata": {
        "id": "vj-9rIzvb-ws"
      },
      "execution_count": 101,
      "outputs": []
    },
    {
      "cell_type": "code",
      "source": [
        "train_data = Data(X_tr_scaled, Y_train_sr.values)"
      ],
      "metadata": {
        "id": "8qXghuWHfC9J"
      },
      "execution_count": 103,
      "outputs": []
    },
    {
      "cell_type": "code",
      "source": [
        "batch_size = 32\n",
        "trainloader = DataLoader(\n",
        "    train_data, \n",
        "    batch_size=batch_size, \n",
        "    shuffle=True, \n",
        "    num_workers=2\n",
        ")"
      ],
      "metadata": {
        "id": "Epl8v7iffcD8"
      },
      "execution_count": 104,
      "outputs": []
    },
    {
      "cell_type": "markdown",
      "source": [
        "# Model"
      ],
      "metadata": {
        "id": "quZQ2JaLlABA"
      }
    },
    {
      "cell_type": "code",
      "source": [
        "# number of features (len of X cols)\n",
        "input_dim = len(x_cols)\n",
        "# number of hidden layers\n",
        "hidden_layers = 25\n",
        "# number of classes (unique of y)\n",
        "output_dim = 1"
      ],
      "metadata": {
        "id": "jYsF9eqvf0b0"
      },
      "execution_count": 105,
      "outputs": []
    },
    {
      "cell_type": "code",
      "source": [
        "class Network(nn.Module):\n",
        "\n",
        "    def __init__(self):\n",
        "        super(Network, self).__init__()\n",
        "        self.linear1 = nn.Linear(input_dim, hidden_layers)\n",
        "        self.linear2 = nn.Linear(hidden_layers, output_dim)\n",
        "\n",
        "    def forward(self, x):\n",
        "        x = torch.sigmoid(self.linear1(x))\n",
        "        x = self.linear2(x)\n",
        "        return x\n"
      ],
      "metadata": {
        "id": "Mao5K4uxgnrn"
      },
      "execution_count": 106,
      "outputs": []
    },
    {
      "cell_type": "code",
      "source": [
        "model = Network()"
      ],
      "metadata": {
        "id": "lAjKXkzFgqht"
      },
      "execution_count": 107,
      "outputs": []
    },
    {
      "cell_type": "code",
      "source": [
        "model"
      ],
      "metadata": {
        "colab": {
          "base_uri": "https://localhost:8080/"
        },
        "id": "dunITjD-hIIB",
        "outputId": "60ac71c2-1c51-44cc-9c44-f3fa476bd9b1"
      },
      "execution_count": 108,
      "outputs": [
        {
          "output_type": "execute_result",
          "data": {
            "text/plain": [
              "Network(\n",
              "  (linear1): Linear(in_features=8, out_features=25, bias=True)\n",
              "  (linear2): Linear(in_features=25, out_features=1, bias=True)\n",
              ")"
            ]
          },
          "metadata": {},
          "execution_count": 108
        }
      ]
    },
    {
      "cell_type": "code",
      "source": [
        "criterion = nn.MSELoss()\n",
        "optimizer = torch.optim.SGD(model.parameters(), lr=0.001)"
      ],
      "metadata": {
        "id": "RdRrhMqlhI5h"
      },
      "execution_count": 109,
      "outputs": []
    },
    {
      "cell_type": "code",
      "source": [
        "epochs = 100\n",
        "for epoch in range(epochs):\n",
        "    losses = []\n",
        "    for i, data in enumerate(trainloader):\n",
        "        inputs, labels = data\n",
        "        labels = labels.unsqueeze(1)\n",
        "        # set optimizer to zero grad to remove previous epoch gradients\n",
        "        optimizer.zero_grad()\n",
        "        # forward propagation\n",
        "        outputs = model(inputs)\n",
        "        loss = criterion(outputs, labels)\n",
        "        # backward propagation\n",
        "        loss.backward()\n",
        "        # optimize\n",
        "        optimizer.step()\n",
        "        losses += [loss.item()]\n",
        "    # display statistics\n",
        "    if (epoch + 1) % 10 == 0:\n",
        "        print(f'[{epoch + 1}, {i + 1:5d}] loss: {np.mean(losses) :.3f}')"
      ],
      "metadata": {
        "colab": {
          "base_uri": "https://localhost:8080/"
        },
        "id": "8YevNLeRjSLo",
        "outputId": "e40a5081-3b89-4f95-d3cd-e2a92dc813dd"
      },
      "execution_count": 123,
      "outputs": [
        {
          "output_type": "stream",
          "name": "stdout",
          "text": [
            "[10,   217] loss: 0.911\n",
            "[20,   217] loss: 0.669\n",
            "[30,   217] loss: 0.601\n",
            "[40,   217] loss: 0.577\n",
            "[50,   217] loss: 0.578\n",
            "[60,   217] loss: 0.555\n",
            "[70,   217] loss: 0.544\n",
            "[80,   217] loss: 0.534\n",
            "[90,   217] loss: 0.528\n",
            "[100,   217] loss: 0.519\n"
          ]
        }
      ]
    },
    {
      "cell_type": "code",
      "source": [],
      "metadata": {
        "id": "QGTPsUGLqlB1"
      },
      "execution_count": null,
      "outputs": []
    }
  ],
  "metadata": {
    "language_info": {
      "name": "python"
    },
    "orig_nbformat": 4,
    "colab": {
      "provenance": [],
      "toc_visible": true
    },
    "kernelspec": {
      "name": "python3",
      "display_name": "Python 3"
    },
    "gpuClass": "standard"
  },
  "nbformat": 4,
  "nbformat_minor": 0
}