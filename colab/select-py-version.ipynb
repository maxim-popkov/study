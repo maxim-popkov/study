{
  "cells": [
    {
      "cell_type": "markdown",
      "metadata": {
        "id": "view-in-github",
        "colab_type": "text"
      },
      "source": [
        "<a href=\"https://colab.research.google.com/github/maxim-popkov/study/blob/colab/colab/select-py-version.ipynb\" target=\"_parent\"><img src=\"https://colab.research.google.com/assets/colab-badge.svg\" alt=\"Open In Colab\"/></a>"
      ]
    },
    {
      "cell_type": "markdown",
      "metadata": {
        "id": "vHgnI-yFPiEX"
      },
      "source": [
        "Open jupyter notebook and add to jupyter metadata key\n",
        "```\n",
        "    \"kernelspec\": {\n",
        "      \"display_name\": \"DevPythonENV\",\n",
        "      \"name\": \"DevPythonENV\"\n",
        "    },\n",
        "```\n",
        "or copy\\use this notebook"
      ]
    },
    {
      "cell_type": "markdown",
      "metadata": {
        "id": "8RRPGFSqDO3W"
      },
      "source": [
        "Edit miniconda version (check here: https://docs.conda.io/en/latest/miniconda.html)\n",
        "\n",
        "Run cell"
      ]
    },
    {
      "cell_type": "code",
      "execution_count": null,
      "metadata": {
        "id": "drPL-e8eAG7M",
        "vscode": {
          "languageId": "python"
        }
      },
      "outputs": [],
      "source": [
        "!wget -O mini.sh https://repo.anaconda.com/miniconda/Miniconda3-py310_22.11.1-1-Linux-x86_64.sh\n",
        "!chmod +x mini.sh\n",
        "!bash ./mini.sh -b -f -p /usr/local\n",
        "!conda install -q -y jupyter\n",
        "!conda install -q -y google-colab -c conda-forge\n",
        "!python -m ipykernel install --name \"DevPythonENV\" --user"
      ]
    },
    {
      "cell_type": "markdown",
      "source": [
        "Reload Browser Page (CTRL + R), then run the last cell"
      ],
      "metadata": {
        "id": "MiUENG-vQ0tN"
      }
    },
    {
      "cell_type": "code",
      "execution_count": 1,
      "metadata": {
        "colab": {
          "base_uri": "https://localhost:8080/"
        },
        "id": "H80WJWdPFLFL",
        "outputId": "d1f8ddbd-b7f8-4364-dbcb-52a3fc2d79a4",
        "vscode": {
          "languageId": "python"
        }
      },
      "outputs": [
        {
          "output_type": "stream",
          "name": "stdout",
          "text": [
            "version: 3.10.8 (main, Nov 24 2022, 14:13:03) [GCC 11.2.0]\n"
          ]
        }
      ],
      "source": [
        "import sys\n",
        "print(\"version:\", sys.version)"
      ]
    }
  ],
  "metadata": {
    "accelerator": "GPU",
    "colab": {
      "provenance": [],
      "include_colab_link": true
    },
    "gpuClass": "standard",
    "kernelspec": {
      "display_name": "DevPythonENV",
      "name": "DevPythonENV"
    }
  },
  "nbformat": 4,
  "nbformat_minor": 0
}